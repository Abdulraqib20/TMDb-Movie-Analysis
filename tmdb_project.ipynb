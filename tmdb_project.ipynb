{
 "cells": [
  {
   "cell_type": "markdown",
   "id": "06c96dad-723f-4c26-be72-2f7dd42764fd",
   "metadata": {
    "tags": []
   },
   "source": [
    "# Project: TMBd Movie Data Analysis\n",
    "\n",
    "## Table of Contents\n",
    "<ul>\n",
    "<li><a href=\"#intro\">Introduction</a></li>\n",
    "<li><a href=\"#wrangling\">Data Wrangling</a></li>\n",
    "<li><a href=\"#eda\">Exploratory Data Analysis</a></li>\n",
    "<!-- <li><a href=\"#conclusions\">Conclusions</a></li>     -->\n",
    "</ul>"
   ]
  },
  {
   "cell_type": "markdown",
   "id": "41385b65-9bb5-45ba-b30b-ffd055b62ac9",
   "metadata": {
    "tags": []
   },
   "source": [
    "<a id='intro'></a>\n",
    "## Introduction\n",
    "\n",
    "This is a part of the projects I did in the Udacity Data Analyst Nanodegree Programme.\n",
    "\n",
    "The data set contains observation of about 10,000 movies collected from The Movie Database (TMDb), including user ratings and revenue. You can find more about the dataset [here](https://www.kaggle.com/datasets/juzershakir/tmdb-movies-dataset). In this project, I'm going to investigate the dataset to find out the movies with highest profits, hits and other interesting stuff about movies from the data."
   ]
  },
  {
   "cell_type": "code",
   "execution_count": 1,
   "id": "57b0042e-d7eb-482d-b79c-f4c54d47a32b",
   "metadata": {},
   "outputs": [],
   "source": [
    "# import libraries and packages\n",
    "import pandas as pd\n",
    "import numpy as np\n",
    "import matplotlib.pyplot as plt\n",
    "import seaborn as sns\n",
    "sns.set_theme(style='white', palette='muted')\n",
    "import warnings\n",
    "warnings.filterwarnings(action='ignore')"
   ]
  },
  {
   "cell_type": "code",
   "execution_count": 2,
   "id": "6043b8f3-72db-4578-b898-e5cc51e68956",
   "metadata": {},
   "outputs": [
    {
     "data": {
      "text/html": [
       "<div>\n",
       "<style scoped>\n",
       "    .dataframe tbody tr th:only-of-type {\n",
       "        vertical-align: middle;\n",
       "    }\n",
       "\n",
       "    .dataframe tbody tr th {\n",
       "        vertical-align: top;\n",
       "    }\n",
       "\n",
       "    .dataframe thead th {\n",
       "        text-align: right;\n",
       "    }\n",
       "</style>\n",
       "<table border=\"1\" class=\"dataframe\">\n",
       "  <thead>\n",
       "    <tr style=\"text-align: right;\">\n",
       "      <th></th>\n",
       "      <th>id</th>\n",
       "      <th>imdb_id</th>\n",
       "      <th>popularity</th>\n",
       "      <th>budget</th>\n",
       "      <th>revenue</th>\n",
       "      <th>original_title</th>\n",
       "      <th>cast</th>\n",
       "      <th>homepage</th>\n",
       "      <th>director</th>\n",
       "      <th>tagline</th>\n",
       "      <th>...</th>\n",
       "      <th>overview</th>\n",
       "      <th>runtime</th>\n",
       "      <th>genres</th>\n",
       "      <th>production_companies</th>\n",
       "      <th>release_date</th>\n",
       "      <th>vote_count</th>\n",
       "      <th>vote_average</th>\n",
       "      <th>release_year</th>\n",
       "      <th>budget_adj</th>\n",
       "      <th>revenue_adj</th>\n",
       "    </tr>\n",
       "  </thead>\n",
       "  <tbody>\n",
       "    <tr>\n",
       "      <th>0</th>\n",
       "      <td>135397</td>\n",
       "      <td>tt0369610</td>\n",
       "      <td>32.985763</td>\n",
       "      <td>150000000</td>\n",
       "      <td>1513528810</td>\n",
       "      <td>Jurassic World</td>\n",
       "      <td>Chris Pratt|Bryce Dallas Howard|Irrfan Khan|Vi...</td>\n",
       "      <td>http://www.jurassicworld.com/</td>\n",
       "      <td>Colin Trevorrow</td>\n",
       "      <td>The park is open.</td>\n",
       "      <td>...</td>\n",
       "      <td>Twenty-two years after the events of Jurassic ...</td>\n",
       "      <td>124</td>\n",
       "      <td>Action|Adventure|Science Fiction|Thriller</td>\n",
       "      <td>Universal Studios|Amblin Entertainment|Legenda...</td>\n",
       "      <td>6/9/15</td>\n",
       "      <td>5562</td>\n",
       "      <td>6.5</td>\n",
       "      <td>2015</td>\n",
       "      <td>1.379999e+08</td>\n",
       "      <td>1.392446e+09</td>\n",
       "    </tr>\n",
       "    <tr>\n",
       "      <th>1</th>\n",
       "      <td>76341</td>\n",
       "      <td>tt1392190</td>\n",
       "      <td>28.419936</td>\n",
       "      <td>150000000</td>\n",
       "      <td>378436354</td>\n",
       "      <td>Mad Max: Fury Road</td>\n",
       "      <td>Tom Hardy|Charlize Theron|Hugh Keays-Byrne|Nic...</td>\n",
       "      <td>http://www.madmaxmovie.com/</td>\n",
       "      <td>George Miller</td>\n",
       "      <td>What a Lovely Day.</td>\n",
       "      <td>...</td>\n",
       "      <td>An apocalyptic story set in the furthest reach...</td>\n",
       "      <td>120</td>\n",
       "      <td>Action|Adventure|Science Fiction|Thriller</td>\n",
       "      <td>Village Roadshow Pictures|Kennedy Miller Produ...</td>\n",
       "      <td>5/13/15</td>\n",
       "      <td>6185</td>\n",
       "      <td>7.1</td>\n",
       "      <td>2015</td>\n",
       "      <td>1.379999e+08</td>\n",
       "      <td>3.481613e+08</td>\n",
       "    </tr>\n",
       "    <tr>\n",
       "      <th>2</th>\n",
       "      <td>262500</td>\n",
       "      <td>tt2908446</td>\n",
       "      <td>13.112507</td>\n",
       "      <td>110000000</td>\n",
       "      <td>295238201</td>\n",
       "      <td>Insurgent</td>\n",
       "      <td>Shailene Woodley|Theo James|Kate Winslet|Ansel...</td>\n",
       "      <td>http://www.thedivergentseries.movie/#insurgent</td>\n",
       "      <td>Robert Schwentke</td>\n",
       "      <td>One Choice Can Destroy You</td>\n",
       "      <td>...</td>\n",
       "      <td>Beatrice Prior must confront her inner demons ...</td>\n",
       "      <td>119</td>\n",
       "      <td>Adventure|Science Fiction|Thriller</td>\n",
       "      <td>Summit Entertainment|Mandeville Films|Red Wago...</td>\n",
       "      <td>3/18/15</td>\n",
       "      <td>2480</td>\n",
       "      <td>6.3</td>\n",
       "      <td>2015</td>\n",
       "      <td>1.012000e+08</td>\n",
       "      <td>2.716190e+08</td>\n",
       "    </tr>\n",
       "    <tr>\n",
       "      <th>3</th>\n",
       "      <td>140607</td>\n",
       "      <td>tt2488496</td>\n",
       "      <td>11.173104</td>\n",
       "      <td>200000000</td>\n",
       "      <td>2068178225</td>\n",
       "      <td>Star Wars: The Force Awakens</td>\n",
       "      <td>Harrison Ford|Mark Hamill|Carrie Fisher|Adam D...</td>\n",
       "      <td>http://www.starwars.com/films/star-wars-episod...</td>\n",
       "      <td>J.J. Abrams</td>\n",
       "      <td>Every generation has a story.</td>\n",
       "      <td>...</td>\n",
       "      <td>Thirty years after defeating the Galactic Empi...</td>\n",
       "      <td>136</td>\n",
       "      <td>Action|Adventure|Science Fiction|Fantasy</td>\n",
       "      <td>Lucasfilm|Truenorth Productions|Bad Robot</td>\n",
       "      <td>12/15/15</td>\n",
       "      <td>5292</td>\n",
       "      <td>7.5</td>\n",
       "      <td>2015</td>\n",
       "      <td>1.839999e+08</td>\n",
       "      <td>1.902723e+09</td>\n",
       "    </tr>\n",
       "    <tr>\n",
       "      <th>4</th>\n",
       "      <td>168259</td>\n",
       "      <td>tt2820852</td>\n",
       "      <td>9.335014</td>\n",
       "      <td>190000000</td>\n",
       "      <td>1506249360</td>\n",
       "      <td>Furious 7</td>\n",
       "      <td>Vin Diesel|Paul Walker|Jason Statham|Michelle ...</td>\n",
       "      <td>http://www.furious7.com/</td>\n",
       "      <td>James Wan</td>\n",
       "      <td>Vengeance Hits Home</td>\n",
       "      <td>...</td>\n",
       "      <td>Deckard Shaw seeks revenge against Dominic Tor...</td>\n",
       "      <td>137</td>\n",
       "      <td>Action|Crime|Thriller</td>\n",
       "      <td>Universal Pictures|Original Film|Media Rights ...</td>\n",
       "      <td>4/1/15</td>\n",
       "      <td>2947</td>\n",
       "      <td>7.3</td>\n",
       "      <td>2015</td>\n",
       "      <td>1.747999e+08</td>\n",
       "      <td>1.385749e+09</td>\n",
       "    </tr>\n",
       "  </tbody>\n",
       "</table>\n",
       "<p>5 rows × 21 columns</p>\n",
       "</div>"
      ],
      "text/plain": [
       "       id    imdb_id  popularity     budget     revenue  \\\n",
       "0  135397  tt0369610   32.985763  150000000  1513528810   \n",
       "1   76341  tt1392190   28.419936  150000000   378436354   \n",
       "2  262500  tt2908446   13.112507  110000000   295238201   \n",
       "3  140607  tt2488496   11.173104  200000000  2068178225   \n",
       "4  168259  tt2820852    9.335014  190000000  1506249360   \n",
       "\n",
       "                 original_title  \\\n",
       "0                Jurassic World   \n",
       "1            Mad Max: Fury Road   \n",
       "2                     Insurgent   \n",
       "3  Star Wars: The Force Awakens   \n",
       "4                     Furious 7   \n",
       "\n",
       "                                                cast  \\\n",
       "0  Chris Pratt|Bryce Dallas Howard|Irrfan Khan|Vi...   \n",
       "1  Tom Hardy|Charlize Theron|Hugh Keays-Byrne|Nic...   \n",
       "2  Shailene Woodley|Theo James|Kate Winslet|Ansel...   \n",
       "3  Harrison Ford|Mark Hamill|Carrie Fisher|Adam D...   \n",
       "4  Vin Diesel|Paul Walker|Jason Statham|Michelle ...   \n",
       "\n",
       "                                            homepage          director  \\\n",
       "0                      http://www.jurassicworld.com/   Colin Trevorrow   \n",
       "1                        http://www.madmaxmovie.com/     George Miller   \n",
       "2     http://www.thedivergentseries.movie/#insurgent  Robert Schwentke   \n",
       "3  http://www.starwars.com/films/star-wars-episod...       J.J. Abrams   \n",
       "4                           http://www.furious7.com/         James Wan   \n",
       "\n",
       "                         tagline  ...  \\\n",
       "0              The park is open.  ...   \n",
       "1             What a Lovely Day.  ...   \n",
       "2     One Choice Can Destroy You  ...   \n",
       "3  Every generation has a story.  ...   \n",
       "4            Vengeance Hits Home  ...   \n",
       "\n",
       "                                            overview runtime  \\\n",
       "0  Twenty-two years after the events of Jurassic ...     124   \n",
       "1  An apocalyptic story set in the furthest reach...     120   \n",
       "2  Beatrice Prior must confront her inner demons ...     119   \n",
       "3  Thirty years after defeating the Galactic Empi...     136   \n",
       "4  Deckard Shaw seeks revenge against Dominic Tor...     137   \n",
       "\n",
       "                                      genres  \\\n",
       "0  Action|Adventure|Science Fiction|Thriller   \n",
       "1  Action|Adventure|Science Fiction|Thriller   \n",
       "2         Adventure|Science Fiction|Thriller   \n",
       "3   Action|Adventure|Science Fiction|Fantasy   \n",
       "4                      Action|Crime|Thriller   \n",
       "\n",
       "                                production_companies release_date vote_count  \\\n",
       "0  Universal Studios|Amblin Entertainment|Legenda...       6/9/15       5562   \n",
       "1  Village Roadshow Pictures|Kennedy Miller Produ...      5/13/15       6185   \n",
       "2  Summit Entertainment|Mandeville Films|Red Wago...      3/18/15       2480   \n",
       "3          Lucasfilm|Truenorth Productions|Bad Robot     12/15/15       5292   \n",
       "4  Universal Pictures|Original Film|Media Rights ...       4/1/15       2947   \n",
       "\n",
       "   vote_average  release_year    budget_adj   revenue_adj  \n",
       "0           6.5          2015  1.379999e+08  1.392446e+09  \n",
       "1           7.1          2015  1.379999e+08  3.481613e+08  \n",
       "2           6.3          2015  1.012000e+08  2.716190e+08  \n",
       "3           7.5          2015  1.839999e+08  1.902723e+09  \n",
       "4           7.3          2015  1.747999e+08  1.385749e+09  \n",
       "\n",
       "[5 rows x 21 columns]"
      ]
     },
     "execution_count": 2,
     "metadata": {},
     "output_type": "execute_result"
    }
   ],
   "source": [
    "df = pd.read_csv('tmdb-movies.csv')\n",
    "df.head()"
   ]
  },
  {
   "cell_type": "markdown",
   "id": "c25cf20c-31b5-4821-821a-a37fcbdeab6b",
   "metadata": {},
   "source": [
    "<a id='wrangling'></a>\n",
    "## Data Wrangling\n",
    "\n",
    "I'd be accessing, cleaning and exploring the dataset."
   ]
  },
  {
   "cell_type": "code",
   "execution_count": 4,
   "id": "4f8677a1-0def-47ff-9563-065a06a99476",
   "metadata": {},
   "outputs": [
    {
     "name": "stdout",
     "output_type": "stream",
     "text": [
      "(10866, 21)\n",
      "<class 'pandas.core.frame.DataFrame'>\n",
      "RangeIndex: 10866 entries, 0 to 10865\n",
      "Data columns (total 21 columns):\n",
      " #   Column                Non-Null Count  Dtype  \n",
      "---  ------                --------------  -----  \n",
      " 0   id                    10866 non-null  int64  \n",
      " 1   imdb_id               10856 non-null  object \n",
      " 2   popularity            10866 non-null  float64\n",
      " 3   budget                10866 non-null  int64  \n",
      " 4   revenue               10866 non-null  int64  \n",
      " 5   original_title        10866 non-null  object \n",
      " 6   cast                  10790 non-null  object \n",
      " 7   homepage              2936 non-null   object \n",
      " 8   director              10822 non-null  object \n",
      " 9   tagline               8042 non-null   object \n",
      " 10  keywords              9373 non-null   object \n",
      " 11  overview              10862 non-null  object \n",
      " 12  runtime               10866 non-null  int64  \n",
      " 13  genres                10843 non-null  object \n",
      " 14  production_companies  9836 non-null   object \n",
      " 15  release_date          10866 non-null  object \n",
      " 16  vote_count            10866 non-null  int64  \n",
      " 17  vote_average          10866 non-null  float64\n",
      " 18  release_year          10866 non-null  int64  \n",
      " 19  budget_adj            10866 non-null  float64\n",
      " 20  revenue_adj           10866 non-null  float64\n",
      "dtypes: float64(4), int64(6), object(11)\n",
      "memory usage: 1.7+ MB\n"
     ]
    }
   ],
   "source": [
    "print(df.shape)\n",
    "df.info()"
   ]
  },
  {
   "cell_type": "code",
   "execution_count": 5,
   "id": "e26e9515-ee5e-411c-a061-691af16a24c2",
   "metadata": {},
   "outputs": [
    {
     "data": {
      "text/html": [
       "<div>\n",
       "<style scoped>\n",
       "    .dataframe tbody tr th:only-of-type {\n",
       "        vertical-align: middle;\n",
       "    }\n",
       "\n",
       "    .dataframe tbody tr th {\n",
       "        vertical-align: top;\n",
       "    }\n",
       "\n",
       "    .dataframe thead th {\n",
       "        text-align: right;\n",
       "    }\n",
       "</style>\n",
       "<table border=\"1\" class=\"dataframe\">\n",
       "  <thead>\n",
       "    <tr style=\"text-align: right;\">\n",
       "      <th></th>\n",
       "      <th>id</th>\n",
       "      <th>popularity</th>\n",
       "      <th>budget</th>\n",
       "      <th>revenue</th>\n",
       "      <th>runtime</th>\n",
       "      <th>vote_count</th>\n",
       "      <th>vote_average</th>\n",
       "      <th>release_year</th>\n",
       "      <th>budget_adj</th>\n",
       "      <th>revenue_adj</th>\n",
       "    </tr>\n",
       "  </thead>\n",
       "  <tbody>\n",
       "    <tr>\n",
       "      <th>count</th>\n",
       "      <td>10866.000000</td>\n",
       "      <td>10866.000000</td>\n",
       "      <td>1.086600e+04</td>\n",
       "      <td>1.086600e+04</td>\n",
       "      <td>10866.000000</td>\n",
       "      <td>10866.000000</td>\n",
       "      <td>10866.000000</td>\n",
       "      <td>10866.000000</td>\n",
       "      <td>1.086600e+04</td>\n",
       "      <td>1.086600e+04</td>\n",
       "    </tr>\n",
       "    <tr>\n",
       "      <th>mean</th>\n",
       "      <td>66064.177434</td>\n",
       "      <td>0.646441</td>\n",
       "      <td>1.462570e+07</td>\n",
       "      <td>3.982332e+07</td>\n",
       "      <td>102.070863</td>\n",
       "      <td>217.389748</td>\n",
       "      <td>5.974922</td>\n",
       "      <td>2001.322658</td>\n",
       "      <td>1.755104e+07</td>\n",
       "      <td>5.136436e+07</td>\n",
       "    </tr>\n",
       "    <tr>\n",
       "      <th>std</th>\n",
       "      <td>92130.136561</td>\n",
       "      <td>1.000185</td>\n",
       "      <td>3.091321e+07</td>\n",
       "      <td>1.170035e+08</td>\n",
       "      <td>31.381405</td>\n",
       "      <td>575.619058</td>\n",
       "      <td>0.935142</td>\n",
       "      <td>12.812941</td>\n",
       "      <td>3.430616e+07</td>\n",
       "      <td>1.446325e+08</td>\n",
       "    </tr>\n",
       "    <tr>\n",
       "      <th>min</th>\n",
       "      <td>5.000000</td>\n",
       "      <td>0.000065</td>\n",
       "      <td>0.000000e+00</td>\n",
       "      <td>0.000000e+00</td>\n",
       "      <td>0.000000</td>\n",
       "      <td>10.000000</td>\n",
       "      <td>1.500000</td>\n",
       "      <td>1960.000000</td>\n",
       "      <td>0.000000e+00</td>\n",
       "      <td>0.000000e+00</td>\n",
       "    </tr>\n",
       "    <tr>\n",
       "      <th>25%</th>\n",
       "      <td>10596.250000</td>\n",
       "      <td>0.207583</td>\n",
       "      <td>0.000000e+00</td>\n",
       "      <td>0.000000e+00</td>\n",
       "      <td>90.000000</td>\n",
       "      <td>17.000000</td>\n",
       "      <td>5.400000</td>\n",
       "      <td>1995.000000</td>\n",
       "      <td>0.000000e+00</td>\n",
       "      <td>0.000000e+00</td>\n",
       "    </tr>\n",
       "    <tr>\n",
       "      <th>50%</th>\n",
       "      <td>20669.000000</td>\n",
       "      <td>0.383856</td>\n",
       "      <td>0.000000e+00</td>\n",
       "      <td>0.000000e+00</td>\n",
       "      <td>99.000000</td>\n",
       "      <td>38.000000</td>\n",
       "      <td>6.000000</td>\n",
       "      <td>2006.000000</td>\n",
       "      <td>0.000000e+00</td>\n",
       "      <td>0.000000e+00</td>\n",
       "    </tr>\n",
       "    <tr>\n",
       "      <th>75%</th>\n",
       "      <td>75610.000000</td>\n",
       "      <td>0.713817</td>\n",
       "      <td>1.500000e+07</td>\n",
       "      <td>2.400000e+07</td>\n",
       "      <td>111.000000</td>\n",
       "      <td>145.750000</td>\n",
       "      <td>6.600000</td>\n",
       "      <td>2011.000000</td>\n",
       "      <td>2.085325e+07</td>\n",
       "      <td>3.369710e+07</td>\n",
       "    </tr>\n",
       "    <tr>\n",
       "      <th>max</th>\n",
       "      <td>417859.000000</td>\n",
       "      <td>32.985763</td>\n",
       "      <td>4.250000e+08</td>\n",
       "      <td>2.781506e+09</td>\n",
       "      <td>900.000000</td>\n",
       "      <td>9767.000000</td>\n",
       "      <td>9.200000</td>\n",
       "      <td>2015.000000</td>\n",
       "      <td>4.250000e+08</td>\n",
       "      <td>2.827124e+09</td>\n",
       "    </tr>\n",
       "  </tbody>\n",
       "</table>\n",
       "</div>"
      ],
      "text/plain": [
       "                  id    popularity        budget       revenue       runtime  \\\n",
       "count   10866.000000  10866.000000  1.086600e+04  1.086600e+04  10866.000000   \n",
       "mean    66064.177434      0.646441  1.462570e+07  3.982332e+07    102.070863   \n",
       "std     92130.136561      1.000185  3.091321e+07  1.170035e+08     31.381405   \n",
       "min         5.000000      0.000065  0.000000e+00  0.000000e+00      0.000000   \n",
       "25%     10596.250000      0.207583  0.000000e+00  0.000000e+00     90.000000   \n",
       "50%     20669.000000      0.383856  0.000000e+00  0.000000e+00     99.000000   \n",
       "75%     75610.000000      0.713817  1.500000e+07  2.400000e+07    111.000000   \n",
       "max    417859.000000     32.985763  4.250000e+08  2.781506e+09    900.000000   \n",
       "\n",
       "         vote_count  vote_average  release_year    budget_adj   revenue_adj  \n",
       "count  10866.000000  10866.000000  10866.000000  1.086600e+04  1.086600e+04  \n",
       "mean     217.389748      5.974922   2001.322658  1.755104e+07  5.136436e+07  \n",
       "std      575.619058      0.935142     12.812941  3.430616e+07  1.446325e+08  \n",
       "min       10.000000      1.500000   1960.000000  0.000000e+00  0.000000e+00  \n",
       "25%       17.000000      5.400000   1995.000000  0.000000e+00  0.000000e+00  \n",
       "50%       38.000000      6.000000   2006.000000  0.000000e+00  0.000000e+00  \n",
       "75%      145.750000      6.600000   2011.000000  2.085325e+07  3.369710e+07  \n",
       "max     9767.000000      9.200000   2015.000000  4.250000e+08  2.827124e+09  "
      ]
     },
     "execution_count": 5,
     "metadata": {},
     "output_type": "execute_result"
    }
   ],
   "source": [
    "df.describe()"
   ]
  },
  {
   "cell_type": "code",
   "execution_count": 6,
   "id": "ab1f2f91-ce7a-4965-96db-387894e9a304",
   "metadata": {},
   "outputs": [
    {
     "data": {
      "text/plain": [
       "Index(['id', 'imdb_id', 'popularity', 'budget', 'revenue', 'original_title',\n",
       "       'cast', 'homepage', 'director', 'tagline', 'keywords', 'overview',\n",
       "       'runtime', 'genres', 'production_companies', 'release_date',\n",
       "       'vote_count', 'vote_average', 'release_year', 'budget_adj',\n",
       "       'revenue_adj'],\n",
       "      dtype='object')"
      ]
     },
     "execution_count": 6,
     "metadata": {},
     "output_type": "execute_result"
    }
   ],
   "source": [
    "df.columns"
   ]
  },
  {
   "cell_type": "markdown",
   "id": "b280e8cb-e9f5-4ede-9f87-148b929fce24",
   "metadata": {},
   "source": [
    "The columns below won't be useful in our analysis, so I'll drop them"
   ]
  },
  {
   "cell_type": "code",
   "execution_count": 7,
   "id": "4e606290-01b8-4a22-9a75-527764e2ca76",
   "metadata": {
    "tags": []
   },
   "outputs": [],
   "source": [
    "# drop unwanted columns\n",
    "df.drop(df[['id', 'imdb_id', 'homepage', 'tagline', 'keywords', 'overview']], axis=1, inplace=True)"
   ]
  },
  {
   "cell_type": "code",
   "execution_count": 8,
   "id": "68a9163c-6105-4794-bd84-125a9d1d868f",
   "metadata": {
    "tags": []
   },
   "outputs": [
    {
     "name": "stdout",
     "output_type": "stream",
     "text": [
      "1\n"
     ]
    }
   ],
   "source": [
    "# check for duplicates\n",
    "print(df.duplicated().sum())\n",
    "df.drop_duplicates(inplace=True)"
   ]
  },
  {
   "cell_type": "code",
   "execution_count": 9,
   "id": "6f60907c-87f5-4be1-820e-e75ef825c863",
   "metadata": {},
   "outputs": [
    {
     "data": {
      "text/plain": [
       "['budget', 'revenue', 'runtime', 'budget_adj', 'revenue_adj']"
      ]
     },
     "execution_count": 9,
     "metadata": {},
     "output_type": "execute_result"
    }
   ],
   "source": [
    "# Checking for columns containing Zero value\n",
    "# [i for i, c in enumerate(df.columns) if 0 in df[c].values]    --can be used\n",
    "# df.eq(0).any()                                                -- can be used\n",
    "\n",
    "df.apply(lambda x: (x==0).any())[lambda x: x].index.to_list()"
   ]
  },
  {
   "cell_type": "code",
   "execution_count": 10,
   "id": "1e37b871-cc1a-4e9d-b6fd-eafd0429a617",
   "metadata": {},
   "outputs": [],
   "source": [
    "# replacing the zero values with null values.\n",
    "\n",
    "df['budget'].replace(0, np.nan, inplace=True)\n",
    "df['revenue'].replace(0, np.nan, inplace=True)\n",
    "df['runtime'].replace(0, np.nan, inplace=True)\n",
    "df['budget_adj'].replace(0, np.nan, inplace=True)\n",
    "df['revenue_adj'].replace(0, np.nan, inplace=True)"
   ]
  },
  {
   "cell_type": "code",
   "execution_count": 11,
   "id": "bad07f30-00e8-4166-9bbe-ce91a5ef8b03",
   "metadata": {
    "scrolled": true,
    "tags": []
   },
   "outputs": [
    {
     "name": "stdout",
     "output_type": "stream",
     "text": [
      "checking for null values in the dataset\n"
     ]
    },
    {
     "data": {
      "text/html": [
       "<div>\n",
       "<style scoped>\n",
       "    .dataframe tbody tr th:only-of-type {\n",
       "        vertical-align: middle;\n",
       "    }\n",
       "\n",
       "    .dataframe tbody tr th {\n",
       "        vertical-align: top;\n",
       "    }\n",
       "\n",
       "    .dataframe thead th {\n",
       "        text-align: right;\n",
       "    }\n",
       "</style>\n",
       "<table border=\"1\" class=\"dataframe\">\n",
       "  <thead>\n",
       "    <tr style=\"text-align: right;\">\n",
       "      <th></th>\n",
       "      <th>Total</th>\n",
       "      <th>%</th>\n",
       "    </tr>\n",
       "  </thead>\n",
       "  <tbody>\n",
       "    <tr>\n",
       "      <th>revenue</th>\n",
       "      <td>6016</td>\n",
       "      <td>55.4</td>\n",
       "    </tr>\n",
       "    <tr>\n",
       "      <th>revenue_adj</th>\n",
       "      <td>6016</td>\n",
       "      <td>55.4</td>\n",
       "    </tr>\n",
       "    <tr>\n",
       "      <th>budget</th>\n",
       "      <td>5696</td>\n",
       "      <td>52.4</td>\n",
       "    </tr>\n",
       "    <tr>\n",
       "      <th>budget_adj</th>\n",
       "      <td>5696</td>\n",
       "      <td>52.4</td>\n",
       "    </tr>\n",
       "    <tr>\n",
       "      <th>production_companies</th>\n",
       "      <td>1030</td>\n",
       "      <td>9.5</td>\n",
       "    </tr>\n",
       "    <tr>\n",
       "      <th>cast</th>\n",
       "      <td>76</td>\n",
       "      <td>0.7</td>\n",
       "    </tr>\n",
       "    <tr>\n",
       "      <th>director</th>\n",
       "      <td>44</td>\n",
       "      <td>0.4</td>\n",
       "    </tr>\n",
       "    <tr>\n",
       "      <th>runtime</th>\n",
       "      <td>31</td>\n",
       "      <td>0.3</td>\n",
       "    </tr>\n",
       "    <tr>\n",
       "      <th>genres</th>\n",
       "      <td>23</td>\n",
       "      <td>0.2</td>\n",
       "    </tr>\n",
       "    <tr>\n",
       "      <th>popularity</th>\n",
       "      <td>0</td>\n",
       "      <td>0.0</td>\n",
       "    </tr>\n",
       "    <tr>\n",
       "      <th>original_title</th>\n",
       "      <td>0</td>\n",
       "      <td>0.0</td>\n",
       "    </tr>\n",
       "    <tr>\n",
       "      <th>release_date</th>\n",
       "      <td>0</td>\n",
       "      <td>0.0</td>\n",
       "    </tr>\n",
       "    <tr>\n",
       "      <th>vote_count</th>\n",
       "      <td>0</td>\n",
       "      <td>0.0</td>\n",
       "    </tr>\n",
       "    <tr>\n",
       "      <th>vote_average</th>\n",
       "      <td>0</td>\n",
       "      <td>0.0</td>\n",
       "    </tr>\n",
       "    <tr>\n",
       "      <th>release_year</th>\n",
       "      <td>0</td>\n",
       "      <td>0.0</td>\n",
       "    </tr>\n",
       "  </tbody>\n",
       "</table>\n",
       "</div>"
      ],
      "text/plain": [
       "                      Total     %\n",
       "revenue                6016  55.4\n",
       "revenue_adj            6016  55.4\n",
       "budget                 5696  52.4\n",
       "budget_adj             5696  52.4\n",
       "production_companies   1030   9.5\n",
       "cast                     76   0.7\n",
       "director                 44   0.4\n",
       "runtime                  31   0.3\n",
       "genres                   23   0.2\n",
       "popularity                0   0.0\n",
       "original_title            0   0.0\n",
       "release_date              0   0.0\n",
       "vote_count                0   0.0\n",
       "vote_average              0   0.0\n",
       "release_year              0   0.0"
      ]
     },
     "execution_count": 11,
     "metadata": {},
     "output_type": "execute_result"
    }
   ],
   "source": [
    "# checking for nulls in the dataset\n",
    "print('checking for null values in the dataset')\n",
    "null = df.isnull().sum().sort_values(ascending=False)\n",
    "n1 = df.isnull().sum()/df.isnull().count()*100\n",
    "n2 = (np.round(n1, 1)).sort_values(ascending=False)\n",
    "missing_val = pd.concat([null, n2], axis=1, keys=['Total', '%'])\n",
    "missing_val"
   ]
  },
  {
   "cell_type": "code",
   "execution_count": 12,
   "id": "49a22f73-23d5-4c28-a94c-537084edb28f",
   "metadata": {},
   "outputs": [],
   "source": [
    "# df.fillna(value='Unspecified', inplace=True)"
   ]
  },
  {
   "cell_type": "code",
   "execution_count": 13,
   "id": "9b21425d-a335-4ced-a68b-efde331d7a8b",
   "metadata": {},
   "outputs": [],
   "source": [
    "# drop null values\n",
    "df.dropna(inplace=True)"
   ]
  },
  {
   "cell_type": "code",
   "execution_count": 14,
   "id": "19b14d77-a362-4a48-b410-73b6c947c64b",
   "metadata": {},
   "outputs": [
    {
     "data": {
      "text/plain": [
       "0"
      ]
     },
     "execution_count": 14,
     "metadata": {},
     "output_type": "execute_result"
    }
   ],
   "source": [
    "# confirm null values are gone\n",
    "df.isnull().sum().sum()"
   ]
  },
  {
   "cell_type": "code",
   "execution_count": 15,
   "id": "01dbb1b1-c46c-4436-8161-28f3ebea3a59",
   "metadata": {},
   "outputs": [
    {
     "data": {
      "text/plain": [
       "popularity              float64\n",
       "budget                  float64\n",
       "revenue                 float64\n",
       "original_title           object\n",
       "cast                     object\n",
       "director                 object\n",
       "runtime                 float64\n",
       "genres                   object\n",
       "production_companies     object\n",
       "release_date             object\n",
       "vote_count                int64\n",
       "vote_average            float64\n",
       "release_year              int64\n",
       "budget_adj              float64\n",
       "revenue_adj             float64\n",
       "dtype: object"
      ]
     },
     "execution_count": 15,
     "metadata": {},
     "output_type": "execute_result"
    }
   ],
   "source": [
    "# data types\n",
    "df.dtypes"
   ]
  },
  {
   "cell_type": "code",
   "execution_count": 16,
   "id": "d3b02734-d5ae-4621-a0ec-e6ddbd2fb626",
   "metadata": {},
   "outputs": [],
   "source": [
    "# release data is an object data type which isn't meant to be. convert to datetime\n",
    "df['release_date'] = pd.to_datetime(df['release_date'])"
   ]
  },
  {
   "cell_type": "code",
   "execution_count": 17,
   "id": "7e459659-ac03-4493-aeb1-c62129904682",
   "metadata": {},
   "outputs": [
    {
     "data": {
      "text/plain": [
       "popularity                     float64\n",
       "budget                         float64\n",
       "revenue                        float64\n",
       "original_title                  object\n",
       "cast                            object\n",
       "director                        object\n",
       "runtime                        float64\n",
       "genres                          object\n",
       "production_companies            object\n",
       "release_date            datetime64[ns]\n",
       "vote_count                       int64\n",
       "vote_average                   float64\n",
       "release_year                     int64\n",
       "budget_adj                     float64\n",
       "revenue_adj                    float64\n",
       "dtype: object"
      ]
     },
     "execution_count": 17,
     "metadata": {},
     "output_type": "execute_result"
    }
   ],
   "source": [
    "# confirm data types\n",
    "df.dtypes"
   ]
  },
  {
   "cell_type": "markdown",
   "id": "5c3454be-1591-4977-af58-83612da76c45",
   "metadata": {},
   "source": [
    "The following columns contain multiple values separated by pipe (|) characters. Lets's rectify this"
   ]
  },
  {
   "cell_type": "code",
   "execution_count": 18,
   "id": "86879ca2-cddf-40d2-a0a3-9c8e4177c8f9",
   "metadata": {},
   "outputs": [
    {
     "data": {
      "text/plain": [
       "3805"
      ]
     },
     "execution_count": 18,
     "metadata": {},
     "output_type": "execute_result"
    }
   ],
   "source": [
    "df[df['cast'].str.contains('|')].shape[0]"
   ]
  },
  {
   "cell_type": "code",
   "execution_count": 19,
   "id": "5a0286b9-a235-476a-b7f5-04a23a6f208c",
   "metadata": {},
   "outputs": [
    {
     "data": {
      "text/plain": [
       "3805"
      ]
     },
     "execution_count": 19,
     "metadata": {},
     "output_type": "execute_result"
    }
   ],
   "source": [
    "df[df['genres'].str.contains('|')].shape[0]"
   ]
  },
  {
   "cell_type": "code",
   "execution_count": 20,
   "id": "9fb44abc-3387-4faa-bd31-bfb5648e10f3",
   "metadata": {},
   "outputs": [
    {
     "data": {
      "text/plain": [
       "3805"
      ]
     },
     "execution_count": 20,
     "metadata": {},
     "output_type": "execute_result"
    }
   ],
   "source": [
    "df[df['production_companies'].str.contains('|')].shape[0]"
   ]
  },
  {
   "cell_type": "code",
   "execution_count": 21,
   "id": "f503edfd-f50e-42f6-88c1-9385ade2ee16",
   "metadata": {},
   "outputs": [
    {
     "data": {
      "text/plain": [
       "3805"
      ]
     },
     "execution_count": 21,
     "metadata": {},
     "output_type": "execute_result"
    }
   ],
   "source": [
    "df[df['director'].str.contains('|')].shape[0]"
   ]
  },
  {
   "cell_type": "code",
   "execution_count": 22,
   "id": "4fe8fca5-80ce-4f81-b744-92aa68e1584b",
   "metadata": {},
   "outputs": [],
   "source": [
    "# creating new dataframes to hold the separated columns\n",
    "pipe_cast = (df['cast'].str.split('|', expand= True).rename(columns= lambda x: 'cast_{}'.format(x+1)))\n",
    "pipe_dir = (df['director'].str.split('|', expand= True).rename(columns= lambda x: 'director_{}'.format(x+1)))\n",
    "pipe_g = (df['genres'].str.split('|', expand= True).rename(columns= lambda x: 'genres_{}'.format(x+1)))\n",
    "pipe_pc = (df['production_companies'].str.split('|', expand= True).rename(columns= lambda x: 'production_companies_{}'.format(x+1)))"
   ]
  },
  {
   "cell_type": "code",
   "execution_count": 23,
   "id": "16b0df34-2089-400d-ab59-63ebfdc7aa63",
   "metadata": {},
   "outputs": [],
   "source": [
    "# concatenating the columns to `df`\n",
    "df = pd.concat([df, pipe_cast, pipe_dir, pipe_g, pipe_pc], axis=1)"
   ]
  },
  {
   "cell_type": "code",
   "execution_count": 24,
   "id": "303e398f-006f-407b-89f1-42ed607c3a66",
   "metadata": {},
   "outputs": [],
   "source": [
    "# dropping the columns that contained pipes\n",
    "df = df.drop(['cast', 'director', 'genres', 'production_companies'],axis = 'columns')"
   ]
  },
  {
   "cell_type": "code",
   "execution_count": 25,
   "id": "69ae8c83-1190-4ff6-83f1-33c34c4d0710",
   "metadata": {},
   "outputs": [
    {
     "data": {
      "text/plain": [
       "Index(['popularity', 'budget', 'revenue', 'original_title', 'runtime',\n",
       "       'release_date', 'vote_count', 'vote_average', 'release_year',\n",
       "       'budget_adj', 'revenue_adj', 'cast_1', 'cast_2', 'cast_3', 'cast_4',\n",
       "       'cast_5', 'director_1', 'director_2', 'director_3', 'director_4',\n",
       "       'director_5', 'director_6', 'director_7', 'director_8', 'director_9',\n",
       "       'director_10', 'director_11', 'director_12', 'genres_1', 'genres_2',\n",
       "       'genres_3', 'genres_4', 'genres_5', 'production_companies_1',\n",
       "       'production_companies_2', 'production_companies_3',\n",
       "       'production_companies_4', 'production_companies_5'],\n",
       "      dtype='object')"
      ]
     },
     "execution_count": 25,
     "metadata": {},
     "output_type": "execute_result"
    }
   ],
   "source": [
    "# colummns of new dataset\n",
    "df.columns"
   ]
  },
  {
   "cell_type": "markdown",
   "id": "c109abe2-6fad-4205-ad7d-4681acb0fbfb",
   "metadata": {},
   "source": [
    "get index labels of the new columns added to the dataframe"
   ]
  },
  {
   "cell_type": "code",
   "execution_count": 37,
   "id": "9bc7061a-bf09-4406-b7b4-f3fddf4e2251",
   "metadata": {},
   "outputs": [
    {
     "data": {
      "text/plain": [
       "[11, 12, 13, 14, 15]"
      ]
     },
     "execution_count": 37,
     "metadata": {},
     "output_type": "execute_result"
    }
   ],
   "source": [
    "cols_to_find_cast = df.loc[:, 'cast_1':'cast_5']\n",
    "[df.columns.get_loc(col) for col in cols_to_find_cast]"
   ]
  },
  {
   "cell_type": "code",
   "execution_count": 38,
   "id": "829d4139-e9b3-49b4-96b0-fb88b4420c1c",
   "metadata": {},
   "outputs": [
    {
     "data": {
      "text/plain": [
       "[16, 17, 18, 19, 20, 21, 22, 23, 24, 25, 26, 27]"
      ]
     },
     "execution_count": 38,
     "metadata": {},
     "output_type": "execute_result"
    }
   ],
   "source": [
    "cols_to_find_dir = df.loc[:, 'director_1':'director_12']\n",
    "[df.columns.get_loc(col) for col in cols_to_find_dir]"
   ]
  },
  {
   "cell_type": "code",
   "execution_count": 39,
   "id": "318f0f74-28f4-4982-9a06-62af74aaadef",
   "metadata": {},
   "outputs": [
    {
     "data": {
      "text/plain": [
       "[28, 29, 30, 31, 32]"
      ]
     },
     "execution_count": 39,
     "metadata": {},
     "output_type": "execute_result"
    }
   ],
   "source": [
    "cols_to_find_g = df.loc[:, 'genres_1':'genres_5']\n",
    "[df.columns.get_loc(col) for col in cols_to_find_g]"
   ]
  },
  {
   "cell_type": "code",
   "execution_count": 40,
   "id": "98ec6037-a304-4e13-aa6f-0d6fcccff1f5",
   "metadata": {},
   "outputs": [
    {
     "data": {
      "text/plain": [
       "[33, 34, 35, 36, 37]"
      ]
     },
     "execution_count": 40,
     "metadata": {},
     "output_type": "execute_result"
    }
   ],
   "source": [
    "cols_to_find_pd = df.loc[:, 'production_companies_1':'production_companies_5']\n",
    "[df.columns.get_loc(col) for col in cols_to_find_pd]"
   ]
  },
  {
   "cell_type": "code",
   "execution_count": 41,
   "id": "24de14a9-a4f2-479d-b350-12c7d6fa44ae",
   "metadata": {},
   "outputs": [],
   "source": [
    "# Concatenating all the separated columns into a single column and dropping the nan values\n",
    "\n",
    "df['casts'] = df[df.columns[11:16]].apply(lambda x: ','.join(x.dropna().astype(str)), axis=1)\n",
    "df['directors'] = df[df.columns[16:28]].apply(lambda x: ','.join(x.dropna().astype(str)), axis=1)\n",
    "df['genres'] = df[df.columns[28:33]].apply(lambda x: ','.join(x.dropna().astype(str)), axis=1)\n",
    "df['production_companies'] = df[df.columns[33:38]].apply(lambda x: ','.join(x.dropna().astype(str)), axis=1)"
   ]
  },
  {
   "cell_type": "code",
   "execution_count": 42,
   "id": "19521cdf-28d2-4165-b0ed-ed28346ffc30",
   "metadata": {},
   "outputs": [],
   "source": [
    "# drop the index labels of the new columns\n",
    "df.drop(df.iloc[:, 11:38],inplace=True, axis=1)"
   ]
  },
  {
   "cell_type": "code",
   "execution_count": 44,
   "id": "b1e5b5a0-fc48-4da3-b8bc-aad7349c5ed8",
   "metadata": {},
   "outputs": [
    {
     "name": "stdout",
     "output_type": "stream",
     "text": [
      "Save succesful\n"
     ]
    }
   ],
   "source": [
    "# save the data to a new file for further analysis\n",
    "df.to_csv('tmdb_movies_cleaned.csv', index=False)\n",
    "print('Save succesful')"
   ]
  },
  {
   "cell_type": "markdown",
   "id": "06d55328-8ada-47f1-8047-2b9ccf07d061",
   "metadata": {},
   "source": [
    "lets now import the cleaned data for further analysis"
   ]
  },
  {
   "cell_type": "code",
   "execution_count": 45,
   "id": "6b48a054-7b32-49d8-8ab8-4bf4b18c51b3",
   "metadata": {},
   "outputs": [
    {
     "data": {
      "text/html": [
       "<div>\n",
       "<style scoped>\n",
       "    .dataframe tbody tr th:only-of-type {\n",
       "        vertical-align: middle;\n",
       "    }\n",
       "\n",
       "    .dataframe tbody tr th {\n",
       "        vertical-align: top;\n",
       "    }\n",
       "\n",
       "    .dataframe thead th {\n",
       "        text-align: right;\n",
       "    }\n",
       "</style>\n",
       "<table border=\"1\" class=\"dataframe\">\n",
       "  <thead>\n",
       "    <tr style=\"text-align: right;\">\n",
       "      <th></th>\n",
       "      <th>popularity</th>\n",
       "      <th>budget</th>\n",
       "      <th>revenue</th>\n",
       "      <th>original_title</th>\n",
       "      <th>runtime</th>\n",
       "      <th>release_date</th>\n",
       "      <th>vote_count</th>\n",
       "      <th>vote_average</th>\n",
       "      <th>release_year</th>\n",
       "      <th>budget_adj</th>\n",
       "      <th>revenue_adj</th>\n",
       "      <th>casts</th>\n",
       "      <th>directors</th>\n",
       "      <th>genres</th>\n",
       "      <th>production_companies</th>\n",
       "    </tr>\n",
       "  </thead>\n",
       "  <tbody>\n",
       "    <tr>\n",
       "      <th>0</th>\n",
       "      <td>32.985763</td>\n",
       "      <td>150000000.0</td>\n",
       "      <td>1.513529e+09</td>\n",
       "      <td>Jurassic World</td>\n",
       "      <td>124.0</td>\n",
       "      <td>2015-06-09</td>\n",
       "      <td>5562</td>\n",
       "      <td>6.5</td>\n",
       "      <td>2015</td>\n",
       "      <td>1.379999e+08</td>\n",
       "      <td>1.392446e+09</td>\n",
       "      <td>Chris Pratt,Bryce Dallas Howard,Irrfan Khan,Vi...</td>\n",
       "      <td>Colin Trevorrow</td>\n",
       "      <td>Action,Adventure,Science Fiction,Thriller</td>\n",
       "      <td>Universal Studios,Amblin Entertainment,Legenda...</td>\n",
       "    </tr>\n",
       "    <tr>\n",
       "      <th>1</th>\n",
       "      <td>28.419936</td>\n",
       "      <td>150000000.0</td>\n",
       "      <td>3.784364e+08</td>\n",
       "      <td>Mad Max: Fury Road</td>\n",
       "      <td>120.0</td>\n",
       "      <td>2015-05-13</td>\n",
       "      <td>6185</td>\n",
       "      <td>7.1</td>\n",
       "      <td>2015</td>\n",
       "      <td>1.379999e+08</td>\n",
       "      <td>3.481613e+08</td>\n",
       "      <td>Tom Hardy,Charlize Theron,Hugh Keays-Byrne,Nic...</td>\n",
       "      <td>George Miller</td>\n",
       "      <td>Action,Adventure,Science Fiction,Thriller</td>\n",
       "      <td>Village Roadshow Pictures,Kennedy Miller Produ...</td>\n",
       "    </tr>\n",
       "    <tr>\n",
       "      <th>2</th>\n",
       "      <td>13.112507</td>\n",
       "      <td>110000000.0</td>\n",
       "      <td>2.952382e+08</td>\n",
       "      <td>Insurgent</td>\n",
       "      <td>119.0</td>\n",
       "      <td>2015-03-18</td>\n",
       "      <td>2480</td>\n",
       "      <td>6.3</td>\n",
       "      <td>2015</td>\n",
       "      <td>1.012000e+08</td>\n",
       "      <td>2.716190e+08</td>\n",
       "      <td>Shailene Woodley,Theo James,Kate Winslet,Ansel...</td>\n",
       "      <td>Robert Schwentke</td>\n",
       "      <td>Adventure,Science Fiction,Thriller</td>\n",
       "      <td>Summit Entertainment,Mandeville Films,Red Wago...</td>\n",
       "    </tr>\n",
       "    <tr>\n",
       "      <th>3</th>\n",
       "      <td>11.173104</td>\n",
       "      <td>200000000.0</td>\n",
       "      <td>2.068178e+09</td>\n",
       "      <td>Star Wars: The Force Awakens</td>\n",
       "      <td>136.0</td>\n",
       "      <td>2015-12-15</td>\n",
       "      <td>5292</td>\n",
       "      <td>7.5</td>\n",
       "      <td>2015</td>\n",
       "      <td>1.839999e+08</td>\n",
       "      <td>1.902723e+09</td>\n",
       "      <td>Harrison Ford,Mark Hamill,Carrie Fisher,Adam D...</td>\n",
       "      <td>J.J. Abrams</td>\n",
       "      <td>Action,Adventure,Science Fiction,Fantasy</td>\n",
       "      <td>Lucasfilm,Truenorth Productions,Bad Robot</td>\n",
       "    </tr>\n",
       "    <tr>\n",
       "      <th>4</th>\n",
       "      <td>9.335014</td>\n",
       "      <td>190000000.0</td>\n",
       "      <td>1.506249e+09</td>\n",
       "      <td>Furious 7</td>\n",
       "      <td>137.0</td>\n",
       "      <td>2015-04-01</td>\n",
       "      <td>2947</td>\n",
       "      <td>7.3</td>\n",
       "      <td>2015</td>\n",
       "      <td>1.747999e+08</td>\n",
       "      <td>1.385749e+09</td>\n",
       "      <td>Vin Diesel,Paul Walker,Jason Statham,Michelle ...</td>\n",
       "      <td>James Wan</td>\n",
       "      <td>Action,Crime,Thriller</td>\n",
       "      <td>Universal Pictures,Original Film,Media Rights ...</td>\n",
       "    </tr>\n",
       "  </tbody>\n",
       "</table>\n",
       "</div>"
      ],
      "text/plain": [
       "   popularity       budget       revenue                original_title  \\\n",
       "0   32.985763  150000000.0  1.513529e+09                Jurassic World   \n",
       "1   28.419936  150000000.0  3.784364e+08            Mad Max: Fury Road   \n",
       "2   13.112507  110000000.0  2.952382e+08                     Insurgent   \n",
       "3   11.173104  200000000.0  2.068178e+09  Star Wars: The Force Awakens   \n",
       "4    9.335014  190000000.0  1.506249e+09                     Furious 7   \n",
       "\n",
       "   runtime release_date  vote_count  vote_average  release_year    budget_adj  \\\n",
       "0    124.0   2015-06-09        5562           6.5          2015  1.379999e+08   \n",
       "1    120.0   2015-05-13        6185           7.1          2015  1.379999e+08   \n",
       "2    119.0   2015-03-18        2480           6.3          2015  1.012000e+08   \n",
       "3    136.0   2015-12-15        5292           7.5          2015  1.839999e+08   \n",
       "4    137.0   2015-04-01        2947           7.3          2015  1.747999e+08   \n",
       "\n",
       "    revenue_adj                                              casts  \\\n",
       "0  1.392446e+09  Chris Pratt,Bryce Dallas Howard,Irrfan Khan,Vi...   \n",
       "1  3.481613e+08  Tom Hardy,Charlize Theron,Hugh Keays-Byrne,Nic...   \n",
       "2  2.716190e+08  Shailene Woodley,Theo James,Kate Winslet,Ansel...   \n",
       "3  1.902723e+09  Harrison Ford,Mark Hamill,Carrie Fisher,Adam D...   \n",
       "4  1.385749e+09  Vin Diesel,Paul Walker,Jason Statham,Michelle ...   \n",
       "\n",
       "          directors                                     genres  \\\n",
       "0   Colin Trevorrow  Action,Adventure,Science Fiction,Thriller   \n",
       "1     George Miller  Action,Adventure,Science Fiction,Thriller   \n",
       "2  Robert Schwentke         Adventure,Science Fiction,Thriller   \n",
       "3       J.J. Abrams   Action,Adventure,Science Fiction,Fantasy   \n",
       "4         James Wan                      Action,Crime,Thriller   \n",
       "\n",
       "                                production_companies  \n",
       "0  Universal Studios,Amblin Entertainment,Legenda...  \n",
       "1  Village Roadshow Pictures,Kennedy Miller Produ...  \n",
       "2  Summit Entertainment,Mandeville Films,Red Wago...  \n",
       "3          Lucasfilm,Truenorth Productions,Bad Robot  \n",
       "4  Universal Pictures,Original Film,Media Rights ...  "
      ]
     },
     "execution_count": 45,
     "metadata": {},
     "output_type": "execute_result"
    }
   ],
   "source": [
    "clean_df = pd.read_csv('tmdb_movies_cleaned.csv')\n",
    "clean_df.head()"
   ]
  },
  {
   "cell_type": "code",
   "execution_count": 46,
   "id": "dc8f5105-b6f3-4043-a143-a19b2e19b512",
   "metadata": {},
   "outputs": [
    {
     "name": "stdout",
     "output_type": "stream",
     "text": [
      "(3805, 15)\n",
      "<class 'pandas.core.frame.DataFrame'>\n",
      "RangeIndex: 3805 entries, 0 to 3804\n",
      "Data columns (total 15 columns):\n",
      " #   Column                Non-Null Count  Dtype  \n",
      "---  ------                --------------  -----  \n",
      " 0   popularity            3805 non-null   float64\n",
      " 1   budget                3805 non-null   float64\n",
      " 2   revenue               3805 non-null   float64\n",
      " 3   original_title        3805 non-null   object \n",
      " 4   runtime               3805 non-null   float64\n",
      " 5   release_date          3805 non-null   object \n",
      " 6   vote_count            3805 non-null   int64  \n",
      " 7   vote_average          3805 non-null   float64\n",
      " 8   release_year          3805 non-null   int64  \n",
      " 9   budget_adj            3805 non-null   float64\n",
      " 10  revenue_adj           3805 non-null   float64\n",
      " 11  casts                 3805 non-null   object \n",
      " 12  directors             3805 non-null   object \n",
      " 13  genres                3805 non-null   object \n",
      " 14  production_companies  3805 non-null   object \n",
      "dtypes: float64(7), int64(2), object(6)\n",
      "memory usage: 446.0+ KB\n"
     ]
    }
   ],
   "source": [
    "print(clean_df.shape)\n",
    "clean_df.info()"
   ]
  },
  {
   "cell_type": "code",
   "execution_count": 47,
   "id": "b396b093-99bb-4ed6-8bba-1fe9c3f9554b",
   "metadata": {},
   "outputs": [],
   "source": [
    "clean_df['release_date'] = pd.to_datetime(clean_df['release_date'])"
   ]
  },
  {
   "cell_type": "code",
   "execution_count": 48,
   "id": "00bad077-105a-425d-9185-6ed339599f1b",
   "metadata": {},
   "outputs": [
    {
     "data": {
      "text/plain": [
       "popularity                     float64\n",
       "budget                         float64\n",
       "revenue                        float64\n",
       "original_title                  object\n",
       "runtime                        float64\n",
       "release_date            datetime64[ns]\n",
       "vote_count                       int64\n",
       "vote_average                   float64\n",
       "release_year                     int64\n",
       "budget_adj                     float64\n",
       "revenue_adj                    float64\n",
       "casts                           object\n",
       "directors                       object\n",
       "genres                          object\n",
       "production_companies            object\n",
       "dtype: object"
      ]
     },
     "execution_count": 48,
     "metadata": {},
     "output_type": "execute_result"
    }
   ],
   "source": [
    "clean_df.dtypes"
   ]
  },
  {
   "cell_type": "markdown",
   "id": "342fc623-da8f-4ce8-8476-834507726adc",
   "metadata": {},
   "source": [
    "<a id='eda'></a>\n",
    "## Exploratory Data Analysis"
   ]
  },
  {
   "cell_type": "code",
   "execution_count": 49,
   "id": "86adcd18-d526-41de-90f2-e3482ccf06d8",
   "metadata": {},
   "outputs": [
    {
     "data": {
      "text/html": [
       "<div>\n",
       "<style scoped>\n",
       "    .dataframe tbody tr th:only-of-type {\n",
       "        vertical-align: middle;\n",
       "    }\n",
       "\n",
       "    .dataframe tbody tr th {\n",
       "        vertical-align: top;\n",
       "    }\n",
       "\n",
       "    .dataframe thead th {\n",
       "        text-align: right;\n",
       "    }\n",
       "</style>\n",
       "<table border=\"1\" class=\"dataframe\">\n",
       "  <thead>\n",
       "    <tr style=\"text-align: right;\">\n",
       "      <th></th>\n",
       "      <th>popularity</th>\n",
       "      <th>budget</th>\n",
       "      <th>revenue</th>\n",
       "      <th>runtime</th>\n",
       "      <th>vote_count</th>\n",
       "      <th>vote_average</th>\n",
       "      <th>release_year</th>\n",
       "      <th>budget_adj</th>\n",
       "      <th>revenue_adj</th>\n",
       "    </tr>\n",
       "  </thead>\n",
       "  <tbody>\n",
       "    <tr>\n",
       "      <th>popularity</th>\n",
       "      <td>1.000000</td>\n",
       "      <td>0.443626</td>\n",
       "      <td>0.613793</td>\n",
       "      <td>0.213690</td>\n",
       "      <td>0.779125</td>\n",
       "      <td>0.319927</td>\n",
       "      <td>0.175991</td>\n",
       "      <td>0.395330</td>\n",
       "      <td>0.544761</td>\n",
       "    </tr>\n",
       "    <tr>\n",
       "      <th>budget</th>\n",
       "      <td>0.443626</td>\n",
       "      <td>1.000000</td>\n",
       "      <td>0.687059</td>\n",
       "      <td>0.259562</td>\n",
       "      <td>0.554689</td>\n",
       "      <td>0.022945</td>\n",
       "      <td>0.271915</td>\n",
       "      <td>0.958235</td>\n",
       "      <td>0.530941</td>\n",
       "    </tr>\n",
       "    <tr>\n",
       "      <th>revenue</th>\n",
       "      <td>0.613793</td>\n",
       "      <td>0.687059</td>\n",
       "      <td>1.000000</td>\n",
       "      <td>0.249178</td>\n",
       "      <td>0.753574</td>\n",
       "      <td>0.228051</td>\n",
       "      <td>0.141317</td>\n",
       "      <td>0.655872</td>\n",
       "      <td>0.900449</td>\n",
       "    </tr>\n",
       "    <tr>\n",
       "      <th>runtime</th>\n",
       "      <td>0.213690</td>\n",
       "      <td>0.259562</td>\n",
       "      <td>0.249178</td>\n",
       "      <td>1.000000</td>\n",
       "      <td>0.273464</td>\n",
       "      <td>0.359173</td>\n",
       "      <td>-0.113488</td>\n",
       "      <td>0.333453</td>\n",
       "      <td>0.279733</td>\n",
       "    </tr>\n",
       "    <tr>\n",
       "      <th>vote_count</th>\n",
       "      <td>0.779125</td>\n",
       "      <td>0.554689</td>\n",
       "      <td>0.753574</td>\n",
       "      <td>0.273464</td>\n",
       "      <td>1.000000</td>\n",
       "      <td>0.389853</td>\n",
       "      <td>0.209688</td>\n",
       "      <td>0.495209</td>\n",
       "      <td>0.653202</td>\n",
       "    </tr>\n",
       "    <tr>\n",
       "      <th>vote_average</th>\n",
       "      <td>0.319927</td>\n",
       "      <td>0.022945</td>\n",
       "      <td>0.228051</td>\n",
       "      <td>0.359173</td>\n",
       "      <td>0.389853</td>\n",
       "      <td>1.000000</td>\n",
       "      <td>-0.135646</td>\n",
       "      <td>0.035798</td>\n",
       "      <td>0.268227</td>\n",
       "    </tr>\n",
       "    <tr>\n",
       "      <th>release_year</th>\n",
       "      <td>0.175991</td>\n",
       "      <td>0.271915</td>\n",
       "      <td>0.141317</td>\n",
       "      <td>-0.113488</td>\n",
       "      <td>0.209688</td>\n",
       "      <td>-0.135646</td>\n",
       "      <td>1.000000</td>\n",
       "      <td>0.078378</td>\n",
       "      <td>-0.101931</td>\n",
       "    </tr>\n",
       "    <tr>\n",
       "      <th>budget_adj</th>\n",
       "      <td>0.395330</td>\n",
       "      <td>0.958235</td>\n",
       "      <td>0.655872</td>\n",
       "      <td>0.333453</td>\n",
       "      <td>0.495209</td>\n",
       "      <td>0.035798</td>\n",
       "      <td>0.078378</td>\n",
       "      <td>1.000000</td>\n",
       "      <td>0.567983</td>\n",
       "    </tr>\n",
       "    <tr>\n",
       "      <th>revenue_adj</th>\n",
       "      <td>0.544761</td>\n",
       "      <td>0.530941</td>\n",
       "      <td>0.900449</td>\n",
       "      <td>0.279733</td>\n",
       "      <td>0.653202</td>\n",
       "      <td>0.268227</td>\n",
       "      <td>-0.101931</td>\n",
       "      <td>0.567983</td>\n",
       "      <td>1.000000</td>\n",
       "    </tr>\n",
       "  </tbody>\n",
       "</table>\n",
       "</div>"
      ],
      "text/plain": [
       "              popularity    budget   revenue   runtime  vote_count  \\\n",
       "popularity      1.000000  0.443626  0.613793  0.213690    0.779125   \n",
       "budget          0.443626  1.000000  0.687059  0.259562    0.554689   \n",
       "revenue         0.613793  0.687059  1.000000  0.249178    0.753574   \n",
       "runtime         0.213690  0.259562  0.249178  1.000000    0.273464   \n",
       "vote_count      0.779125  0.554689  0.753574  0.273464    1.000000   \n",
       "vote_average    0.319927  0.022945  0.228051  0.359173    0.389853   \n",
       "release_year    0.175991  0.271915  0.141317 -0.113488    0.209688   \n",
       "budget_adj      0.395330  0.958235  0.655872  0.333453    0.495209   \n",
       "revenue_adj     0.544761  0.530941  0.900449  0.279733    0.653202   \n",
       "\n",
       "              vote_average  release_year  budget_adj  revenue_adj  \n",
       "popularity        0.319927      0.175991    0.395330     0.544761  \n",
       "budget            0.022945      0.271915    0.958235     0.530941  \n",
       "revenue           0.228051      0.141317    0.655872     0.900449  \n",
       "runtime           0.359173     -0.113488    0.333453     0.279733  \n",
       "vote_count        0.389853      0.209688    0.495209     0.653202  \n",
       "vote_average      1.000000     -0.135646    0.035798     0.268227  \n",
       "release_year     -0.135646      1.000000    0.078378    -0.101931  \n",
       "budget_adj        0.035798      0.078378    1.000000     0.567983  \n",
       "revenue_adj       0.268227     -0.101931    0.567983     1.000000  "
      ]
     },
     "execution_count": 49,
     "metadata": {},
     "output_type": "execute_result"
    }
   ],
   "source": [
    "clean_df.corr()"
   ]
  },
  {
   "cell_type": "code",
   "execution_count": 50,
   "id": "74119621-bb27-4e00-8fd9-7ba2702680d5",
   "metadata": {},
   "outputs": [
    {
     "data": {
      "text/plain": [
       "<AxesSubplot:>"
      ]
     },
     "execution_count": 50,
     "metadata": {},
     "output_type": "execute_result"
    },
    {
     "data": {
      "image/png": "[encoded data removed]",
      "text/plain": [
       "<Figure size 432x288 with 2 Axes>"
      ]
     },
     "metadata": {},
     "output_type": "display_data"
    }
   ],
   "source": [
    "sns.heatmap(clean_df.corr(), xticklabels=True, annot=True, cmap='Blues')"
   ]
  },
  {
   "cell_type": "markdown",
   "id": "6ba6c790-9e5b-4085-81db-0ce34741e852",
   "metadata": {},
   "source": [
    "### What movies had the highest and least revenue?"
   ]
  },
  {
   "cell_type": "code",
   "execution_count": 61,
   "id": "f2122883-a46f-4a2b-b616-758e9ff79577",
   "metadata": {},
   "outputs": [
    {
     "data": {
      "text/html": [
       "<div>\n",
       "<style scoped>\n",
       "    .dataframe tbody tr th:only-of-type {\n",
       "        vertical-align: middle;\n",
       "    }\n",
       "\n",
       "    .dataframe tbody tr th {\n",
       "        vertical-align: top;\n",
       "    }\n",
       "\n",
       "    .dataframe thead th {\n",
       "        text-align: right;\n",
       "    }\n",
       "</style>\n",
       "<table border=\"1\" class=\"dataframe\">\n",
       "  <thead>\n",
       "    <tr style=\"text-align: right;\">\n",
       "      <th></th>\n",
       "      <th>revenue</th>\n",
       "    </tr>\n",
       "    <tr>\n",
       "      <th>genres</th>\n",
       "      <th></th>\n",
       "    </tr>\n",
       "  </thead>\n",
       "  <tbody>\n",
       "    <tr>\n",
       "      <th>Comedy</th>\n",
       "      <td>1.833794e+10</td>\n",
       "    </tr>\n",
       "    <tr>\n",
       "      <th>Drama</th>\n",
       "      <td>1.427122e+10</td>\n",
       "    </tr>\n",
       "    <tr>\n",
       "      <th>Comedy,Romance</th>\n",
       "      <td>1.077925e+10</td>\n",
       "    </tr>\n",
       "    <tr>\n",
       "      <th>Adventure,Fantasy,Action</th>\n",
       "      <td>7.597484e+09</td>\n",
       "    </tr>\n",
       "    <tr>\n",
       "      <th>Animation,Family</th>\n",
       "      <td>6.572638e+09</td>\n",
       "    </tr>\n",
       "    <tr>\n",
       "      <th>...</th>\n",
       "      <td>...</td>\n",
       "    </tr>\n",
       "    <tr>\n",
       "      <th>Horror,Romance,Thriller</th>\n",
       "      <td>8.139000e+03</td>\n",
       "    </tr>\n",
       "    <tr>\n",
       "      <th>Western,Thriller</th>\n",
       "      <td>6.147000e+03</td>\n",
       "    </tr>\n",
       "    <tr>\n",
       "      <th>Science Fiction,Adventure,Action,Comedy,Family</th>\n",
       "      <td>7.800000e+01</td>\n",
       "    </tr>\n",
       "    <tr>\n",
       "      <th>Thriller,Romance</th>\n",
       "      <td>6.000000e+00</td>\n",
       "    </tr>\n",
       "    <tr>\n",
       "      <th>Science Fiction,Animation</th>\n",
       "      <td>5.000000e+00</td>\n",
       "    </tr>\n",
       "  </tbody>\n",
       "</table>\n",
       "<p>1043 rows × 1 columns</p>\n",
       "</div>"
      ],
      "text/plain": [
       "                                                     revenue\n",
       "genres                                                      \n",
       "Comedy                                          1.833794e+10\n",
       "Drama                                           1.427122e+10\n",
       "Comedy,Romance                                  1.077925e+10\n",
       "Adventure,Fantasy,Action                        7.597484e+09\n",
       "Animation,Family                                6.572638e+09\n",
       "...                                                      ...\n",
       "Horror,Romance,Thriller                         8.139000e+03\n",
       "Western,Thriller                                6.147000e+03\n",
       "Science Fiction,Adventure,Action,Comedy,Family  7.800000e+01\n",
       "Thriller,Romance                                6.000000e+00\n",
       "Science Fiction,Animation                       5.000000e+00\n",
       "\n",
       "[1043 rows x 1 columns]"
      ]
     },
     "execution_count": 61,
     "metadata": {},
     "output_type": "execute_result"
    }
   ],
   "source": [
    "clean_df.groupby('genres')['revenue'].sum().sort_values(ascending=False).to_frame()"
   ]
  },
  {
   "cell_type": "markdown",
   "id": "38161762-4ac9-429b-a022-3ecf312f0efb",
   "metadata": {},
   "source": [
    "We can see that comic movies generated the highest revenue while `Science Fiction,Animation` had the lowest revenue"
   ]
  },
  {
   "cell_type": "markdown",
   "id": "4202a583-6247-4d5e-ad76-1f8c4d83f5ad",
   "metadata": {},
   "source": [
    "### What movies had the highest and least budget?"
   ]
  },
  {
   "cell_type": "code",
   "execution_count": 105,
   "id": "be655f9e-56ca-4852-b9ac-f06d5244eea6",
   "metadata": {},
   "outputs": [
    {
     "data": {
      "text/html": [
       "<div>\n",
       "<style scoped>\n",
       "    .dataframe tbody tr th:only-of-type {\n",
       "        vertical-align: middle;\n",
       "    }\n",
       "\n",
       "    .dataframe tbody tr th {\n",
       "        vertical-align: top;\n",
       "    }\n",
       "\n",
       "    .dataframe thead th {\n",
       "        text-align: right;\n",
       "    }\n",
       "</style>\n",
       "<table border=\"1\" class=\"dataframe\">\n",
       "  <thead>\n",
       "    <tr style=\"text-align: right;\">\n",
       "      <th></th>\n",
       "      <th>budget</th>\n",
       "    </tr>\n",
       "    <tr>\n",
       "      <th>genres</th>\n",
       "      <th></th>\n",
       "    </tr>\n",
       "  </thead>\n",
       "  <tbody>\n",
       "    <tr>\n",
       "      <th>Comedy</th>\n",
       "      <td>6.145028e+09</td>\n",
       "    </tr>\n",
       "    <tr>\n",
       "      <th>Drama</th>\n",
       "      <td>5.216099e+09</td>\n",
       "    </tr>\n",
       "    <tr>\n",
       "      <th>Comedy,Romance</th>\n",
       "      <td>2.975992e+09</td>\n",
       "    </tr>\n",
       "    <tr>\n",
       "      <th>Drama,Romance</th>\n",
       "      <td>2.063387e+09</td>\n",
       "    </tr>\n",
       "    <tr>\n",
       "      <th>Comedy,Drama,Romance</th>\n",
       "      <td>1.944535e+09</td>\n",
       "    </tr>\n",
       "    <tr>\n",
       "      <th>...</th>\n",
       "      <td>...</td>\n",
       "    </tr>\n",
       "    <tr>\n",
       "      <th>Mystery,Drama,Thriller</th>\n",
       "      <td>6.000000e+04</td>\n",
       "    </tr>\n",
       "    <tr>\n",
       "      <th>Action,Drama,Romance</th>\n",
       "      <td>1.700000e+04</td>\n",
       "    </tr>\n",
       "    <tr>\n",
       "      <th>Science Fiction,Fantasy,Horror,Drama</th>\n",
       "      <td>1.000000e+04</td>\n",
       "    </tr>\n",
       "    <tr>\n",
       "      <th>Adventure,Drama,Action,Romance,Family</th>\n",
       "      <td>1.130000e+02</td>\n",
       "    </tr>\n",
       "    <tr>\n",
       "      <th>Science Fiction,Animation</th>\n",
       "      <td>1.000000e+01</td>\n",
       "    </tr>\n",
       "  </tbody>\n",
       "</table>\n",
       "<p>1043 rows × 1 columns</p>\n",
       "</div>"
      ],
      "text/plain": [
       "                                             budget\n",
       "genres                                             \n",
       "Comedy                                 6.145028e+09\n",
       "Drama                                  5.216099e+09\n",
       "Comedy,Romance                         2.975992e+09\n",
       "Drama,Romance                          2.063387e+09\n",
       "Comedy,Drama,Romance                   1.944535e+09\n",
       "...                                             ...\n",
       "Mystery,Drama,Thriller                 6.000000e+04\n",
       "Action,Drama,Romance                   1.700000e+04\n",
       "Science Fiction,Fantasy,Horror,Drama   1.000000e+04\n",
       "Adventure,Drama,Action,Romance,Family  1.130000e+02\n",
       "Science Fiction,Animation              1.000000e+01\n",
       "\n",
       "[1043 rows x 1 columns]"
      ]
     },
     "execution_count": 105,
     "metadata": {},
     "output_type": "execute_result"
    }
   ],
   "source": [
    "clean_df.groupby('genres')['budget'].sum().sort_values(ascending=False).to_frame()"
   ]
  },
  {
   "cell_type": "markdown",
   "id": "5d432129-1d4d-414f-9b78-a7cd84fb6b68",
   "metadata": {},
   "source": [
    "We can see that comic movies had the highest budgets while `Science Fiction,Animation` had the least budget"
   ]
  },
  {
   "cell_type": "code",
   "execution_count": 59,
   "id": "086cddef-ddb4-4bce-a8f5-c97dc427a8df",
   "metadata": {},
   "outputs": [],
   "source": [
    "# func_dict = {'revenue': 'mean'}\n",
    "# clean_df.groupby('genres').aggregate(func_dict)"
   ]
  },
  {
   "cell_type": "code",
   "execution_count": 106,
   "id": "71d34b78-75f7-410b-9d25-ad0a401e404e",
   "metadata": {},
   "outputs": [
    {
     "data": {
      "text/plain": [
       "Index(['popularity', 'budget', 'revenue', 'original_title', 'runtime',\n",
       "       'release_date', 'vote_count', 'vote_average', 'release_year',\n",
       "       'budget_adj', 'revenue_adj', 'casts', 'directors', 'genres',\n",
       "       'production_companies', 'month', 'day'],\n",
       "      dtype='object')"
      ]
     },
     "execution_count": 106,
     "metadata": {},
     "output_type": "execute_result"
    }
   ],
   "source": [
    "clean_df.columns"
   ]
  },
  {
   "cell_type": "markdown",
   "id": "b3ab1992-774a-4d00-b7c9-33daed95140d",
   "metadata": {},
   "source": [
    "### Movies with the highest and lowest runtime."
   ]
  },
  {
   "cell_type": "code",
   "execution_count": 110,
   "id": "6a077f7f-62e5-4b19-95a6-1bcf3200d7b4",
   "metadata": {},
   "outputs": [
    {
     "data": {
      "text/plain": [
       "original_title\n",
       "Carlos                      338.0\n",
       "King Kong                   321.0\n",
       "The Great Gatsby            287.0\n",
       "Casino Royale               275.0\n",
       "The Karate Kid              266.0\n",
       "                            ...  \n",
       "The Land Before Time         69.0\n",
       "9 Songs                      66.0\n",
       "Winnie the Pooh              63.0\n",
       "Mickey's Christmas Carol     26.0\n",
       "Kid's Story                  15.0\n",
       "Name: runtime, Length: 3760, dtype: float64"
      ]
     },
     "execution_count": 110,
     "metadata": {},
     "output_type": "execute_result"
    }
   ],
   "source": [
    "clean_df.groupby('original_title')['runtime'].sum().sort_values(ascending=False)"
   ]
  },
  {
   "cell_type": "code",
   "execution_count": 114,
   "id": "76f89723-8bfc-4bae-b2b5-6506920698cf",
   "metadata": {},
   "outputs": [
    {
     "data": {
      "text/plain": [
       "[Text(0.5, 1.0, 'Top 5 movies with highest runtime'),\n",
       " Text(0.5, 0, 'original_title'),\n",
       " Text(0, 0.5, 'Runtime')]"
      ]
     },
     "execution_count": 114,
     "metadata": {},
     "output_type": "execute_result"
    },
    {
     "data": {
      "image/png": "[encoded data removed]",
      "text/plain": [
       "<Figure size 864x432 with 1 Axes>"
      ]
     },
     "metadata": {},
     "output_type": "display_data"
    }
   ],
   "source": [
    "# top 5 movies with the highest runtime\n",
    "plt.figure(figsize=(12, 6))\n",
    "x = clean_df.groupby('original_title')['runtime'].sum().sort_values(ascending=False).head()\n",
    "sns.barplot(x.index, x.values, palette='Blues_r').set(title='Top 5 movies with highest runtime', xlabel='original_title', ylabel='Runtime')"
   ]
  },
  {
   "cell_type": "markdown",
   "id": "5db9569d-1ecb-4265-8310-49155cf49749",
   "metadata": {},
   "source": [
    "### Genres with the highest and lowest runtime."
   ]
  },
  {
   "cell_type": "code",
   "execution_count": 116,
   "id": "3555d2ac-1654-49b9-a4c0-b1cb0f919bda",
   "metadata": {},
   "outputs": [
    {
     "data": {
      "text/plain": [
       "genres\n",
       "Drama                                         29010.0\n",
       "Comedy                                        22756.0\n",
       "Drama,Romance                                 12352.0\n",
       "Comedy,Romance                                10575.0\n",
       "Comedy,Drama,Romance                           9386.0\n",
       "                                               ...   \n",
       "Action,Adventure,Animation,Science Fiction       75.0\n",
       "Music,Animation,Family,Fantasy                   74.0\n",
       "Action,Family                                    73.0\n",
       "Adventure,Fantasy,Animation,Family               72.0\n",
       "Science Fiction,Animation                        15.0\n",
       "Name: runtime, Length: 1043, dtype: float64"
      ]
     },
     "execution_count": 116,
     "metadata": {},
     "output_type": "execute_result"
    }
   ],
   "source": [
    "clean_df.groupby('genres')['runtime'].sum().sort_values(ascending=False)"
   ]
  },
  {
   "cell_type": "code",
   "execution_count": 119,
   "id": "cce043c0-2ced-4af1-ac45-a9e4088b8df5",
   "metadata": {},
   "outputs": [
    {
     "data": {
      "text/plain": [
       "[Text(0.5, 1.0, 'Top 5 genres with highest runtime'),\n",
       " Text(0.5, 0, 'genres'),\n",
       " Text(0, 0.5, 'Runtime')]"
      ]
     },
     "execution_count": 119,
     "metadata": {},
     "output_type": "execute_result"
    },
    {
     "data": {
      "image/png": "[encoded data removed]",
      "text/plain": [
       "<Figure size 864x432 with 1 Axes>"
      ]
     },
     "metadata": {},
     "output_type": "display_data"
    }
   ],
   "source": [
    "# top 5 movies with the highest runtime\n",
    "plt.figure(figsize=(12, 6))\n",
    "x = clean_df.groupby('genres')['runtime'].sum().sort_values(ascending=False).head()\n",
    "sns.barplot(x.index, x.values, palette='turbo_r').set(title='Top 5 genres with highest runtime', xlabel='genres', ylabel='Runtime')"
   ]
  },
  {
   "cell_type": "markdown",
   "id": "fd90afd9-8456-4e51-a9ac-a0f086846654",
   "metadata": {},
   "source": [
    "### Most profitabale movies"
   ]
  },
  {
   "cell_type": "code",
   "execution_count": 135,
   "id": "1cd6be2a-e89e-4d4a-bb61-ecd77c1d79ab",
   "metadata": {},
   "outputs": [
    {
     "data": {
      "text/plain": [
       "[Text(0.5, 1.0, 'Most profitable movies'),\n",
       " Text(0, 0.5, 'Movies'),\n",
       " Text(0.5, 0, 'Profits')]"
      ]
     },
     "execution_count": 135,
     "metadata": {},
     "output_type": "execute_result"
    },
    {
     "data": {
      "image/png": "[encoded data removed]",
      "text/plain": [
       "<Figure size 432x432 with 1 Axes>"
      ]
     },
     "metadata": {},
     "output_type": "display_data"
    }
   ],
   "source": [
    "clean_df['profit'] = clean_df['revenue'] - clean_df['budget']\n",
    "plt.figure(figsize=(6, 6))\n",
    "x = clean_df.groupby('original_title')['profit'].sum().sort_values(ascending=False).head(20)\n",
    "sns.scatterplot(x.values, x.index, palette='turbo_r').set(title='Most profitable movies', ylabel='Movies', xlabel='Profits')"
   ]
  },
  {
   "cell_type": "markdown",
   "id": "c63f9597-d9d9-46ed-83f3-81a9a3c8e7ff",
   "metadata": {},
   "source": [
    "### Hit movies!(most popular movies)"
   ]
  },
  {
   "cell_type": "code",
   "execution_count": 63,
   "id": "9afb5ff0-1870-485a-a708-9369bb84bab9",
   "metadata": {},
   "outputs": [
    {
     "data": {
      "text/plain": [
       "original_title\n",
       "Jurassic World                                   32.985763\n",
       "Mad Max: Fury Road                               28.419936\n",
       "Interstellar                                     24.949134\n",
       "Guardians of the Galaxy                          14.311205\n",
       "Insurgent                                        13.112507\n",
       "                                                   ...    \n",
       "The Kid Stays in the Picture                      0.017708\n",
       "The Bad News Bears                                0.017498\n",
       "The In Crowd                                      0.015997\n",
       "Spacehunter: Adventures in the Forbidden Zone     0.015727\n",
       "Ð¡Ñ‚Ð°Ð»Ð¸Ð½Ð³Ñ€Ð°Ð´                              0.010335\n",
       "Name: popularity, Length: 3760, dtype: float64"
      ]
     },
     "execution_count": 63,
     "metadata": {},
     "output_type": "execute_result"
    }
   ],
   "source": [
    "clean_df.groupby('original_title')['popularity'].mean().sort_values(ascending=False)"
   ]
  },
  {
   "cell_type": "code",
   "execution_count": 64,
   "id": "1bfb9d29-4496-4a32-ae22-dd7672dd5cbe",
   "metadata": {},
   "outputs": [
    {
     "name": "stdout",
     "output_type": "stream",
     "text": [
      "The most popular movie is \"Jurassic World\"\n",
      "The least popular movie is \"Ð¡Ñ‚Ð°Ð»Ð¸Ð½Ð³Ñ€Ð°Ð´\"\n"
     ]
    }
   ],
   "source": [
    "print('The most popular movie is \"{}\"'.format(clean_df.groupby('original_title')['popularity'].mean().sort_values(ascending=False).idxmax()))\n",
    "print('The least popular movie is \"{}\"'.format(clean_df.groupby('original_title')['popularity'].mean().sort_values(ascending=False).idxmin()))"
   ]
  },
  {
   "cell_type": "markdown",
   "id": "878d1f45-b0fd-468a-8979-7a5ed06a215c",
   "metadata": {},
   "source": [
    "### Number of movie genres released over the years"
   ]
  },
  {
   "cell_type": "code",
   "execution_count": 65,
   "id": "1c18ff8d-492c-4311-adc6-31f056fa567b",
   "metadata": {
    "scrolled": true,
    "tags": []
   },
   "outputs": [
    {
     "data": {
      "text/plain": [
       "release_year\n",
       "1960      5\n",
       "1961     10\n",
       "1962      7\n",
       "1963      6\n",
       "1964      7\n",
       "1965      5\n",
       "1966      5\n",
       "1967     13\n",
       "1968      9\n",
       "1969      4\n",
       "1970     11\n",
       "1971     13\n",
       "1972      8\n",
       "1973     12\n",
       "1974     13\n",
       "1975      9\n",
       "1976     15\n",
       "1977     19\n",
       "1978     17\n",
       "1979     16\n",
       "1980     23\n",
       "1981     30\n",
       "1982     26\n",
       "1983     31\n",
       "1984     42\n",
       "1985     41\n",
       "1986     47\n",
       "1987     46\n",
       "1988     56\n",
       "1989     51\n",
       "1990     52\n",
       "1991     50\n",
       "1992     53\n",
       "1993     72\n",
       "1994     61\n",
       "1995     79\n",
       "1996     84\n",
       "1997     90\n",
       "1998     90\n",
       "1999    116\n",
       "2000    104\n",
       "2001    118\n",
       "2002    125\n",
       "2003    121\n",
       "2004    142\n",
       "2005    159\n",
       "2006    168\n",
       "2007    159\n",
       "2008    161\n",
       "2009    170\n",
       "2010    177\n",
       "2011    196\n",
       "2012    157\n",
       "2013    179\n",
       "2014    165\n",
       "2015    160\n",
       "Name: genres, dtype: int64"
      ]
     },
     "execution_count": 65,
     "metadata": {},
     "output_type": "execute_result"
    }
   ],
   "source": [
    "# number of genres released over the years\n",
    "clean_df.groupby('release_year')['genres'].count()"
   ]
  },
  {
   "cell_type": "code",
   "execution_count": 66,
   "id": "d055e8d7-8fff-4691-9fd5-32720c2884e2",
   "metadata": {},
   "outputs": [
    {
     "data": {
      "text/plain": [
       "Text(0, 0.5, 'Number of genres')"
      ]
     },
     "execution_count": 66,
     "metadata": {},
     "output_type": "execute_result"
    },
    {
     "data": {
      "image/png": "[encoded data removed]",
      "text/plain": [
       "<Figure size 432x288 with 1 Axes>"
      ]
     },
     "metadata": {},
     "output_type": "display_data"
    }
   ],
   "source": [
    "x = clean_df.groupby('release_year')['genres'].count()\n",
    "sns.lineplot(x.index, x.values)\n",
    "plt.ylabel('Number of genres')"
   ]
  },
  {
   "cell_type": "code",
   "execution_count": 67,
   "id": "df76cf2c-b7a7-46aa-ba3f-980eb47838df",
   "metadata": {},
   "outputs": [
    {
     "data": {
      "text/plain": [
       "genres\n",
       "Action                                               21\n",
       "Action,Adventure                                      6\n",
       "Action,Adventure,Animation,Family,Fantasy             1\n",
       "Action,Adventure,Animation,Family,Science Fiction     1\n",
       "Action,Adventure,Animation,Science Fiction            1\n",
       "                                                     ..\n",
       "Western,Drama                                         2\n",
       "Western,Drama,Adventure,Thriller                      1\n",
       "Western,History                                       1\n",
       "Western,History,War                                   1\n",
       "Western,Thriller                                      1\n",
       "Length: 1043, dtype: int64"
      ]
     },
     "execution_count": 67,
     "metadata": {},
     "output_type": "execute_result"
    }
   ],
   "source": [
    "# Count of all genres released over the course of time\n",
    "clean_df.groupby('genres').size()"
   ]
  },
  {
   "cell_type": "code",
   "execution_count": 78,
   "id": "209bdc36-2436-457b-b25a-c647e9fb15e4",
   "metadata": {},
   "outputs": [
    {
     "data": {
      "text/plain": [
       "<AxesSubplot:xlabel='genres'>"
      ]
     },
     "execution_count": 78,
     "metadata": {},
     "output_type": "execute_result"
    },
    {
     "data": {
      "image/png": "[encoded data removed]",
      "text/plain": [
       "<Figure size 720x360 with 1 Axes>"
      ]
     },
     "metadata": {},
     "output_type": "display_data"
    }
   ],
   "source": [
    "plt.figure(figsize=(10, 5))\n",
    "sns.barplot(clean_df.groupby('genres').size().head(3).index, clean_df.groupby('genres').size().head(3).values)"
   ]
  },
  {
   "cell_type": "markdown",
   "id": "eefd69e5-2216-46c7-811e-755eafd62c63",
   "metadata": {},
   "source": [
    "### Most popular genres"
   ]
  },
  {
   "cell_type": "code",
   "execution_count": 80,
   "id": "0f2080f1-c852-44fe-a365-f6796d0afe65",
   "metadata": {},
   "outputs": [
    {
     "data": {
      "text/plain": [
       "genres\n",
       "Adventure,Drama,Science Fiction              24.949134\n",
       "Adventure,Science Fiction,Thriller           13.112507\n",
       "Action,Adventure,Science Fiction,Fantasy     11.173104\n",
       "Action,Adventure,Science Fiction,Thriller    10.968489\n",
       "Science Fiction,Adventure,Thriller           10.739009\n",
       "                                               ...    \n",
       "Action,Horror,Mystery,Thriller                0.128169\n",
       "Horror,Family,Foreign                         0.123920\n",
       "Drama,Foreign                                 0.094957\n",
       "Action,Comedy,Thriller,Crime,Mystery          0.078482\n",
       "Drama,Comedy,Romance,Foreign                  0.028227\n",
       "Name: popularity, Length: 1043, dtype: float64"
      ]
     },
     "execution_count": 80,
     "metadata": {},
     "output_type": "execute_result"
    }
   ],
   "source": [
    "clean_df.groupby('genres')['popularity'].mean().sort_values(ascending=False)"
   ]
  },
  {
   "cell_type": "markdown",
   "id": "1e303c55-6c50-47e7-83d0-24022c250e0b",
   "metadata": {},
   "source": [
    "Action movies"
   ]
  },
  {
   "cell_type": "code",
   "execution_count": 92,
   "id": "05c3cd37-5f3c-46ac-b252-99b6e3a240bd",
   "metadata": {},
   "outputs": [
    {
     "data": {
      "text/plain": [
       "25      2015\n",
       "406     2009\n",
       "418     2009\n",
       "533     2010\n",
       "566     2010\n",
       "902     2001\n",
       "979     2008\n",
       "1295    2002\n",
       "1569    2012\n",
       "1662    2003\n",
       "1731    2003\n",
       "1733    2003\n",
       "2092    2005\n",
       "2116    2005\n",
       "2161    2005\n",
       "2311    2006\n",
       "2348    2006\n",
       "2499    2004\n",
       "2682    2007\n",
       "3377    1988\n",
       "3680    1993\n",
       "Name: release_year, dtype: int64"
      ]
     },
     "execution_count": 92,
     "metadata": {},
     "output_type": "execute_result"
    }
   ],
   "source": [
    "clean_df_group = clean_df.groupby('genres')\n",
    "clean_df_group.get_group('Action')['release_year']"
   ]
  },
  {
   "cell_type": "code",
   "execution_count": 93,
   "id": "a2589036-ac08-49c9-b09a-6a175692dee9",
   "metadata": {},
   "outputs": [
    {
     "data": {
      "text/plain": [
       "Text(0.5, 1.0, 'Action movie releases over time')"
      ]
     },
     "execution_count": 93,
     "metadata": {},
     "output_type": "execute_result"
    },
    {
     "data": {
      "image/png": "[encoded data removed]",
      "text/plain": [
       "<Figure size 432x288 with 1 Axes>"
      ]
     },
     "metadata": {},
     "output_type": "display_data"
    }
   ],
   "source": [
    "x = clean_df_group.get_group('Action')['release_year']\n",
    "sns.lineplot(x.index, x.values)\n",
    "plt.xlabel('year')\n",
    "plt.ylabel('Number of Action movies')\n",
    "plt.title('Action movie releases over time')"
   ]
  },
  {
   "cell_type": "code",
   "execution_count": 94,
   "id": "26bbd47a-3ef8-4390-a5b8-098d0f81c313",
   "metadata": {},
   "outputs": [
    {
     "data": {
      "text/html": [
       "<div>\n",
       "<style scoped>\n",
       "    .dataframe tbody tr th:only-of-type {\n",
       "        vertical-align: middle;\n",
       "    }\n",
       "\n",
       "    .dataframe tbody tr th {\n",
       "        vertical-align: top;\n",
       "    }\n",
       "\n",
       "    .dataframe thead th {\n",
       "        text-align: right;\n",
       "    }\n",
       "</style>\n",
       "<table border=\"1\" class=\"dataframe\">\n",
       "  <thead>\n",
       "    <tr style=\"text-align: right;\">\n",
       "      <th></th>\n",
       "      <th>revenue_adj</th>\n",
       "    </tr>\n",
       "    <tr>\n",
       "      <th>genres</th>\n",
       "      <th></th>\n",
       "    </tr>\n",
       "  </thead>\n",
       "  <tbody>\n",
       "    <tr>\n",
       "      <th>Action</th>\n",
       "      <td>1.157285e+08</td>\n",
       "    </tr>\n",
       "    <tr>\n",
       "      <th>Action,Adventure</th>\n",
       "      <td>1.391337e+08</td>\n",
       "    </tr>\n",
       "    <tr>\n",
       "      <th>Action,Adventure,Animation,Family,Fantasy</th>\n",
       "      <td>5.380038e+08</td>\n",
       "    </tr>\n",
       "    <tr>\n",
       "      <th>Action,Adventure,Animation,Family,Science Fiction</th>\n",
       "      <td>7.289654e+08</td>\n",
       "    </tr>\n",
       "    <tr>\n",
       "      <th>Action,Adventure,Animation,Science Fiction</th>\n",
       "      <td>5.298017e+06</td>\n",
       "    </tr>\n",
       "    <tr>\n",
       "      <th>...</th>\n",
       "      <td>...</td>\n",
       "    </tr>\n",
       "    <tr>\n",
       "      <th>Western,Drama</th>\n",
       "      <td>1.766125e+06</td>\n",
       "    </tr>\n",
       "    <tr>\n",
       "      <th>Western,Drama,Adventure,Thriller</th>\n",
       "      <td>4.903142e+08</td>\n",
       "    </tr>\n",
       "    <tr>\n",
       "      <th>Western,History</th>\n",
       "      <td>4.179465e+07</td>\n",
       "    </tr>\n",
       "    <tr>\n",
       "      <th>Western,History,War</th>\n",
       "      <td>2.980774e+07</td>\n",
       "    </tr>\n",
       "    <tr>\n",
       "      <th>Western,Thriller</th>\n",
       "      <td>5.753797e+03</td>\n",
       "    </tr>\n",
       "  </tbody>\n",
       "</table>\n",
       "<p>1043 rows × 1 columns</p>\n",
       "</div>"
      ],
      "text/plain": [
       "                                                    revenue_adj\n",
       "genres                                                         \n",
       "Action                                             1.157285e+08\n",
       "Action,Adventure                                   1.391337e+08\n",
       "Action,Adventure,Animation,Family,Fantasy          5.380038e+08\n",
       "Action,Adventure,Animation,Family,Science Fiction  7.289654e+08\n",
       "Action,Adventure,Animation,Science Fiction         5.298017e+06\n",
       "...                                                         ...\n",
       "Western,Drama                                      1.766125e+06\n",
       "Western,Drama,Adventure,Thriller                   4.903142e+08\n",
       "Western,History                                    4.179465e+07\n",
       "Western,History,War                                2.980774e+07\n",
       "Western,Thriller                                   5.753797e+03\n",
       "\n",
       "[1043 rows x 1 columns]"
      ]
     },
     "execution_count": 94,
     "metadata": {},
     "output_type": "execute_result"
    }
   ],
   "source": [
    "func_dict = {'revenue_adj': 'mean'}\n",
    "clean_df.groupby('genres').aggregate(func_dict)"
   ]
  },
  {
   "cell_type": "code",
   "execution_count": 95,
   "id": "ed88dc8e-9fe3-4bcd-b0a4-1b0754c0f36e",
   "metadata": {},
   "outputs": [
    {
     "data": {
      "text/plain": [
       "genres\n",
       "Horror,Thriller,Adventure                         1.907006e+09\n",
       "Action,Adventure,Science Fiction,Fantasy          1.902723e+09\n",
       "Science Fiction,Adventure,Family,Fantasy          1.791694e+09\n",
       "Crime,Drama,Mystery,Thriller,Action               1.583050e+09\n",
       "Family,Animation,Drama                            1.159592e+09\n",
       "                                                      ...     \n",
       "Horror,Romance,Thriller                           7.729969e+03\n",
       "Western,Thriller                                  5.753797e+03\n",
       "Science Fiction,Adventure,Action,Comedy,Family    1.248852e+02\n",
       "Thriller,Romance                                  8.585801e+00\n",
       "Science Fiction,Animation                         5.926763e+00\n",
       "Name: revenue_adj, Length: 1043, dtype: float64"
      ]
     },
     "execution_count": 95,
     "metadata": {},
     "output_type": "execute_result"
    }
   ],
   "source": [
    "x = clean_df.groupby('genres').aggregate(func_dict)\n",
    "x['revenue_adj'].sort_values(ascending=False)"
   ]
  },
  {
   "cell_type": "markdown",
   "id": "1e58a657-e7a5-4e0d-b55c-80d13999d1bd",
   "metadata": {},
   "source": [
    "### Month with highest number of movie releases"
   ]
  },
  {
   "cell_type": "code",
   "execution_count": 96,
   "id": "85303c9c-285d-4ae7-bc6d-78f4a73e3c15",
   "metadata": {},
   "outputs": [
    {
     "data": {
      "text/plain": [
       "0      2015-06-09\n",
       "1      2015-05-13\n",
       "2      2015-03-18\n",
       "3      2015-12-15\n",
       "4      2015-04-01\n",
       "          ...    \n",
       "3800   2066-06-21\n",
       "3801   2066-07-13\n",
       "3802   2066-12-17\n",
       "3803   2066-12-20\n",
       "3804   2066-08-24\n",
       "Name: release_date, Length: 3805, dtype: datetime64[ns]"
      ]
     },
     "execution_count": 96,
     "metadata": {},
     "output_type": "execute_result"
    }
   ],
   "source": [
    "clean_df['release_date']"
   ]
  },
  {
   "cell_type": "code",
   "execution_count": 97,
   "id": "90f1557e-688f-4a43-9df0-9f79422a0c85",
   "metadata": {},
   "outputs": [],
   "source": [
    "clean_df['month'] = clean_df['release_date'].dt.month_name()"
   ]
  },
  {
   "cell_type": "code",
   "execution_count": 98,
   "id": "3c6a789f-60a7-4923-93d9-810742dc6df5",
   "metadata": {},
   "outputs": [
    {
     "data": {
      "text/plain": [
       "month\n",
       "September    452\n",
       "December     411\n",
       "October      360\n",
       "June         339\n",
       "August       334\n",
       "July         308\n",
       "November     302\n",
       "May          290\n",
       "March        277\n",
       "April        261\n",
       "February     252\n",
       "January      219\n",
       "Name: genres, dtype: int64"
      ]
     },
     "execution_count": 98,
     "metadata": {},
     "output_type": "execute_result"
    }
   ],
   "source": [
    "clean_df.groupby('month')['genres'].size().sort_values(ascending=False)"
   ]
  },
  {
   "cell_type": "code",
   "execution_count": 101,
   "id": "7211635c-832e-45b4-ba24-90147345d646",
   "metadata": {},
   "outputs": [
    {
     "data": {
      "text/plain": [
       "[Text(0.5, 1.0, 'Movie releases per month'),\n",
       " Text(0.5, 0, 'Month'),\n",
       " Text(0, 0.5, 'Number of movies')]"
      ]
     },
     "execution_count": 101,
     "metadata": {},
     "output_type": "execute_result"
    },
    {
     "data": {
      "image/png": "[encoded data removed]",
      "text/plain": [
       "<Figure size 864x432 with 1 Axes>"
      ]
     },
     "metadata": {},
     "output_type": "display_data"
    }
   ],
   "source": [
    "plt.figure(figsize=(12, 6))\n",
    "x = clean_df.groupby('month')['genres'].size().sort_values(ascending=False)\n",
    "sns.barplot(x.index, x.values).set(title='Movie releases per month', xlabel='Month', ylabel='Number of movies')"
   ]
  },
  {
   "cell_type": "markdown",
   "id": "c34917b6-4837-459b-8bb9-5f8411ab4e86",
   "metadata": {},
   "source": [
    "### Day with highest number of movie release"
   ]
  },
  {
   "cell_type": "code",
   "execution_count": 102,
   "id": "eecddeb1-a09d-458b-9660-e1c066e771c5",
   "metadata": {},
   "outputs": [
    {
     "data": {
      "text/plain": [
       "day\n",
       "Friday       1644\n",
       "Thursday      758\n",
       "Wednesday     654\n",
       "Tuesday       283\n",
       "Monday        176\n",
       "Saturday      150\n",
       "Sunday        140\n",
       "Name: genres, dtype: int64"
      ]
     },
     "execution_count": 102,
     "metadata": {},
     "output_type": "execute_result"
    }
   ],
   "source": [
    "clean_df['day'] = clean_df['release_date'].dt.day_name()\n",
    "clean_df.groupby('day')['genres'].size().sort_values(ascending=False)"
   ]
  },
  {
   "cell_type": "code",
   "execution_count": 103,
   "id": "81dd8a40-da21-48e0-9ee2-aec1cb9d3452",
   "metadata": {},
   "outputs": [
    {
     "data": {
      "text/plain": [
       "[Text(0.5, 1.0, 'Movie releases per day'),\n",
       " Text(0.5, 0, 'Day'),\n",
       " Text(0, 0.5, 'Number of movies')]"
      ]
     },
     "execution_count": 103,
     "metadata": {},
     "output_type": "execute_result"
    },
    {
     "data": {
      "image/png": "[encoded data removed]",
      "text/plain": [
       "<Figure size 864x432 with 1 Axes>"
      ]
     },
     "metadata": {},
     "output_type": "display_data"
    }
   ],
   "source": [
    "plt.figure(figsize=(12, 6))\n",
    "x = clean_df.groupby('day')['genres'].size().sort_values(ascending=False)\n",
    "sns.barplot(x.index, x.values).set(title='Movie releases per day', xlabel='Day', ylabel='Number of movies')"
   ]
  }
 ],
 "metadata": {
  "kernelspec": {
   "display_name": "Python 3 (ipykernel)",
   "language": "python",
   "name": "python3"
  },
  "language_info": {
   "codemirror_mode": {
    "name": "ipython",
    "version": 3
   },
   "file_extension": ".py",
   "mimetype": "text/x-python",
   "name": "python",
   "nbconvert_exporter": "python",
   "pygments_lexer": "ipython3",
   "version": "3.9.12"
  }
 },
 "nbformat": 4,
 "nbformat_minor": 5
}

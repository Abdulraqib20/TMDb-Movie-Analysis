{
 "cells": [
  {
   "cell_type": "markdown",
   "id": "06c96dad-723f-4c26-be72-2f7dd42764fd",
   "metadata": {
    "id": "06c96dad-723f-4c26-be72-2f7dd42764fd",
    "tags": []
   },
   "source": [
    "# Project: TMBd Movie Data Analysis\n",
    "\n",
    "## Table of Contents\n",
    "<ul>\n",
    "<li><a href=\"#intro\">Introduction</a></li>\n",
    "<li><a href=\"#cleaning\">Data Cleaning</a></li>\n",
    "<li><a href=\"#eda\">Exploratory Data Analysis</a></li>\n",
    "<!-- <li><a href=\"#conclusions\">Conclusions</a></li>     -->\n",
    "</ul>"
   ]
  },
  {
   "cell_type": "markdown",
   "id": "41385b65-9bb5-45ba-b30b-ffd055b62ac9",
   "metadata": {
    "id": "41385b65-9bb5-45ba-b30b-ffd055b62ac9",
    "tags": []
   },
   "source": [
    "<a id='intro'></a>\n",
    "## Introduction\n",
    "\n",
    "This is a part of the projects I did in the Udacity Data Analyst Nanodegree Programme.\n",
    "\n",
    "The data set contains observation of about 10,000 movies collected from The Movie Database (TMDb), including user ratings and revenue. You can find more about the dataset [here](https://www.kaggle.com/datasets/juzershakir/tmdb-movies-dataset). In this project, I'm going to investigate the dataset to find out the movies with highest profits, hits and other interesting stuff about movies from the data."
   ]
  },
  {
   "cell_type": "code",
   "execution_count": 1,
   "id": "57b0042e-d7eb-482d-b79c-f4c54d47a32b",
   "metadata": {
    "id": "57b0042e-d7eb-482d-b79c-f4c54d47a32b"
   },
   "outputs": [],
   "source": [
    "# import libraries and packages\n",
    "import pandas as pd\n",
    "import numpy as np\n",
    "import matplotlib.pyplot as plt\n",
    "import seaborn as sns\n",
    "sns.set_theme(style='white')\n",
    "\n",
    "import warnings\n",
    "warnings.filterwarnings(action='ignore')"
   ]
  },
  {
   "cell_type": "code",
   "execution_count": 2,
   "id": "6043b8f3-72db-4578-b898-e5cc51e68956",
   "metadata": {
    "colab": {
     "base_uri": "https://localhost:8080/",
     "height": 643
    },
    "id": "6043b8f3-72db-4578-b898-e5cc51e68956",
    "outputId": "3e314e60-0f65-4ab6-98f0-0b832fe66615"
   },
   "outputs": [
    {
     "data": {
      "text/html": [
       "<div>\n",
       "<style scoped>\n",
       "    .dataframe tbody tr th:only-of-type {\n",
       "        vertical-align: middle;\n",
       "    }\n",
       "\n",
       "    .dataframe tbody tr th {\n",
       "        vertical-align: top;\n",
       "    }\n",
       "\n",
       "    .dataframe thead th {\n",
       "        text-align: right;\n",
       "    }\n",
       "</style>\n",
       "<table border=\"1\" class=\"dataframe\">\n",
       "  <thead>\n",
       "    <tr style=\"text-align: right;\">\n",
       "      <th></th>\n",
       "      <th>id</th>\n",
       "      <th>imdb_id</th>\n",
       "      <th>popularity</th>\n",
       "      <th>budget</th>\n",
       "      <th>revenue</th>\n",
       "      <th>original_title</th>\n",
       "      <th>cast</th>\n",
       "      <th>homepage</th>\n",
       "      <th>director</th>\n",
       "      <th>tagline</th>\n",
       "      <th>keywords</th>\n",
       "      <th>overview</th>\n",
       "      <th>runtime</th>\n",
       "      <th>genres</th>\n",
       "      <th>production_companies</th>\n",
       "      <th>release_date</th>\n",
       "      <th>vote_count</th>\n",
       "      <th>vote_average</th>\n",
       "      <th>release_year</th>\n",
       "      <th>budget_adj</th>\n",
       "      <th>revenue_adj</th>\n",
       "    </tr>\n",
       "  </thead>\n",
       "  <tbody>\n",
       "    <tr>\n",
       "      <th>0</th>\n",
       "      <td>135397</td>\n",
       "      <td>tt0369610</td>\n",
       "      <td>32.985763</td>\n",
       "      <td>150000000</td>\n",
       "      <td>1513528810</td>\n",
       "      <td>Jurassic World</td>\n",
       "      <td>Chris Pratt|Bryce Dallas Howard|Irrfan Khan|Vi...</td>\n",
       "      <td>http://www.jurassicworld.com/</td>\n",
       "      <td>Colin Trevorrow</td>\n",
       "      <td>The park is open.</td>\n",
       "      <td>monster|dna|tyrannosaurus rex|velociraptor|island</td>\n",
       "      <td>Twenty-two years after the events of Jurassic ...</td>\n",
       "      <td>124</td>\n",
       "      <td>Action|Adventure|Science Fiction|Thriller</td>\n",
       "      <td>Universal Studios|Amblin Entertainment|Legenda...</td>\n",
       "      <td>6/9/15</td>\n",
       "      <td>5562</td>\n",
       "      <td>6.5</td>\n",
       "      <td>2015</td>\n",
       "      <td>1.379999e+08</td>\n",
       "      <td>1.392446e+09</td>\n",
       "    </tr>\n",
       "    <tr>\n",
       "      <th>1</th>\n",
       "      <td>76341</td>\n",
       "      <td>tt1392190</td>\n",
       "      <td>28.419936</td>\n",
       "      <td>150000000</td>\n",
       "      <td>378436354</td>\n",
       "      <td>Mad Max: Fury Road</td>\n",
       "      <td>Tom Hardy|Charlize Theron|Hugh Keays-Byrne|Nic...</td>\n",
       "      <td>http://www.madmaxmovie.com/</td>\n",
       "      <td>George Miller</td>\n",
       "      <td>What a Lovely Day.</td>\n",
       "      <td>future|chase|post-apocalyptic|dystopia|australia</td>\n",
       "      <td>An apocalyptic story set in the furthest reach...</td>\n",
       "      <td>120</td>\n",
       "      <td>Action|Adventure|Science Fiction|Thriller</td>\n",
       "      <td>Village Roadshow Pictures|Kennedy Miller Produ...</td>\n",
       "      <td>5/13/15</td>\n",
       "      <td>6185</td>\n",
       "      <td>7.1</td>\n",
       "      <td>2015</td>\n",
       "      <td>1.379999e+08</td>\n",
       "      <td>3.481613e+08</td>\n",
       "    </tr>\n",
       "    <tr>\n",
       "      <th>2</th>\n",
       "      <td>262500</td>\n",
       "      <td>tt2908446</td>\n",
       "      <td>13.112507</td>\n",
       "      <td>110000000</td>\n",
       "      <td>295238201</td>\n",
       "      <td>Insurgent</td>\n",
       "      <td>Shailene Woodley|Theo James|Kate Winslet|Ansel...</td>\n",
       "      <td>http://www.thedivergentseries.movie/#insurgent</td>\n",
       "      <td>Robert Schwentke</td>\n",
       "      <td>One Choice Can Destroy You</td>\n",
       "      <td>based on novel|revolution|dystopia|sequel|dyst...</td>\n",
       "      <td>Beatrice Prior must confront her inner demons ...</td>\n",
       "      <td>119</td>\n",
       "      <td>Adventure|Science Fiction|Thriller</td>\n",
       "      <td>Summit Entertainment|Mandeville Films|Red Wago...</td>\n",
       "      <td>3/18/15</td>\n",
       "      <td>2480</td>\n",
       "      <td>6.3</td>\n",
       "      <td>2015</td>\n",
       "      <td>1.012000e+08</td>\n",
       "      <td>2.716190e+08</td>\n",
       "    </tr>\n",
       "    <tr>\n",
       "      <th>3</th>\n",
       "      <td>140607</td>\n",
       "      <td>tt2488496</td>\n",
       "      <td>11.173104</td>\n",
       "      <td>200000000</td>\n",
       "      <td>2068178225</td>\n",
       "      <td>Star Wars: The Force Awakens</td>\n",
       "      <td>Harrison Ford|Mark Hamill|Carrie Fisher|Adam D...</td>\n",
       "      <td>http://www.starwars.com/films/star-wars-episod...</td>\n",
       "      <td>J.J. Abrams</td>\n",
       "      <td>Every generation has a story.</td>\n",
       "      <td>android|spaceship|jedi|space opera|3d</td>\n",
       "      <td>Thirty years after defeating the Galactic Empi...</td>\n",
       "      <td>136</td>\n",
       "      <td>Action|Adventure|Science Fiction|Fantasy</td>\n",
       "      <td>Lucasfilm|Truenorth Productions|Bad Robot</td>\n",
       "      <td>12/15/15</td>\n",
       "      <td>5292</td>\n",
       "      <td>7.5</td>\n",
       "      <td>2015</td>\n",
       "      <td>1.839999e+08</td>\n",
       "      <td>1.902723e+09</td>\n",
       "    </tr>\n",
       "    <tr>\n",
       "      <th>4</th>\n",
       "      <td>168259</td>\n",
       "      <td>tt2820852</td>\n",
       "      <td>9.335014</td>\n",
       "      <td>190000000</td>\n",
       "      <td>1506249360</td>\n",
       "      <td>Furious 7</td>\n",
       "      <td>Vin Diesel|Paul Walker|Jason Statham|Michelle ...</td>\n",
       "      <td>http://www.furious7.com/</td>\n",
       "      <td>James Wan</td>\n",
       "      <td>Vengeance Hits Home</td>\n",
       "      <td>car race|speed|revenge|suspense|car</td>\n",
       "      <td>Deckard Shaw seeks revenge against Dominic Tor...</td>\n",
       "      <td>137</td>\n",
       "      <td>Action|Crime|Thriller</td>\n",
       "      <td>Universal Pictures|Original Film|Media Rights ...</td>\n",
       "      <td>4/1/15</td>\n",
       "      <td>2947</td>\n",
       "      <td>7.3</td>\n",
       "      <td>2015</td>\n",
       "      <td>1.747999e+08</td>\n",
       "      <td>1.385749e+09</td>\n",
       "    </tr>\n",
       "  </tbody>\n",
       "</table>\n",
       "</div>"
      ],
      "text/plain": [
       "       id    imdb_id  popularity     budget     revenue  \\\n",
       "0  135397  tt0369610   32.985763  150000000  1513528810   \n",
       "1   76341  tt1392190   28.419936  150000000   378436354   \n",
       "2  262500  tt2908446   13.112507  110000000   295238201   \n",
       "3  140607  tt2488496   11.173104  200000000  2068178225   \n",
       "4  168259  tt2820852    9.335014  190000000  1506249360   \n",
       "\n",
       "                 original_title  \\\n",
       "0                Jurassic World   \n",
       "1            Mad Max: Fury Road   \n",
       "2                     Insurgent   \n",
       "3  Star Wars: The Force Awakens   \n",
       "4                     Furious 7   \n",
       "\n",
       "                                                cast  \\\n",
       "0  Chris Pratt|Bryce Dallas Howard|Irrfan Khan|Vi...   \n",
       "1  Tom Hardy|Charlize Theron|Hugh Keays-Byrne|Nic...   \n",
       "2  Shailene Woodley|Theo James|Kate Winslet|Ansel...   \n",
       "3  Harrison Ford|Mark Hamill|Carrie Fisher|Adam D...   \n",
       "4  Vin Diesel|Paul Walker|Jason Statham|Michelle ...   \n",
       "\n",
       "                                            homepage          director  \\\n",
       "0                      http://www.jurassicworld.com/   Colin Trevorrow   \n",
       "1                        http://www.madmaxmovie.com/     George Miller   \n",
       "2     http://www.thedivergentseries.movie/#insurgent  Robert Schwentke   \n",
       "3  http://www.starwars.com/films/star-wars-episod...       J.J. Abrams   \n",
       "4                           http://www.furious7.com/         James Wan   \n",
       "\n",
       "                         tagline  \\\n",
       "0              The park is open.   \n",
       "1             What a Lovely Day.   \n",
       "2     One Choice Can Destroy You   \n",
       "3  Every generation has a story.   \n",
       "4            Vengeance Hits Home   \n",
       "\n",
       "                                            keywords  \\\n",
       "0  monster|dna|tyrannosaurus rex|velociraptor|island   \n",
       "1   future|chase|post-apocalyptic|dystopia|australia   \n",
       "2  based on novel|revolution|dystopia|sequel|dyst...   \n",
       "3              android|spaceship|jedi|space opera|3d   \n",
       "4                car race|speed|revenge|suspense|car   \n",
       "\n",
       "                                            overview  runtime  \\\n",
       "0  Twenty-two years after the events of Jurassic ...      124   \n",
       "1  An apocalyptic story set in the furthest reach...      120   \n",
       "2  Beatrice Prior must confront her inner demons ...      119   \n",
       "3  Thirty years after defeating the Galactic Empi...      136   \n",
       "4  Deckard Shaw seeks revenge against Dominic Tor...      137   \n",
       "\n",
       "                                      genres  \\\n",
       "0  Action|Adventure|Science Fiction|Thriller   \n",
       "1  Action|Adventure|Science Fiction|Thriller   \n",
       "2         Adventure|Science Fiction|Thriller   \n",
       "3   Action|Adventure|Science Fiction|Fantasy   \n",
       "4                      Action|Crime|Thriller   \n",
       "\n",
       "                                production_companies release_date  vote_count  \\\n",
       "0  Universal Studios|Amblin Entertainment|Legenda...       6/9/15        5562   \n",
       "1  Village Roadshow Pictures|Kennedy Miller Produ...      5/13/15        6185   \n",
       "2  Summit Entertainment|Mandeville Films|Red Wago...      3/18/15        2480   \n",
       "3          Lucasfilm|Truenorth Productions|Bad Robot     12/15/15        5292   \n",
       "4  Universal Pictures|Original Film|Media Rights ...       4/1/15        2947   \n",
       "\n",
       "   vote_average  release_year    budget_adj   revenue_adj  \n",
       "0           6.5          2015  1.379999e+08  1.392446e+09  \n",
       "1           7.1          2015  1.379999e+08  3.481613e+08  \n",
       "2           6.3          2015  1.012000e+08  2.716190e+08  \n",
       "3           7.5          2015  1.839999e+08  1.902723e+09  \n",
       "4           7.3          2015  1.747999e+08  1.385749e+09  "
      ]
     },
     "execution_count": 2,
     "metadata": {},
     "output_type": "execute_result"
    }
   ],
   "source": [
    "df = pd.read_csv('tmdb-movies.csv')\n",
    "# display all columns\n",
    "pd.set_option('display.max_columns', None)\n",
    "df.head()"
   ]
  },
  {
   "cell_type": "markdown",
   "id": "c25cf20c-31b5-4821-821a-a37fcbdeab6b",
   "metadata": {
    "id": "c25cf20c-31b5-4821-821a-a37fcbdeab6b"
   },
   "source": [
    "<a id='cleaning'></a>\n",
    "## Data Cleaning\n",
    "\n",
    "I'd be accessing, cleaning and exploring the dataset here."
   ]
  },
  {
   "cell_type": "code",
   "execution_count": 3,
   "id": "4f8677a1-0def-47ff-9563-065a06a99476",
   "metadata": {
    "colab": {
     "base_uri": "https://localhost:8080/"
    },
    "id": "4f8677a1-0def-47ff-9563-065a06a99476",
    "outputId": "ba47528b-327f-4b83-90b1-37686b890bf7"
   },
   "outputs": [
    {
     "name": "stdout",
     "output_type": "stream",
     "text": [
      "(10866, 21)\n",
      "<class 'pandas.core.frame.DataFrame'>\n",
      "RangeIndex: 10866 entries, 0 to 10865\n",
      "Data columns (total 21 columns):\n",
      " #   Column                Non-Null Count  Dtype  \n",
      "---  ------                --------------  -----  \n",
      " 0   id                    10866 non-null  int64  \n",
      " 1   imdb_id               10856 non-null  object \n",
      " 2   popularity            10866 non-null  float64\n",
      " 3   budget                10866 non-null  int64  \n",
      " 4   revenue               10866 non-null  int64  \n",
      " 5   original_title        10866 non-null  object \n",
      " 6   cast                  10790 non-null  object \n",
      " 7   homepage              2936 non-null   object \n",
      " 8   director              10822 non-null  object \n",
      " 9   tagline               8042 non-null   object \n",
      " 10  keywords              9373 non-null   object \n",
      " 11  overview              10862 non-null  object \n",
      " 12  runtime               10866 non-null  int64  \n",
      " 13  genres                10843 non-null  object \n",
      " 14  production_companies  9836 non-null   object \n",
      " 15  release_date          10866 non-null  object \n",
      " 16  vote_count            10866 non-null  int64  \n",
      " 17  vote_average          10866 non-null  float64\n",
      " 18  release_year          10866 non-null  int64  \n",
      " 19  budget_adj            10866 non-null  float64\n",
      " 20  revenue_adj           10866 non-null  float64\n",
      "dtypes: float64(4), int64(6), object(11)\n",
      "memory usage: 1.7+ MB\n"
     ]
    }
   ],
   "source": [
    "print(df.shape)\n",
    "df.info()"
   ]
  },
  {
   "cell_type": "code",
   "execution_count": 4,
   "id": "e26e9515-ee5e-411c-a061-691af16a24c2",
   "metadata": {
    "colab": {
     "base_uri": "https://localhost:8080/",
     "height": 300
    },
    "id": "e26e9515-ee5e-411c-a061-691af16a24c2",
    "outputId": "f175ccdb-75fe-4d07-874f-8781f8b7393d"
   },
   "outputs": [
    {
     "data": {
      "text/html": [
       "<div>\n",
       "<style scoped>\n",
       "    .dataframe tbody tr th:only-of-type {\n",
       "        vertical-align: middle;\n",
       "    }\n",
       "\n",
       "    .dataframe tbody tr th {\n",
       "        vertical-align: top;\n",
       "    }\n",
       "\n",
       "    .dataframe thead th {\n",
       "        text-align: right;\n",
       "    }\n",
       "</style>\n",
       "<table border=\"1\" class=\"dataframe\">\n",
       "  <thead>\n",
       "    <tr style=\"text-align: right;\">\n",
       "      <th></th>\n",
       "      <th>id</th>\n",
       "      <th>popularity</th>\n",
       "      <th>budget</th>\n",
       "      <th>revenue</th>\n",
       "      <th>runtime</th>\n",
       "      <th>vote_count</th>\n",
       "      <th>vote_average</th>\n",
       "      <th>release_year</th>\n",
       "      <th>budget_adj</th>\n",
       "      <th>revenue_adj</th>\n",
       "    </tr>\n",
       "  </thead>\n",
       "  <tbody>\n",
       "    <tr>\n",
       "      <th>count</th>\n",
       "      <td>10866.000000</td>\n",
       "      <td>10866.000000</td>\n",
       "      <td>1.086600e+04</td>\n",
       "      <td>1.086600e+04</td>\n",
       "      <td>10866.000000</td>\n",
       "      <td>10866.000000</td>\n",
       "      <td>10866.000000</td>\n",
       "      <td>10866.000000</td>\n",
       "      <td>1.086600e+04</td>\n",
       "      <td>1.086600e+04</td>\n",
       "    </tr>\n",
       "    <tr>\n",
       "      <th>mean</th>\n",
       "      <td>66064.177434</td>\n",
       "      <td>0.646441</td>\n",
       "      <td>1.462570e+07</td>\n",
       "      <td>3.982332e+07</td>\n",
       "      <td>102.070863</td>\n",
       "      <td>217.389748</td>\n",
       "      <td>5.974922</td>\n",
       "      <td>2001.322658</td>\n",
       "      <td>1.755104e+07</td>\n",
       "      <td>5.136436e+07</td>\n",
       "    </tr>\n",
       "    <tr>\n",
       "      <th>std</th>\n",
       "      <td>92130.136561</td>\n",
       "      <td>1.000185</td>\n",
       "      <td>3.091321e+07</td>\n",
       "      <td>1.170035e+08</td>\n",
       "      <td>31.381405</td>\n",
       "      <td>575.619058</td>\n",
       "      <td>0.935142</td>\n",
       "      <td>12.812941</td>\n",
       "      <td>3.430616e+07</td>\n",
       "      <td>1.446325e+08</td>\n",
       "    </tr>\n",
       "    <tr>\n",
       "      <th>min</th>\n",
       "      <td>5.000000</td>\n",
       "      <td>0.000065</td>\n",
       "      <td>0.000000e+00</td>\n",
       "      <td>0.000000e+00</td>\n",
       "      <td>0.000000</td>\n",
       "      <td>10.000000</td>\n",
       "      <td>1.500000</td>\n",
       "      <td>1960.000000</td>\n",
       "      <td>0.000000e+00</td>\n",
       "      <td>0.000000e+00</td>\n",
       "    </tr>\n",
       "    <tr>\n",
       "      <th>25%</th>\n",
       "      <td>10596.250000</td>\n",
       "      <td>0.207583</td>\n",
       "      <td>0.000000e+00</td>\n",
       "      <td>0.000000e+00</td>\n",
       "      <td>90.000000</td>\n",
       "      <td>17.000000</td>\n",
       "      <td>5.400000</td>\n",
       "      <td>1995.000000</td>\n",
       "      <td>0.000000e+00</td>\n",
       "      <td>0.000000e+00</td>\n",
       "    </tr>\n",
       "    <tr>\n",
       "      <th>50%</th>\n",
       "      <td>20669.000000</td>\n",
       "      <td>0.383856</td>\n",
       "      <td>0.000000e+00</td>\n",
       "      <td>0.000000e+00</td>\n",
       "      <td>99.000000</td>\n",
       "      <td>38.000000</td>\n",
       "      <td>6.000000</td>\n",
       "      <td>2006.000000</td>\n",
       "      <td>0.000000e+00</td>\n",
       "      <td>0.000000e+00</td>\n",
       "    </tr>\n",
       "    <tr>\n",
       "      <th>75%</th>\n",
       "      <td>75610.000000</td>\n",
       "      <td>0.713817</td>\n",
       "      <td>1.500000e+07</td>\n",
       "      <td>2.400000e+07</td>\n",
       "      <td>111.000000</td>\n",
       "      <td>145.750000</td>\n",
       "      <td>6.600000</td>\n",
       "      <td>2011.000000</td>\n",
       "      <td>2.085325e+07</td>\n",
       "      <td>3.369710e+07</td>\n",
       "    </tr>\n",
       "    <tr>\n",
       "      <th>max</th>\n",
       "      <td>417859.000000</td>\n",
       "      <td>32.985763</td>\n",
       "      <td>4.250000e+08</td>\n",
       "      <td>2.781506e+09</td>\n",
       "      <td>900.000000</td>\n",
       "      <td>9767.000000</td>\n",
       "      <td>9.200000</td>\n",
       "      <td>2015.000000</td>\n",
       "      <td>4.250000e+08</td>\n",
       "      <td>2.827124e+09</td>\n",
       "    </tr>\n",
       "  </tbody>\n",
       "</table>\n",
       "</div>"
      ],
      "text/plain": [
       "                  id    popularity        budget       revenue       runtime  \\\n",
       "count   10866.000000  10866.000000  1.086600e+04  1.086600e+04  10866.000000   \n",
       "mean    66064.177434      0.646441  1.462570e+07  3.982332e+07    102.070863   \n",
       "std     92130.136561      1.000185  3.091321e+07  1.170035e+08     31.381405   \n",
       "min         5.000000      0.000065  0.000000e+00  0.000000e+00      0.000000   \n",
       "25%     10596.250000      0.207583  0.000000e+00  0.000000e+00     90.000000   \n",
       "50%     20669.000000      0.383856  0.000000e+00  0.000000e+00     99.000000   \n",
       "75%     75610.000000      0.713817  1.500000e+07  2.400000e+07    111.000000   \n",
       "max    417859.000000     32.985763  4.250000e+08  2.781506e+09    900.000000   \n",
       "\n",
       "         vote_count  vote_average  release_year    budget_adj   revenue_adj  \n",
       "count  10866.000000  10866.000000  10866.000000  1.086600e+04  1.086600e+04  \n",
       "mean     217.389748      5.974922   2001.322658  1.755104e+07  5.136436e+07  \n",
       "std      575.619058      0.935142     12.812941  3.430616e+07  1.446325e+08  \n",
       "min       10.000000      1.500000   1960.000000  0.000000e+00  0.000000e+00  \n",
       "25%       17.000000      5.400000   1995.000000  0.000000e+00  0.000000e+00  \n",
       "50%       38.000000      6.000000   2006.000000  0.000000e+00  0.000000e+00  \n",
       "75%      145.750000      6.600000   2011.000000  2.085325e+07  3.369710e+07  \n",
       "max     9767.000000      9.200000   2015.000000  4.250000e+08  2.827124e+09  "
      ]
     },
     "execution_count": 4,
     "metadata": {},
     "output_type": "execute_result"
    }
   ],
   "source": [
    "df.describe()"
   ]
  },
  {
   "cell_type": "code",
   "execution_count": 5,
   "id": "ab1f2f91-ce7a-4965-96db-387894e9a304",
   "metadata": {
    "colab": {
     "base_uri": "https://localhost:8080/"
    },
    "id": "ab1f2f91-ce7a-4965-96db-387894e9a304",
    "outputId": "b8c4afdc-defb-4fec-d3d5-934307cd5077"
   },
   "outputs": [
    {
     "data": {
      "text/plain": [
       "Index(['id', 'imdb_id', 'popularity', 'budget', 'revenue', 'original_title',\n",
       "       'cast', 'homepage', 'director', 'tagline', 'keywords', 'overview',\n",
       "       'runtime', 'genres', 'production_companies', 'release_date',\n",
       "       'vote_count', 'vote_average', 'release_year', 'budget_adj',\n",
       "       'revenue_adj'],\n",
       "      dtype='object')"
      ]
     },
     "execution_count": 5,
     "metadata": {},
     "output_type": "execute_result"
    }
   ],
   "source": [
    "df.columns"
   ]
  },
  {
   "cell_type": "markdown",
   "id": "b280e8cb-e9f5-4ede-9f87-148b929fce24",
   "metadata": {
    "id": "b280e8cb-e9f5-4ede-9f87-148b929fce24"
   },
   "source": [
    "The columns below won't be useful in our analysis, so I'll drop them"
   ]
  },
  {
   "cell_type": "code",
   "execution_count": 6,
   "id": "4e606290-01b8-4a22-9a75-527764e2ca76",
   "metadata": {
    "id": "4e606290-01b8-4a22-9a75-527764e2ca76",
    "tags": []
   },
   "outputs": [],
   "source": [
    "# drop unwanted columns\n",
    "df.drop(df[['id', 'imdb_id', 'homepage', 'tagline', 'keywords']], axis=1, inplace=True)"
   ]
  },
  {
   "cell_type": "markdown",
   "id": "oG1U35063UJh",
   "metadata": {
    "id": "oG1U35063UJh"
   },
   "source": [
    "The reasons for dropping each column are as follows:\n",
    "\n",
    "1. 'id': This column appears to be an identifier for the movies, and it usually doesn't provide meaningful information for analysis since it's likely just a unique identifier for each row in the dataset.\n",
    "\n",
    "2. 'imdb_id': Similarly, this column seems to be an identifier related to IMDB, which may not be needed for your analysis unless you specifically intend to cross-reference data with IMDB.\n",
    "\n",
    "3. 'homepage': This column contains URLs to movie homepages. Unless you plan to use these URLs for web scraping or accessing additional data from the homepages, it's not typically relevant to most types of analysis.\n",
    "\n",
    "4. 'tagline': The tagline is often a brief marketing slogan for the movie. For many types of analysis, it's considered non-essential textual information that doesn't contribute to the core analysis objectives.\n",
    "\n",
    "5. 'keywords': This column often contains keywords or phrases related to the movie's content or themes. While it may be interesting for some text analysis tasks, it's not commonly used in general movie analysis."
   ]
  },
  {
   "cell_type": "code",
   "execution_count": 7,
   "id": "68a9163c-6105-4794-bd84-125a9d1d868f",
   "metadata": {
    "colab": {
     "base_uri": "https://localhost:8080/"
    },
    "id": "68a9163c-6105-4794-bd84-125a9d1d868f",
    "outputId": "4318aed7-38b4-4aeb-d66f-02431e62146d",
    "tags": []
   },
   "outputs": [
    {
     "name": "stdout",
     "output_type": "stream",
     "text": [
      "1\n"
     ]
    }
   ],
   "source": [
    "# check for duplicates\n",
    "print(df.duplicated().sum())\n",
    "df.drop_duplicates(inplace=True)"
   ]
  },
  {
   "cell_type": "markdown",
   "id": "t04MLMfX7QbX",
   "metadata": {
    "id": "t04MLMfX7QbX"
   },
   "source": [
    "**Dealing with the missing values**"
   ]
  },
  {
   "cell_type": "code",
   "execution_count": 8,
   "id": "q8W083-5YmUt",
   "metadata": {
    "colab": {
     "base_uri": "https://localhost:8080/"
    },
    "id": "q8W083-5YmUt",
    "outputId": "0b3d94d7-9edd-472a-ca3a-9bc46d9d80f6"
   },
   "outputs": [
    {
     "data": {
      "text/plain": [
       "[0, 2, 4, 6, 8]"
      ]
     },
     "execution_count": 8,
     "metadata": {},
     "output_type": "execute_result"
    }
   ],
   "source": [
    "numbers = np.arange(10)\n",
    "numbers\n",
    "list(filter(lambda x: x%2 == 0, numbers))"
   ]
  },
  {
   "cell_type": "code",
   "execution_count": 9,
   "id": "6f60907c-87f5-4be1-820e-e75ef825c863",
   "metadata": {
    "colab": {
     "base_uri": "https://localhost:8080/"
    },
    "id": "6f60907c-87f5-4be1-820e-e75ef825c863",
    "outputId": "13813931-9df2-4def-c1f6-46f76eacce2f"
   },
   "outputs": [
    {
     "data": {
      "text/plain": [
       "['budget', 'revenue', 'runtime', 'budget_adj', 'revenue_adj']"
      ]
     },
     "execution_count": 9,
     "metadata": {},
     "output_type": "execute_result"
    }
   ],
   "source": [
    "# Checking for columns containing Zero value\n",
    "df.apply(lambda x: (x==0).any())[lambda x: x].index.to_list()"
   ]
  },
  {
   "cell_type": "code",
   "execution_count": 10,
   "id": "1e37b871-cc1a-4e9d-b6fd-eafd0429a617",
   "metadata": {
    "id": "1e37b871-cc1a-4e9d-b6fd-eafd0429a617"
   },
   "outputs": [],
   "source": [
    "# replacing the zero values with null values.\n",
    "\n",
    "df['budget'].replace(0, np.nan, inplace=True)\n",
    "df['revenue'].replace(0, np.nan, inplace=True)\n",
    "df['runtime'].replace(0, np.nan, inplace=True)\n",
    "df['budget_adj'].replace(0, np.nan, inplace=True)\n",
    "df['revenue_adj'].replace(0, np.nan, inplace=True)"
   ]
  },
  {
   "cell_type": "code",
   "execution_count": 11,
   "id": "-2NYJybVZ-U8",
   "metadata": {
    "colab": {
     "base_uri": "https://localhost:8080/"
    },
    "id": "-2NYJybVZ-U8",
    "outputId": "e739620c-88ba-4042-9770-7c98b0e2ee0e"
   },
   "outputs": [
    {
     "data": {
      "text/plain": [
       "popularity                 0\n",
       "budget                  5696\n",
       "revenue                 6016\n",
       "original_title             0\n",
       "cast                      76\n",
       "director                  44\n",
       "overview                   4\n",
       "runtime                   31\n",
       "genres                    23\n",
       "production_companies    1030\n",
       "release_date               0\n",
       "vote_count                 0\n",
       "vote_average               0\n",
       "release_year               0\n",
       "budget_adj              5696\n",
       "revenue_adj             6016\n",
       "dtype: int64"
      ]
     },
     "execution_count": 11,
     "metadata": {},
     "output_type": "execute_result"
    }
   ],
   "source": [
    "df.isnull().sum()"
   ]
  },
  {
   "cell_type": "code",
   "execution_count": 12,
   "id": "6IUszgXE5lDM",
   "metadata": {
    "colab": {
     "base_uri": "https://localhost:8080/",
     "height": 380
    },
    "id": "6IUszgXE5lDM",
    "outputId": "1169b49a-343d-4d3f-e1b7-de6db48ef9b2"
   },
   "outputs": [
    {
     "name": "stdout",
     "output_type": "stream",
     "text": [
      "Checking for null values in the dataset\n"
     ]
    },
    {
     "data": {
      "text/html": [
       "<div>\n",
       "<style scoped>\n",
       "    .dataframe tbody tr th:only-of-type {\n",
       "        vertical-align: middle;\n",
       "    }\n",
       "\n",
       "    .dataframe tbody tr th {\n",
       "        vertical-align: top;\n",
       "    }\n",
       "\n",
       "    .dataframe thead th {\n",
       "        text-align: right;\n",
       "    }\n",
       "</style>\n",
       "<table border=\"1\" class=\"dataframe\">\n",
       "  <thead>\n",
       "    <tr style=\"text-align: right;\">\n",
       "      <th></th>\n",
       "      <th>Total</th>\n",
       "      <th>%</th>\n",
       "    </tr>\n",
       "  </thead>\n",
       "  <tbody>\n",
       "    <tr>\n",
       "      <th>revenue</th>\n",
       "      <td>6016</td>\n",
       "      <td>55.37</td>\n",
       "    </tr>\n",
       "    <tr>\n",
       "      <th>revenue_adj</th>\n",
       "      <td>6016</td>\n",
       "      <td>55.37</td>\n",
       "    </tr>\n",
       "    <tr>\n",
       "      <th>budget</th>\n",
       "      <td>5696</td>\n",
       "      <td>52.43</td>\n",
       "    </tr>\n",
       "    <tr>\n",
       "      <th>budget_adj</th>\n",
       "      <td>5696</td>\n",
       "      <td>52.43</td>\n",
       "    </tr>\n",
       "    <tr>\n",
       "      <th>production_companies</th>\n",
       "      <td>1030</td>\n",
       "      <td>9.48</td>\n",
       "    </tr>\n",
       "    <tr>\n",
       "      <th>cast</th>\n",
       "      <td>76</td>\n",
       "      <td>0.70</td>\n",
       "    </tr>\n",
       "    <tr>\n",
       "      <th>director</th>\n",
       "      <td>44</td>\n",
       "      <td>0.40</td>\n",
       "    </tr>\n",
       "    <tr>\n",
       "      <th>runtime</th>\n",
       "      <td>31</td>\n",
       "      <td>0.29</td>\n",
       "    </tr>\n",
       "    <tr>\n",
       "      <th>genres</th>\n",
       "      <td>23</td>\n",
       "      <td>0.21</td>\n",
       "    </tr>\n",
       "    <tr>\n",
       "      <th>overview</th>\n",
       "      <td>4</td>\n",
       "      <td>0.04</td>\n",
       "    </tr>\n",
       "  </tbody>\n",
       "</table>\n",
       "</div>"
      ],
      "text/plain": [
       "                      Total      %\n",
       "revenue                6016  55.37\n",
       "revenue_adj            6016  55.37\n",
       "budget                 5696  52.43\n",
       "budget_adj             5696  52.43\n",
       "production_companies   1030   9.48\n",
       "cast                     76   0.70\n",
       "director                 44   0.40\n",
       "runtime                  31   0.29\n",
       "genres                   23   0.21\n",
       "overview                  4   0.04"
      ]
     },
     "execution_count": 12,
     "metadata": {},
     "output_type": "execute_result"
    }
   ],
   "source": [
    "missing_val = pd.concat([df.isnull().sum(), (df.isnull().mean() * 100).round(2)], axis=1, keys=['Total', '%'])\n",
    "missing_val = missing_val[missing_val['Total'] > 0].sort_values(by='Total', ascending=False)\n",
    "print('Checking for null values in the dataset')\n",
    "missing_val"
   ]
  },
  {
   "cell_type": "markdown",
   "id": "KpN64r6CAi2w",
   "metadata": {
    "id": "KpN64r6CAi2w"
   },
   "source": [
    "We will remove the numerical rows with missing values completely and then impute the non-numerical columns with \"Unknown\" to signify missing data."
   ]
  },
  {
   "cell_type": "code",
   "execution_count": 13,
   "id": "p-O9fTfdA6jr",
   "metadata": {
    "id": "p-O9fTfdA6jr"
   },
   "outputs": [],
   "source": [
    "df['cast'].fillna('Unknown', inplace=True)\n",
    "df['director'].fillna('Unknown', inplace=True)\n",
    "df['overview'].fillna('Unknown', inplace=True)\n",
    "df['genres'].fillna('Unknown', inplace=True)\n",
    "df['production_companies'].fillna('Unknown', inplace=True)"
   ]
  },
  {
   "cell_type": "code",
   "execution_count": 14,
   "id": "9b21425d-a335-4ced-a68b-efde331d7a8b",
   "metadata": {
    "id": "9b21425d-a335-4ced-a68b-efde331d7a8b"
   },
   "outputs": [],
   "source": [
    "# drop null values\n",
    "df.dropna(inplace=True)"
   ]
  },
  {
   "cell_type": "code",
   "execution_count": 15,
   "id": "19b14d77-a362-4a48-b410-73b6c947c64b",
   "metadata": {
    "colab": {
     "base_uri": "https://localhost:8080/"
    },
    "id": "19b14d77-a362-4a48-b410-73b6c947c64b",
    "outputId": "b283287a-1ae5-44cc-d676-b320b0c83058"
   },
   "outputs": [
    {
     "data": {
      "text/plain": [
       "False"
      ]
     },
     "execution_count": 15,
     "metadata": {},
     "output_type": "execute_result"
    }
   ],
   "source": [
    "# confirm null values are gone\n",
    "df.isnull().sum().any()"
   ]
  },
  {
   "cell_type": "markdown",
   "id": "V5n-8RAxCHb3",
   "metadata": {
    "id": "V5n-8RAxCHb3"
   },
   "source": [
    "**Change the data types of the columns where necessary**"
   ]
  },
  {
   "cell_type": "code",
   "execution_count": 16,
   "id": "-q8zN71pCoVE",
   "metadata": {
    "id": "-q8zN71pCoVE"
   },
   "outputs": [],
   "source": [
    "# change runtime to int from float\n",
    "df['runtime'] = df['runtime'].astype('int')"
   ]
  },
  {
   "cell_type": "code",
   "execution_count": 17,
   "id": "d3b02734-d5ae-4621-a0ec-e6ddbd2fb626",
   "metadata": {
    "id": "d3b02734-d5ae-4621-a0ec-e6ddbd2fb626"
   },
   "outputs": [],
   "source": [
    "# release data is an object data type which isn't meant to be. convert to datetime\n",
    "df['release_date'] = pd.to_datetime(df['release_date'])"
   ]
  },
  {
   "cell_type": "code",
   "execution_count": 18,
   "id": "7e459659-ac03-4493-aeb1-c62129904682",
   "metadata": {
    "colab": {
     "base_uri": "https://localhost:8080/"
    },
    "id": "7e459659-ac03-4493-aeb1-c62129904682",
    "outputId": "2b97cdf5-acd9-439a-d6cc-5459e728ceef"
   },
   "outputs": [
    {
     "data": {
      "text/plain": [
       "popularity                     float64\n",
       "budget                         float64\n",
       "revenue                        float64\n",
       "original_title                  object\n",
       "cast                            object\n",
       "director                        object\n",
       "overview                        object\n",
       "runtime                          int32\n",
       "genres                          object\n",
       "production_companies            object\n",
       "release_date            datetime64[ns]\n",
       "vote_count                       int64\n",
       "vote_average                   float64\n",
       "release_year                     int64\n",
       "budget_adj                     float64\n",
       "revenue_adj                    float64\n",
       "dtype: object"
      ]
     },
     "execution_count": 18,
     "metadata": {},
     "output_type": "execute_result"
    }
   ],
   "source": [
    "# confirm data types\n",
    "df.dtypes"
   ]
  },
  {
   "cell_type": "markdown",
   "id": "5c3454be-1591-4977-af58-83612da76c45",
   "metadata": {
    "id": "5c3454be-1591-4977-af58-83612da76c45"
   },
   "source": [
    "The following columns contain multiple values separated by pipe (|) characters. Lets's rectify this"
   ]
  },
  {
   "cell_type": "code",
   "execution_count": 19,
   "id": "P5zYDtCvD-EW",
   "metadata": {
    "colab": {
     "base_uri": "https://localhost:8080/"
    },
    "id": "P5zYDtCvD-EW",
    "outputId": "d95e3e80-7cdf-4f2d-b203-a5788cc6e665"
   },
   "outputs": [
    {
     "name": "stdout",
     "output_type": "stream",
     "text": [
      "['cast', 'director', 'genres', 'production_companies']\n"
     ]
    }
   ],
   "source": [
    "columns_with_pipes = []\n",
    "\n",
    "for col in df.columns:\n",
    "    if df[col].apply(lambda x: '|' in str(x)).any():\n",
    "        columns_with_pipes.append(col)\n",
    "\n",
    "print(columns_with_pipes)"
   ]
  },
  {
   "cell_type": "code",
   "execution_count": 20,
   "id": "7SGbpJ0aEen_",
   "metadata": {
    "id": "7SGbpJ0aEen_"
   },
   "outputs": [],
   "source": [
    "columns_with_pipes = ['cast', 'director', 'genres', 'production_companies']\n",
    "\n",
    "for col in columns_with_pipes:\n",
    "    split_data = df[col].str.split('|', expand=True)\n",
    "    split_data.columns = [f\"{col}_{i+1}\" for i in range(split_data.shape[1])]\n",
    "\n",
    "    df = pd.concat([df, split_data], axis=1)\n",
    "    df.drop(col, axis=1, inplace=True)"
   ]
  },
  {
   "cell_type": "code",
   "execution_count": 21,
   "id": "69ae8c83-1190-4ff6-83f1-33c34c4d0710",
   "metadata": {
    "colab": {
     "base_uri": "https://localhost:8080/"
    },
    "id": "69ae8c83-1190-4ff6-83f1-33c34c4d0710",
    "outputId": "66b1469a-96b0-49b5-b3de-9e9455c92cad"
   },
   "outputs": [
    {
     "data": {
      "text/plain": [
       "Index(['popularity', 'budget', 'revenue', 'original_title', 'overview',\n",
       "       'runtime', 'release_date', 'vote_count', 'vote_average', 'release_year',\n",
       "       'budget_adj', 'revenue_adj', 'cast_1', 'cast_2', 'cast_3', 'cast_4',\n",
       "       'cast_5', 'director_1', 'director_2', 'director_3', 'director_4',\n",
       "       'director_5', 'director_6', 'director_7', 'director_8', 'director_9',\n",
       "       'director_10', 'director_11', 'director_12', 'genres_1', 'genres_2',\n",
       "       'genres_3', 'genres_4', 'genres_5', 'production_companies_1',\n",
       "       'production_companies_2', 'production_companies_3',\n",
       "       'production_companies_4', 'production_companies_5'],\n",
       "      dtype='object')"
      ]
     },
     "execution_count": 21,
     "metadata": {},
     "output_type": "execute_result"
    }
   ],
   "source": [
    "# columns of new dataset\n",
    "df.columns"
   ]
  },
  {
   "cell_type": "code",
   "execution_count": 22,
   "id": "ps-X32xkeevL",
   "metadata": {
    "colab": {
     "base_uri": "https://localhost:8080/",
     "height": 205
    },
    "id": "ps-X32xkeevL",
    "outputId": "e963ef1e-4009-4ac2-80b3-976c9bc086f0"
   },
   "outputs": [
    {
     "data": {
      "text/html": [
       "<div>\n",
       "<style scoped>\n",
       "    .dataframe tbody tr th:only-of-type {\n",
       "        vertical-align: middle;\n",
       "    }\n",
       "\n",
       "    .dataframe tbody tr th {\n",
       "        vertical-align: top;\n",
       "    }\n",
       "\n",
       "    .dataframe thead th {\n",
       "        text-align: right;\n",
       "    }\n",
       "</style>\n",
       "<table border=\"1\" class=\"dataframe\">\n",
       "  <thead>\n",
       "    <tr style=\"text-align: right;\">\n",
       "      <th></th>\n",
       "      <th>popularity</th>\n",
       "      <th>budget</th>\n",
       "      <th>revenue</th>\n",
       "      <th>original_title</th>\n",
       "      <th>overview</th>\n",
       "      <th>runtime</th>\n",
       "      <th>release_date</th>\n",
       "      <th>vote_count</th>\n",
       "      <th>vote_average</th>\n",
       "      <th>release_year</th>\n",
       "      <th>budget_adj</th>\n",
       "      <th>revenue_adj</th>\n",
       "      <th>cast_1</th>\n",
       "      <th>cast_2</th>\n",
       "      <th>cast_3</th>\n",
       "      <th>cast_4</th>\n",
       "      <th>cast_5</th>\n",
       "      <th>director_1</th>\n",
       "      <th>director_2</th>\n",
       "      <th>director_3</th>\n",
       "      <th>director_4</th>\n",
       "      <th>director_5</th>\n",
       "      <th>director_6</th>\n",
       "      <th>director_7</th>\n",
       "      <th>director_8</th>\n",
       "      <th>director_9</th>\n",
       "      <th>director_10</th>\n",
       "      <th>director_11</th>\n",
       "      <th>director_12</th>\n",
       "      <th>genres_1</th>\n",
       "      <th>genres_2</th>\n",
       "      <th>genres_3</th>\n",
       "      <th>genres_4</th>\n",
       "      <th>genres_5</th>\n",
       "      <th>production_companies_1</th>\n",
       "      <th>production_companies_2</th>\n",
       "      <th>production_companies_3</th>\n",
       "      <th>production_companies_4</th>\n",
       "      <th>production_companies_5</th>\n",
       "    </tr>\n",
       "  </thead>\n",
       "  <tbody>\n",
       "    <tr>\n",
       "      <th>0</th>\n",
       "      <td>32.985763</td>\n",
       "      <td>150000000.0</td>\n",
       "      <td>1.513529e+09</td>\n",
       "      <td>Jurassic World</td>\n",
       "      <td>Twenty-two years after the events of Jurassic ...</td>\n",
       "      <td>124</td>\n",
       "      <td>2015-06-09</td>\n",
       "      <td>5562</td>\n",
       "      <td>6.5</td>\n",
       "      <td>2015</td>\n",
       "      <td>1.379999e+08</td>\n",
       "      <td>1.392446e+09</td>\n",
       "      <td>Chris Pratt</td>\n",
       "      <td>Bryce Dallas Howard</td>\n",
       "      <td>Irrfan Khan</td>\n",
       "      <td>Vincent D'Onofrio</td>\n",
       "      <td>Nick Robinson</td>\n",
       "      <td>Colin Trevorrow</td>\n",
       "      <td>None</td>\n",
       "      <td>None</td>\n",
       "      <td>None</td>\n",
       "      <td>None</td>\n",
       "      <td>None</td>\n",
       "      <td>None</td>\n",
       "      <td>None</td>\n",
       "      <td>None</td>\n",
       "      <td>None</td>\n",
       "      <td>None</td>\n",
       "      <td>None</td>\n",
       "      <td>Action</td>\n",
       "      <td>Adventure</td>\n",
       "      <td>Science Fiction</td>\n",
       "      <td>Thriller</td>\n",
       "      <td>None</td>\n",
       "      <td>Universal Studios</td>\n",
       "      <td>Amblin Entertainment</td>\n",
       "      <td>Legendary Pictures</td>\n",
       "      <td>Fuji Television Network</td>\n",
       "      <td>Dentsu</td>\n",
       "    </tr>\n",
       "  </tbody>\n",
       "</table>\n",
       "</div>"
      ],
      "text/plain": [
       "   popularity       budget       revenue  original_title  \\\n",
       "0   32.985763  150000000.0  1.513529e+09  Jurassic World   \n",
       "\n",
       "                                            overview  runtime release_date  \\\n",
       "0  Twenty-two years after the events of Jurassic ...      124   2015-06-09   \n",
       "\n",
       "   vote_count  vote_average  release_year    budget_adj   revenue_adj  \\\n",
       "0        5562           6.5          2015  1.379999e+08  1.392446e+09   \n",
       "\n",
       "        cast_1               cast_2       cast_3             cast_4  \\\n",
       "0  Chris Pratt  Bryce Dallas Howard  Irrfan Khan  Vincent D'Onofrio   \n",
       "\n",
       "          cast_5       director_1 director_2 director_3 director_4 director_5  \\\n",
       "0  Nick Robinson  Colin Trevorrow       None       None       None       None   \n",
       "\n",
       "  director_6 director_7 director_8 director_9 director_10 director_11  \\\n",
       "0       None       None       None       None        None        None   \n",
       "\n",
       "  director_12 genres_1   genres_2         genres_3  genres_4 genres_5  \\\n",
       "0        None   Action  Adventure  Science Fiction  Thriller     None   \n",
       "\n",
       "  production_companies_1 production_companies_2 production_companies_3  \\\n",
       "0      Universal Studios   Amblin Entertainment     Legendary Pictures   \n",
       "\n",
       "    production_companies_4 production_companies_5  \n",
       "0  Fuji Television Network                 Dentsu  "
      ]
     },
     "execution_count": 22,
     "metadata": {},
     "output_type": "execute_result"
    }
   ],
   "source": [
    "df.head(1)"
   ]
  },
  {
   "cell_type": "markdown",
   "id": "c109abe2-6fad-4205-ad7d-4681acb0fbfb",
   "metadata": {
    "id": "c109abe2-6fad-4205-ad7d-4681acb0fbfb"
   },
   "source": [
    "**Get index labels of the new columns added to the dataframe**"
   ]
  },
  {
   "cell_type": "code",
   "execution_count": 23,
   "id": "9bc7061a-bf09-4406-b7b4-f3fddf4e2251",
   "metadata": {
    "colab": {
     "base_uri": "https://localhost:8080/"
    },
    "id": "9bc7061a-bf09-4406-b7b4-f3fddf4e2251",
    "outputId": "b188b8f6-881b-4462-9420-5542090fca50"
   },
   "outputs": [
    {
     "name": "stdout",
     "output_type": "stream",
     "text": [
      "[12, 13, 14, 15, 16]\n",
      "[17, 18, 19, 20, 21, 22, 23, 24, 25, 26, 27, 28]\n",
      "[29, 30, 31, 32, 33]\n",
      "[34, 35, 36, 37, 38]\n"
     ]
    }
   ],
   "source": [
    "# cast\n",
    "cols_to_find_cast = df.loc[:, 'cast_1':'cast_5']\n",
    "print([df.columns.get_loc(col) for col in cols_to_find_cast])\n",
    "\n",
    "# director\n",
    "cols_to_find_dir = df.loc[:, 'director_1':'director_12']\n",
    "print([df.columns.get_loc(col) for col in cols_to_find_dir])\n",
    "\n",
    "# genres\n",
    "cols_to_find_g = df.loc[:, 'genres_1':'genres_5']\n",
    "print([df.columns.get_loc(col) for col in cols_to_find_g])\n",
    "\n",
    "# production companies\n",
    "cols_to_find_pd = df.loc[:, 'production_companies_1':'production_companies_5']\n",
    "print([df.columns.get_loc(col) for col in cols_to_find_pd])"
   ]
  },
  {
   "cell_type": "code",
   "execution_count": 24,
   "id": "24de14a9-a4f2-479d-b350-12c7d6fa44ae",
   "metadata": {
    "id": "24de14a9-a4f2-479d-b350-12c7d6fa44ae"
   },
   "outputs": [],
   "source": [
    "# Concatenating all the separated columns into a single column and dropping the nan values\n",
    "\n",
    "df['casts'] = df[df.columns[12:17]].apply(lambda x: ','.join(x.dropna().astype(str)), axis=1)\n",
    "df['directors'] = df[df.columns[17:29]].apply(lambda x: ','.join(x.dropna().astype(str)), axis=1)\n",
    "df['genres'] = df[df.columns[29:34]].apply(lambda x: ','.join(x.dropna().astype(str)), axis=1)\n",
    "df['production_companies'] = df[df.columns[34:39]].apply(lambda x: ','.join(x.dropna().astype(str)), axis=1)"
   ]
  },
  {
   "cell_type": "code",
   "execution_count": 25,
   "id": "19521cdf-28d2-4165-b0ed-ed28346ffc30",
   "metadata": {
    "id": "19521cdf-28d2-4165-b0ed-ed28346ffc30"
   },
   "outputs": [],
   "source": [
    "# drop the index labels of the new columns\n",
    "df.drop(df.iloc[:, 12:39],inplace=True, axis=1)"
   ]
  },
  {
   "cell_type": "code",
   "execution_count": 26,
   "id": "icYtxeaSKe-5",
   "metadata": {
    "colab": {
     "base_uri": "https://localhost:8080/",
     "height": 424
    },
    "id": "icYtxeaSKe-5",
    "outputId": "d9a2a26e-be03-4355-cc61-a0bc96c7d2ef"
   },
   "outputs": [
    {
     "data": {
      "text/html": [
       "<div>\n",
       "<style scoped>\n",
       "    .dataframe tbody tr th:only-of-type {\n",
       "        vertical-align: middle;\n",
       "    }\n",
       "\n",
       "    .dataframe tbody tr th {\n",
       "        vertical-align: top;\n",
       "    }\n",
       "\n",
       "    .dataframe thead th {\n",
       "        text-align: right;\n",
       "    }\n",
       "</style>\n",
       "<table border=\"1\" class=\"dataframe\">\n",
       "  <thead>\n",
       "    <tr style=\"text-align: right;\">\n",
       "      <th></th>\n",
       "      <th>casts</th>\n",
       "      <th>directors</th>\n",
       "      <th>genres</th>\n",
       "      <th>production_companies</th>\n",
       "    </tr>\n",
       "  </thead>\n",
       "  <tbody>\n",
       "    <tr>\n",
       "      <th>0</th>\n",
       "      <td>Chris Pratt,Bryce Dallas Howard,Irrfan Khan,Vi...</td>\n",
       "      <td>Colin Trevorrow</td>\n",
       "      <td>Action,Adventure,Science Fiction,Thriller</td>\n",
       "      <td>Universal Studios,Amblin Entertainment,Legenda...</td>\n",
       "    </tr>\n",
       "    <tr>\n",
       "      <th>1</th>\n",
       "      <td>Tom Hardy,Charlize Theron,Hugh Keays-Byrne,Nic...</td>\n",
       "      <td>George Miller</td>\n",
       "      <td>Action,Adventure,Science Fiction,Thriller</td>\n",
       "      <td>Village Roadshow Pictures,Kennedy Miller Produ...</td>\n",
       "    </tr>\n",
       "    <tr>\n",
       "      <th>2</th>\n",
       "      <td>Shailene Woodley,Theo James,Kate Winslet,Ansel...</td>\n",
       "      <td>Robert Schwentke</td>\n",
       "      <td>Adventure,Science Fiction,Thriller</td>\n",
       "      <td>Summit Entertainment,Mandeville Films,Red Wago...</td>\n",
       "    </tr>\n",
       "    <tr>\n",
       "      <th>3</th>\n",
       "      <td>Harrison Ford,Mark Hamill,Carrie Fisher,Adam D...</td>\n",
       "      <td>J.J. Abrams</td>\n",
       "      <td>Action,Adventure,Science Fiction,Fantasy</td>\n",
       "      <td>Lucasfilm,Truenorth Productions,Bad Robot</td>\n",
       "    </tr>\n",
       "    <tr>\n",
       "      <th>4</th>\n",
       "      <td>Vin Diesel,Paul Walker,Jason Statham,Michelle ...</td>\n",
       "      <td>James Wan</td>\n",
       "      <td>Action,Crime,Thriller</td>\n",
       "      <td>Universal Pictures,Original Film,Media Rights ...</td>\n",
       "    </tr>\n",
       "    <tr>\n",
       "      <th>...</th>\n",
       "      <td>...</td>\n",
       "      <td>...</td>\n",
       "      <td>...</td>\n",
       "      <td>...</td>\n",
       "    </tr>\n",
       "    <tr>\n",
       "      <th>10822</th>\n",
       "      <td>Elizabeth Taylor,Richard Burton,George Segal,S...</td>\n",
       "      <td>Mike Nichols</td>\n",
       "      <td>Drama</td>\n",
       "      <td>Chenault Productions</td>\n",
       "    </tr>\n",
       "    <tr>\n",
       "      <th>10828</th>\n",
       "      <td>Paul Newman,Julie Andrews,Lila Kedrova,HansjÃ¶...</td>\n",
       "      <td>Alfred Hitchcock</td>\n",
       "      <td>Mystery,Thriller</td>\n",
       "      <td>Universal Pictures</td>\n",
       "    </tr>\n",
       "    <tr>\n",
       "      <th>10829</th>\n",
       "      <td>John Wayne,Robert Mitchum,James Caan,Charlene ...</td>\n",
       "      <td>Howard Hawks</td>\n",
       "      <td>Action,Western</td>\n",
       "      <td>Paramount Pictures,Laurel Productions</td>\n",
       "    </tr>\n",
       "    <tr>\n",
       "      <th>10835</th>\n",
       "      <td>Steve McQueen,Richard Attenborough,Richard Cre...</td>\n",
       "      <td>Robert Wise</td>\n",
       "      <td>Action,Adventure,Drama,War,Romance</td>\n",
       "      <td>Twentieth Century Fox Film Corporation,Solar P...</td>\n",
       "    </tr>\n",
       "    <tr>\n",
       "      <th>10848</th>\n",
       "      <td>Stephen Boyd,Raquel Welch,Edmond O'Brien,Donal...</td>\n",
       "      <td>Richard Fleischer</td>\n",
       "      <td>Adventure,Science Fiction</td>\n",
       "      <td>Twentieth Century Fox Film Corporation</td>\n",
       "    </tr>\n",
       "  </tbody>\n",
       "</table>\n",
       "<p>3854 rows × 4 columns</p>\n",
       "</div>"
      ],
      "text/plain": [
       "                                                   casts          directors  \\\n",
       "0      Chris Pratt,Bryce Dallas Howard,Irrfan Khan,Vi...    Colin Trevorrow   \n",
       "1      Tom Hardy,Charlize Theron,Hugh Keays-Byrne,Nic...      George Miller   \n",
       "2      Shailene Woodley,Theo James,Kate Winslet,Ansel...   Robert Schwentke   \n",
       "3      Harrison Ford,Mark Hamill,Carrie Fisher,Adam D...        J.J. Abrams   \n",
       "4      Vin Diesel,Paul Walker,Jason Statham,Michelle ...          James Wan   \n",
       "...                                                  ...                ...   \n",
       "10822  Elizabeth Taylor,Richard Burton,George Segal,S...       Mike Nichols   \n",
       "10828  Paul Newman,Julie Andrews,Lila Kedrova,HansjÃ¶...   Alfred Hitchcock   \n",
       "10829  John Wayne,Robert Mitchum,James Caan,Charlene ...       Howard Hawks   \n",
       "10835  Steve McQueen,Richard Attenborough,Richard Cre...        Robert Wise   \n",
       "10848  Stephen Boyd,Raquel Welch,Edmond O'Brien,Donal...  Richard Fleischer   \n",
       "\n",
       "                                          genres  \\\n",
       "0      Action,Adventure,Science Fiction,Thriller   \n",
       "1      Action,Adventure,Science Fiction,Thriller   \n",
       "2             Adventure,Science Fiction,Thriller   \n",
       "3       Action,Adventure,Science Fiction,Fantasy   \n",
       "4                          Action,Crime,Thriller   \n",
       "...                                          ...   \n",
       "10822                                      Drama   \n",
       "10828                           Mystery,Thriller   \n",
       "10829                             Action,Western   \n",
       "10835         Action,Adventure,Drama,War,Romance   \n",
       "10848                  Adventure,Science Fiction   \n",
       "\n",
       "                                    production_companies  \n",
       "0      Universal Studios,Amblin Entertainment,Legenda...  \n",
       "1      Village Roadshow Pictures,Kennedy Miller Produ...  \n",
       "2      Summit Entertainment,Mandeville Films,Red Wago...  \n",
       "3              Lucasfilm,Truenorth Productions,Bad Robot  \n",
       "4      Universal Pictures,Original Film,Media Rights ...  \n",
       "...                                                  ...  \n",
       "10822                               Chenault Productions  \n",
       "10828                                 Universal Pictures  \n",
       "10829              Paramount Pictures,Laurel Productions  \n",
       "10835  Twentieth Century Fox Film Corporation,Solar P...  \n",
       "10848             Twentieth Century Fox Film Corporation  \n",
       "\n",
       "[3854 rows x 4 columns]"
      ]
     },
     "execution_count": 26,
     "metadata": {},
     "output_type": "execute_result"
    }
   ],
   "source": [
    "# checking the new columns\n",
    "df[['casts', 'directors', 'genres', 'production_companies']]"
   ]
  },
  {
   "cell_type": "code",
   "execution_count": 27,
   "id": "b1e5b5a0-fc48-4da3-b8bc-aad7349c5ed8",
   "metadata": {
    "id": "b1e5b5a0-fc48-4da3-b8bc-aad7349c5ed8"
   },
   "outputs": [],
   "source": [
    "# copy the data to a new dataframe\n",
    "df1 = df.copy()"
   ]
  },
  {
   "cell_type": "code",
   "execution_count": 28,
   "id": "ochAXLH_Lt-8",
   "metadata": {
    "colab": {
     "base_uri": "https://localhost:8080/"
    },
    "id": "ochAXLH_Lt-8",
    "outputId": "b7d8fcbc-efa7-45c1-da52-8ebc6b687bed"
   },
   "outputs": [
    {
     "name": "stdout",
     "output_type": "stream",
     "text": [
      "<class 'pandas.core.frame.DataFrame'>\n",
      "Index: 3854 entries, 0 to 10848\n",
      "Data columns (total 16 columns):\n",
      " #   Column                Non-Null Count  Dtype         \n",
      "---  ------                --------------  -----         \n",
      " 0   popularity            3854 non-null   float64       \n",
      " 1   budget                3854 non-null   float64       \n",
      " 2   revenue               3854 non-null   float64       \n",
      " 3   original_title        3854 non-null   object        \n",
      " 4   overview              3854 non-null   object        \n",
      " 5   runtime               3854 non-null   int32         \n",
      " 6   release_date          3854 non-null   datetime64[ns]\n",
      " 7   vote_count            3854 non-null   int64         \n",
      " 8   vote_average          3854 non-null   float64       \n",
      " 9   release_year          3854 non-null   int64         \n",
      " 10  budget_adj            3854 non-null   float64       \n",
      " 11  revenue_adj           3854 non-null   float64       \n",
      " 12  casts                 3854 non-null   object        \n",
      " 13  directors             3854 non-null   object        \n",
      " 14  genres                3854 non-null   object        \n",
      " 15  production_companies  3854 non-null   object        \n",
      "dtypes: datetime64[ns](1), float64(6), int32(1), int64(2), object(6)\n",
      "memory usage: 496.8+ KB\n"
     ]
    }
   ],
   "source": [
    "df1.info()"
   ]
  },
  {
   "cell_type": "markdown",
   "id": "342fc623-da8f-4ce8-8476-834507726adc",
   "metadata": {
    "id": "342fc623-da8f-4ce8-8476-834507726adc"
   },
   "source": [
    "<a id='eda'></a>\n",
    "## Exploratory Data Analysis"
   ]
  },
  {
   "cell_type": "code",
   "execution_count": 29,
   "id": "6OVAx7TGNmpX",
   "metadata": {
    "id": "6OVAx7TGNmpX"
   },
   "outputs": [],
   "source": [
    "# custom colors\n",
    "\n",
    "my_colors = [\"#c6b34e\",\"#95354a\", \"#57b9a8\",\"#b0ddff\", \"#426872\",\"#215c97\", \"#02b6b4\",\"#b05468\",\"#cd9f62\",\"#aaaaaa\",\"#8fce00\",\"#827861\"]\n",
    "# Create a seaborn palette object\n",
    "my_palette = sns.color_palette(my_colors)\n",
    "# Use the custom palette with a seaborn function\n",
    "sns.set_palette(my_palette)\n",
    "from matplotlib.colors import ListedColormap\n",
    "colors = ['#ffffcd', '#ffeaa4', '#ffca2a','#c6b34e']\n",
    "my_cmap = sns.color_palette(colors)\n",
    "cmap = ListedColormap(colors)"
   ]
  },
  {
   "cell_type": "code",
   "execution_count": 32,
   "id": "94c6198e-00cc-44f5-bc38-f40e382d6b1e",
   "metadata": {
    "colab": {
     "base_uri": "https://localhost:8080/",
     "height": 332
    },
    "id": "94c6198e-00cc-44f5-bc38-f40e382d6b1e",
    "outputId": "34c608e7-9706-44c7-fa95-085466cbf83f",
    "scrolled": true
   },
   "outputs": [
    {
     "data": {
      "text/html": [
       "<div>\n",
       "<style scoped>\n",
       "    .dataframe tbody tr th:only-of-type {\n",
       "        vertical-align: middle;\n",
       "    }\n",
       "\n",
       "    .dataframe tbody tr th {\n",
       "        vertical-align: top;\n",
       "    }\n",
       "\n",
       "    .dataframe thead th {\n",
       "        text-align: right;\n",
       "    }\n",
       "</style>\n",
       "<table border=\"1\" class=\"dataframe\">\n",
       "  <thead>\n",
       "    <tr style=\"text-align: right;\">\n",
       "      <th></th>\n",
       "      <th>popularity</th>\n",
       "      <th>budget</th>\n",
       "      <th>revenue</th>\n",
       "      <th>runtime</th>\n",
       "      <th>vote_count</th>\n",
       "      <th>vote_average</th>\n",
       "      <th>release_year</th>\n",
       "      <th>budget_adj</th>\n",
       "      <th>revenue_adj</th>\n",
       "    </tr>\n",
       "  </thead>\n",
       "  <tbody>\n",
       "    <tr>\n",
       "      <th>popularity</th>\n",
       "      <td>1.000000</td>\n",
       "      <td>0.446987</td>\n",
       "      <td>0.615535</td>\n",
       "      <td>0.215092</td>\n",
       "      <td>0.780096</td>\n",
       "      <td>0.317866</td>\n",
       "      <td>0.173278</td>\n",
       "      <td>0.399356</td>\n",
       "      <td>0.546959</td>\n",
       "    </tr>\n",
       "    <tr>\n",
       "      <th>budget</th>\n",
       "      <td>0.446987</td>\n",
       "      <td>1.000000</td>\n",
       "      <td>0.688556</td>\n",
       "      <td>0.260977</td>\n",
       "      <td>0.556937</td>\n",
       "      <td>0.024169</td>\n",
       "      <td>0.268040</td>\n",
       "      <td>0.958520</td>\n",
       "      <td>0.533498</td>\n",
       "    </tr>\n",
       "    <tr>\n",
       "      <th>revenue</th>\n",
       "      <td>0.615535</td>\n",
       "      <td>0.688556</td>\n",
       "      <td>1.000000</td>\n",
       "      <td>0.250298</td>\n",
       "      <td>0.754567</td>\n",
       "      <td>0.227123</td>\n",
       "      <td>0.139140</td>\n",
       "      <td>0.657567</td>\n",
       "      <td>0.900882</td>\n",
       "    </tr>\n",
       "    <tr>\n",
       "      <th>runtime</th>\n",
       "      <td>0.215092</td>\n",
       "      <td>0.260977</td>\n",
       "      <td>0.250298</td>\n",
       "      <td>1.000000</td>\n",
       "      <td>0.273771</td>\n",
       "      <td>0.351712</td>\n",
       "      <td>-0.112453</td>\n",
       "      <td>0.333976</td>\n",
       "      <td>0.280505</td>\n",
       "    </tr>\n",
       "    <tr>\n",
       "      <th>vote_count</th>\n",
       "      <td>0.780096</td>\n",
       "      <td>0.556937</td>\n",
       "      <td>0.754567</td>\n",
       "      <td>0.273771</td>\n",
       "      <td>1.000000</td>\n",
       "      <td>0.387210</td>\n",
       "      <td>0.207191</td>\n",
       "      <td>0.497970</td>\n",
       "      <td>0.654688</td>\n",
       "    </tr>\n",
       "    <tr>\n",
       "      <th>vote_average</th>\n",
       "      <td>0.317866</td>\n",
       "      <td>0.024169</td>\n",
       "      <td>0.227123</td>\n",
       "      <td>0.351712</td>\n",
       "      <td>0.387210</td>\n",
       "      <td>1.000000</td>\n",
       "      <td>-0.134246</td>\n",
       "      <td>0.036803</td>\n",
       "      <td>0.266844</td>\n",
       "    </tr>\n",
       "    <tr>\n",
       "      <th>release_year</th>\n",
       "      <td>0.173278</td>\n",
       "      <td>0.268040</td>\n",
       "      <td>0.139140</td>\n",
       "      <td>-0.112453</td>\n",
       "      <td>0.207191</td>\n",
       "      <td>-0.134246</td>\n",
       "      <td>1.000000</td>\n",
       "      <td>0.075103</td>\n",
       "      <td>-0.103147</td>\n",
       "    </tr>\n",
       "    <tr>\n",
       "      <th>budget_adj</th>\n",
       "      <td>0.399356</td>\n",
       "      <td>0.958520</td>\n",
       "      <td>0.657567</td>\n",
       "      <td>0.333976</td>\n",
       "      <td>0.497970</td>\n",
       "      <td>0.036803</td>\n",
       "      <td>0.075103</td>\n",
       "      <td>1.000000</td>\n",
       "      <td>0.570451</td>\n",
       "    </tr>\n",
       "    <tr>\n",
       "      <th>revenue_adj</th>\n",
       "      <td>0.546959</td>\n",
       "      <td>0.533498</td>\n",
       "      <td>0.900882</td>\n",
       "      <td>0.280505</td>\n",
       "      <td>0.654688</td>\n",
       "      <td>0.266844</td>\n",
       "      <td>-0.103147</td>\n",
       "      <td>0.570451</td>\n",
       "      <td>1.000000</td>\n",
       "    </tr>\n",
       "  </tbody>\n",
       "</table>\n",
       "</div>"
      ],
      "text/plain": [
       "              popularity    budget   revenue   runtime  vote_count  \\\n",
       "popularity      1.000000  0.446987  0.615535  0.215092    0.780096   \n",
       "budget          0.446987  1.000000  0.688556  0.260977    0.556937   \n",
       "revenue         0.615535  0.688556  1.000000  0.250298    0.754567   \n",
       "runtime         0.215092  0.260977  0.250298  1.000000    0.273771   \n",
       "vote_count      0.780096  0.556937  0.754567  0.273771    1.000000   \n",
       "vote_average    0.317866  0.024169  0.227123  0.351712    0.387210   \n",
       "release_year    0.173278  0.268040  0.139140 -0.112453    0.207191   \n",
       "budget_adj      0.399356  0.958520  0.657567  0.333976    0.497970   \n",
       "revenue_adj     0.546959  0.533498  0.900882  0.280505    0.654688   \n",
       "\n",
       "              vote_average  release_year  budget_adj  revenue_adj  \n",
       "popularity        0.317866      0.173278    0.399356     0.546959  \n",
       "budget            0.024169      0.268040    0.958520     0.533498  \n",
       "revenue           0.227123      0.139140    0.657567     0.900882  \n",
       "runtime           0.351712     -0.112453    0.333976     0.280505  \n",
       "vote_count        0.387210      0.207191    0.497970     0.654688  \n",
       "vote_average      1.000000     -0.134246    0.036803     0.266844  \n",
       "release_year     -0.134246      1.000000    0.075103    -0.103147  \n",
       "budget_adj        0.036803      0.075103    1.000000     0.570451  \n",
       "revenue_adj       0.266844     -0.103147    0.570451     1.000000  "
      ]
     },
     "execution_count": 32,
     "metadata": {},
     "output_type": "execute_result"
    }
   ],
   "source": [
    "df1.corr(numeric_only=True)"
   ]
  },
  {
   "cell_type": "code",
   "execution_count": 33,
   "id": "74119621-bb27-4e00-8fd9-7ba2702680d5",
   "metadata": {
    "colab": {
     "base_uri": "https://localhost:8080/",
     "height": 622
    },
    "id": "74119621-bb27-4e00-8fd9-7ba2702680d5",
    "outputId": "06222348-fd30-49e9-d698-d946e696b566"
   },
   "outputs": [
    {
     "data": {
      "image/png": "[encoded data removed]",
      "text/plain": [
       "<Figure size 576x432 with 2 Axes>"
      ]
     },
     "metadata": {},
     "output_type": "display_data"
    }
   ],
   "source": [
    "plt.figure(figsize=[8, 6])\n",
    "sns.heatmap(df1.corr(numeric_only=True), xticklabels=True, annot=True, cmap=cmap)\n",
    "plt.show();"
   ]
  },
  {
   "cell_type": "markdown",
   "id": "6ba6c790-9e5b-4085-81db-0ce34741e852",
   "metadata": {
    "id": "6ba6c790-9e5b-4085-81db-0ce34741e852"
   },
   "source": [
    "### What movies had the highest and least revenue?"
   ]
  },
  {
   "cell_type": "code",
   "execution_count": 34,
   "id": "YKzJcyOoiAma",
   "metadata": {
    "colab": {
     "base_uri": "https://localhost:8080/",
     "height": 455
    },
    "id": "YKzJcyOoiAma",
    "outputId": "c8b6846d-0f15-4025-87f0-0f2ab08ab062"
   },
   "outputs": [
    {
     "data": {
      "text/html": [
       "<div>\n",
       "<style scoped>\n",
       "    .dataframe tbody tr th:only-of-type {\n",
       "        vertical-align: middle;\n",
       "    }\n",
       "\n",
       "    .dataframe tbody tr th {\n",
       "        vertical-align: top;\n",
       "    }\n",
       "\n",
       "    .dataframe thead th {\n",
       "        text-align: right;\n",
       "    }\n",
       "</style>\n",
       "<table border=\"1\" class=\"dataframe\">\n",
       "  <thead>\n",
       "    <tr style=\"text-align: right;\">\n",
       "      <th></th>\n",
       "      <th>revenue</th>\n",
       "    </tr>\n",
       "    <tr>\n",
       "      <th>original_title</th>\n",
       "      <th></th>\n",
       "    </tr>\n",
       "  </thead>\n",
       "  <tbody>\n",
       "    <tr>\n",
       "      <th>Avatar</th>\n",
       "      <td>2.781506e+09</td>\n",
       "    </tr>\n",
       "    <tr>\n",
       "      <th>Star Wars: The Force Awakens</th>\n",
       "      <td>2.068178e+09</td>\n",
       "    </tr>\n",
       "    <tr>\n",
       "      <th>Titanic</th>\n",
       "      <td>1.845034e+09</td>\n",
       "    </tr>\n",
       "    <tr>\n",
       "      <th>The Avengers</th>\n",
       "      <td>1.568081e+09</td>\n",
       "    </tr>\n",
       "    <tr>\n",
       "      <th>Jurassic World</th>\n",
       "      <td>1.513529e+09</td>\n",
       "    </tr>\n",
       "    <tr>\n",
       "      <th>...</th>\n",
       "      <td>...</td>\n",
       "    </tr>\n",
       "    <tr>\n",
       "      <th>Bordello of Blood</th>\n",
       "      <td>5.000000e+00</td>\n",
       "    </tr>\n",
       "    <tr>\n",
       "      <th>Kid's Story</th>\n",
       "      <td>5.000000e+00</td>\n",
       "    </tr>\n",
       "    <tr>\n",
       "      <th>Dr. Horrible's Sing-Along Blog</th>\n",
       "      <td>3.000000e+00</td>\n",
       "    </tr>\n",
       "    <tr>\n",
       "      <th>Mallrats</th>\n",
       "      <td>2.000000e+00</td>\n",
       "    </tr>\n",
       "    <tr>\n",
       "      <th>Shattered Glass</th>\n",
       "      <td>2.000000e+00</td>\n",
       "    </tr>\n",
       "  </tbody>\n",
       "</table>\n",
       "<p>3808 rows × 1 columns</p>\n",
       "</div>"
      ],
      "text/plain": [
       "                                     revenue\n",
       "original_title                              \n",
       "Avatar                          2.781506e+09\n",
       "Star Wars: The Force Awakens    2.068178e+09\n",
       "Titanic                         1.845034e+09\n",
       "The Avengers                    1.568081e+09\n",
       "Jurassic World                  1.513529e+09\n",
       "...                                      ...\n",
       "Bordello of Blood               5.000000e+00\n",
       "Kid's Story                     5.000000e+00\n",
       "Dr. Horrible's Sing-Along Blog  3.000000e+00\n",
       "Mallrats                        2.000000e+00\n",
       "Shattered Glass                 2.000000e+00\n",
       "\n",
       "[3808 rows x 1 columns]"
      ]
     },
     "execution_count": 34,
     "metadata": {},
     "output_type": "execute_result"
    }
   ],
   "source": [
    "df.groupby(\"original_title\")['revenue'].sum().sort_values(ascending=False).to_frame()"
   ]
  },
  {
   "cell_type": "code",
   "execution_count": 35,
   "id": "f2122883-a46f-4a2b-b616-758e9ff79577",
   "metadata": {
    "colab": {
     "base_uri": "https://localhost:8080/"
    },
    "id": "f2122883-a46f-4a2b-b616-758e9ff79577",
    "outputId": "279277a9-a2f3-46f3-8ab7-9927696f4ab8"
   },
   "outputs": [
    {
     "data": {
      "text/html": [
       "<div>\n",
       "<style scoped>\n",
       "    .dataframe tbody tr th:only-of-type {\n",
       "        vertical-align: middle;\n",
       "    }\n",
       "\n",
       "    .dataframe tbody tr th {\n",
       "        vertical-align: top;\n",
       "    }\n",
       "\n",
       "    .dataframe thead th {\n",
       "        text-align: right;\n",
       "    }\n",
       "</style>\n",
       "<table border=\"1\" class=\"dataframe\">\n",
       "  <thead>\n",
       "    <tr style=\"text-align: right;\">\n",
       "      <th></th>\n",
       "      <th>revenue</th>\n",
       "    </tr>\n",
       "    <tr>\n",
       "      <th>genres</th>\n",
       "      <th></th>\n",
       "    </tr>\n",
       "  </thead>\n",
       "  <tbody>\n",
       "    <tr>\n",
       "      <th>Comedy</th>\n",
       "      <td>1.834336e+10</td>\n",
       "    </tr>\n",
       "    <tr>\n",
       "      <th>Drama</th>\n",
       "      <td>1.427490e+10</td>\n",
       "    </tr>\n",
       "    <tr>\n",
       "      <th>Comedy,Romance</th>\n",
       "      <td>1.080661e+10</td>\n",
       "    </tr>\n",
       "    <tr>\n",
       "      <th>Adventure,Fantasy,Action</th>\n",
       "      <td>7.597484e+09</td>\n",
       "    </tr>\n",
       "    <tr>\n",
       "      <th>Animation,Family</th>\n",
       "      <td>6.572638e+09</td>\n",
       "    </tr>\n",
       "    <tr>\n",
       "      <th>...</th>\n",
       "      <td>...</td>\n",
       "    </tr>\n",
       "    <tr>\n",
       "      <th>Western,Thriller</th>\n",
       "      <td>6.147000e+03</td>\n",
       "    </tr>\n",
       "    <tr>\n",
       "      <th>Science Fiction,Adventure,Action,Comedy,Family</th>\n",
       "      <td>7.800000e+01</td>\n",
       "    </tr>\n",
       "    <tr>\n",
       "      <th>Thriller,Romance</th>\n",
       "      <td>6.000000e+00</td>\n",
       "    </tr>\n",
       "    <tr>\n",
       "      <th>Science Fiction,Animation</th>\n",
       "      <td>5.000000e+00</td>\n",
       "    </tr>\n",
       "    <tr>\n",
       "      <th>Adventure,Action,Comedy,Science Fiction,Music</th>\n",
       "      <td>3.000000e+00</td>\n",
       "    </tr>\n",
       "  </tbody>\n",
       "</table>\n",
       "<p>1053 rows × 1 columns</p>\n",
       "</div>"
      ],
      "text/plain": [
       "                                                     revenue\n",
       "genres                                                      \n",
       "Comedy                                          1.834336e+10\n",
       "Drama                                           1.427490e+10\n",
       "Comedy,Romance                                  1.080661e+10\n",
       "Adventure,Fantasy,Action                        7.597484e+09\n",
       "Animation,Family                                6.572638e+09\n",
       "...                                                      ...\n",
       "Western,Thriller                                6.147000e+03\n",
       "Science Fiction,Adventure,Action,Comedy,Family  7.800000e+01\n",
       "Thriller,Romance                                6.000000e+00\n",
       "Science Fiction,Animation                       5.000000e+00\n",
       "Adventure,Action,Comedy,Science Fiction,Music   3.000000e+00\n",
       "\n",
       "[1053 rows x 1 columns]"
      ]
     },
     "execution_count": 35,
     "metadata": {},
     "output_type": "execute_result"
    }
   ],
   "source": [
    "df1.groupby('genres')['revenue'].sum().sort_values(ascending=False).to_frame()"
   ]
  },
  {
   "cell_type": "markdown",
   "id": "38161762-4ac9-429b-a022-3ecf312f0efb",
   "metadata": {
    "id": "38161762-4ac9-429b-a022-3ecf312f0efb"
   },
   "source": [
    "We can see that comic movies generated the highest revenue while `Science Fiction,Animation` had the lowest revenue"
   ]
  },
  {
   "cell_type": "markdown",
   "id": "4202a583-6247-4d5e-ad76-1f8c4d83f5ad",
   "metadata": {
    "id": "4202a583-6247-4d5e-ad76-1f8c4d83f5ad"
   },
   "source": [
    "### What movies had the highest and least budget?"
   ]
  },
  {
   "cell_type": "code",
   "execution_count": 36,
   "id": "q086PiWeiugN",
   "metadata": {
    "colab": {
     "base_uri": "https://localhost:8080/",
     "height": 455
    },
    "id": "q086PiWeiugN",
    "outputId": "38bd2e60-8890-4286-cf8c-c74e60c9c9c2"
   },
   "outputs": [
    {
     "data": {
      "text/html": [
       "<div>\n",
       "<style scoped>\n",
       "    .dataframe tbody tr th:only-of-type {\n",
       "        vertical-align: middle;\n",
       "    }\n",
       "\n",
       "    .dataframe tbody tr th {\n",
       "        vertical-align: top;\n",
       "    }\n",
       "\n",
       "    .dataframe thead th {\n",
       "        text-align: right;\n",
       "    }\n",
       "</style>\n",
       "<table border=\"1\" class=\"dataframe\">\n",
       "  <thead>\n",
       "    <tr style=\"text-align: right;\">\n",
       "      <th></th>\n",
       "      <th>budget</th>\n",
       "    </tr>\n",
       "    <tr>\n",
       "      <th>original_title</th>\n",
       "      <th></th>\n",
       "    </tr>\n",
       "  </thead>\n",
       "  <tbody>\n",
       "    <tr>\n",
       "      <th>The Warrior's Way</th>\n",
       "      <td>425000000.0</td>\n",
       "    </tr>\n",
       "    <tr>\n",
       "      <th>Pirates of the Caribbean: On Stranger Tides</th>\n",
       "      <td>380000000.0</td>\n",
       "    </tr>\n",
       "    <tr>\n",
       "      <th>Pirates of the Caribbean: At World's End</th>\n",
       "      <td>300000000.0</td>\n",
       "    </tr>\n",
       "    <tr>\n",
       "      <th>Godzilla</th>\n",
       "      <td>290000000.0</td>\n",
       "    </tr>\n",
       "    <tr>\n",
       "      <th>Avengers: Age of Ultron</th>\n",
       "      <td>280000000.0</td>\n",
       "    </tr>\n",
       "    <tr>\n",
       "      <th>...</th>\n",
       "      <td>...</td>\n",
       "    </tr>\n",
       "    <tr>\n",
       "      <th>Boy</th>\n",
       "      <td>3.0</td>\n",
       "    </tr>\n",
       "    <tr>\n",
       "      <th>Tales from the Darkside: The Movie</th>\n",
       "      <td>3.0</td>\n",
       "    </tr>\n",
       "    <tr>\n",
       "      <th>Death Wish 2</th>\n",
       "      <td>2.0</td>\n",
       "    </tr>\n",
       "    <tr>\n",
       "      <th>Love, Wedding, Marriage</th>\n",
       "      <td>1.0</td>\n",
       "    </tr>\n",
       "    <tr>\n",
       "      <th>Lost &amp; Found</th>\n",
       "      <td>1.0</td>\n",
       "    </tr>\n",
       "  </tbody>\n",
       "</table>\n",
       "<p>3808 rows × 1 columns</p>\n",
       "</div>"
      ],
      "text/plain": [
       "                                                  budget\n",
       "original_title                                          \n",
       "The Warrior's Way                            425000000.0\n",
       "Pirates of the Caribbean: On Stranger Tides  380000000.0\n",
       "Pirates of the Caribbean: At World's End     300000000.0\n",
       "Godzilla                                     290000000.0\n",
       "Avengers: Age of Ultron                      280000000.0\n",
       "...                                                  ...\n",
       "Boy                                                  3.0\n",
       "Tales from the Darkside: The Movie                   3.0\n",
       "Death Wish 2                                         2.0\n",
       "Love, Wedding, Marriage                              1.0\n",
       "Lost & Found                                         1.0\n",
       "\n",
       "[3808 rows x 1 columns]"
      ]
     },
     "execution_count": 36,
     "metadata": {},
     "output_type": "execute_result"
    }
   ],
   "source": [
    "df1.groupby('original_title')['budget'].sum().sort_values(ascending=False).to_frame()"
   ]
  },
  {
   "cell_type": "code",
   "execution_count": 37,
   "id": "be655f9e-56ca-4852-b9ac-f06d5244eea6",
   "metadata": {
    "id": "be655f9e-56ca-4852-b9ac-f06d5244eea6",
    "outputId": "02d52464-af3b-4f48-ff1b-964d8ec2a93b"
   },
   "outputs": [
    {
     "data": {
      "text/html": [
       "<div>\n",
       "<style scoped>\n",
       "    .dataframe tbody tr th:only-of-type {\n",
       "        vertical-align: middle;\n",
       "    }\n",
       "\n",
       "    .dataframe tbody tr th {\n",
       "        vertical-align: top;\n",
       "    }\n",
       "\n",
       "    .dataframe thead th {\n",
       "        text-align: right;\n",
       "    }\n",
       "</style>\n",
       "<table border=\"1\" class=\"dataframe\">\n",
       "  <thead>\n",
       "    <tr style=\"text-align: right;\">\n",
       "      <th></th>\n",
       "      <th>budget</th>\n",
       "    </tr>\n",
       "    <tr>\n",
       "      <th>genres</th>\n",
       "      <th></th>\n",
       "    </tr>\n",
       "  </thead>\n",
       "  <tbody>\n",
       "    <tr>\n",
       "      <th>Comedy</th>\n",
       "      <td>6.160278e+09</td>\n",
       "    </tr>\n",
       "    <tr>\n",
       "      <th>Drama</th>\n",
       "      <td>5.224799e+09</td>\n",
       "    </tr>\n",
       "    <tr>\n",
       "      <th>Comedy,Romance</th>\n",
       "      <td>2.983992e+09</td>\n",
       "    </tr>\n",
       "    <tr>\n",
       "      <th>Drama,Romance</th>\n",
       "      <td>2.063387e+09</td>\n",
       "    </tr>\n",
       "    <tr>\n",
       "      <th>Comedy,Drama,Romance</th>\n",
       "      <td>1.958785e+09</td>\n",
       "    </tr>\n",
       "    <tr>\n",
       "      <th>...</th>\n",
       "      <td>...</td>\n",
       "    </tr>\n",
       "    <tr>\n",
       "      <th>Drama,Action,Comedy</th>\n",
       "      <td>3.119200e+04</td>\n",
       "    </tr>\n",
       "    <tr>\n",
       "      <th>Action,Drama,Romance</th>\n",
       "      <td>1.700000e+04</td>\n",
       "    </tr>\n",
       "    <tr>\n",
       "      <th>Science Fiction,Fantasy,Horror,Drama</th>\n",
       "      <td>1.000000e+04</td>\n",
       "    </tr>\n",
       "    <tr>\n",
       "      <th>Adventure,Drama,Action,Romance,Family</th>\n",
       "      <td>1.130000e+02</td>\n",
       "    </tr>\n",
       "    <tr>\n",
       "      <th>Science Fiction,Animation</th>\n",
       "      <td>1.000000e+01</td>\n",
       "    </tr>\n",
       "  </tbody>\n",
       "</table>\n",
       "<p>1053 rows × 1 columns</p>\n",
       "</div>"
      ],
      "text/plain": [
       "                                             budget\n",
       "genres                                             \n",
       "Comedy                                 6.160278e+09\n",
       "Drama                                  5.224799e+09\n",
       "Comedy,Romance                         2.983992e+09\n",
       "Drama,Romance                          2.063387e+09\n",
       "Comedy,Drama,Romance                   1.958785e+09\n",
       "...                                             ...\n",
       "Drama,Action,Comedy                    3.119200e+04\n",
       "Action,Drama,Romance                   1.700000e+04\n",
       "Science Fiction,Fantasy,Horror,Drama   1.000000e+04\n",
       "Adventure,Drama,Action,Romance,Family  1.130000e+02\n",
       "Science Fiction,Animation              1.000000e+01\n",
       "\n",
       "[1053 rows x 1 columns]"
      ]
     },
     "execution_count": 37,
     "metadata": {},
     "output_type": "execute_result"
    }
   ],
   "source": [
    "df1.groupby('genres')['budget'].sum().sort_values(ascending=False).to_frame()"
   ]
  },
  {
   "cell_type": "markdown",
   "id": "5d432129-1d4d-414f-9b78-a7cd84fb6b68",
   "metadata": {
    "id": "5d432129-1d4d-414f-9b78-a7cd84fb6b68"
   },
   "source": [
    "We can see that comic movies had the highest budgets while `Science Fiction,Animation` had the least budget"
   ]
  },
  {
   "cell_type": "markdown",
   "id": "459b103c-d8fb-41be-a41a-fa79941892b6",
   "metadata": {
    "id": "459b103c-d8fb-41be-a41a-fa79941892b6"
   },
   "source": [
    "### What is the distribution of movie runtimes in the dataset, and are there any outliers or unusual patterns in runtime values?"
   ]
  },
  {
   "cell_type": "code",
   "execution_count": 38,
   "id": "f38c1e5f-286c-40ad-8db9-4991366614a9",
   "metadata": {
    "id": "f38c1e5f-286c-40ad-8db9-4991366614a9",
    "outputId": "f6a10efc-36e8-4fde-e2c4-ce33b2a0a9ac"
   },
   "outputs": [
    {
     "data": {
      "image/png": "[encoded data removed]",
      "text/plain": [
       "<Figure size 576x432 with 1 Axes>"
      ]
     },
     "metadata": {},
     "output_type": "display_data"
    }
   ],
   "source": [
    "plt.figure(figsize=[8, 6])\n",
    "sns.boxplot(y=df1['runtime']).set(title='Distribution of runtime values')\n",
    "plt.show();"
   ]
  },
  {
   "cell_type": "markdown",
   "id": "0caa422b-7d6e-4504-8c46-fd028736d85e",
   "metadata": {
    "id": "0caa422b-7d6e-4504-8c46-fd028736d85e"
   },
   "source": [
    "### How has the popularity of movies changed over the years? Is there any trend or pattern in movie popularity?"
   ]
  },
  {
   "cell_type": "code",
   "execution_count": 74,
   "id": "268f29ea",
   "metadata": {
    "colab": {
     "base_uri": "https://localhost:8080/",
     "height": 458
    },
    "id": "1SJWdYA3jdXV",
    "outputId": "c9a0a640-af42-408a-e0a8-f2ff40f3e9c9"
   },
   "outputs": [
    {
     "data": {
      "image/png": "[encoded data removed]",
      "text/plain": [
       "<Figure size 640x480 with 1 Axes>"
      ]
     },
     "metadata": {},
     "output_type": "display_data"
    }
   ],
   "source": [
    "sns.lineplot(data=df1, x='release_year', y='popularity')\n",
    "plt.show();"
   ]
  },
  {
   "cell_type": "markdown",
   "id": "c3154f75",
   "metadata": {
    "id": "c3154f75"
   },
   "source": [
    "### Are there any relationships between a movie’s budget and its revenue? Can we identify any trends or correlations between these two variables?"
   ]
  },
  {
   "cell_type": "code",
   "execution_count": 47,
   "id": "68b2853f-137a-4ebd-a0db-8af2178915cb",
   "metadata": {
    "id": "68b2853f-137a-4ebd-a0db-8af2178915cb",
    "outputId": "f48245dc-f0b0-41f6-e569-b0de57c52d54"
   },
   "outputs": [
    {
     "data": {
      "image/png": "[encoded data removed]",
      "text/plain": [
       "<Figure size 576x432 with 2 Axes>"
      ]
     },
     "metadata": {},
     "output_type": "display_data"
    }
   ],
   "source": [
    "plt.figure(figsize=[8, 6])\n",
    "correlation = df[['budget', 'revenue']].corr()\n",
    "sns.heatmap(correlation, cmap=cmap, annot=True);"
   ]
  },
  {
   "cell_type": "code",
   "execution_count": 49,
   "id": "809f4668",
   "metadata": {},
   "outputs": [
    {
     "data": {
      "image/png": "[encoded data removed]",
      "text/plain": [
       "<Figure size 576x432 with 1 Axes>"
      ]
     },
     "metadata": {},
     "output_type": "display_data"
    }
   ],
   "source": [
    "plt.figure(figsize=[8, 6])\n",
    "sns.scatterplot(data=df, x='budget', y='revenue');"
   ]
  },
  {
   "cell_type": "markdown",
   "id": "76c86997",
   "metadata": {
    "id": "c3154f75"
   },
   "source": [
    "### What is the distribution of movie release years, and are there any interesting trends or patterns over time?"
   ]
  },
  {
   "cell_type": "code",
   "execution_count": null,
   "id": "c55f33db",
   "metadata": {},
   "outputs": [],
   "source": []
  },
  {
   "cell_type": "markdown",
   "id": "5b5b2bdf",
   "metadata": {
    "id": "c3154f75"
   },
   "source": [
    "### What are the most common genres in the dataset, and how does the frequency of different genres change over time?"
   ]
  },
  {
   "cell_type": "code",
   "execution_count": null,
   "id": "e4705280",
   "metadata": {},
   "outputs": [],
   "source": []
  },
  {
   "cell_type": "markdown",
   "id": "eb0738ee",
   "metadata": {
    "id": "c3154f75"
   },
   "source": [
    "### What is the distribution of movie release years, and are there any interesting trends or patterns over time?"
   ]
  },
  {
   "cell_type": "code",
   "execution_count": null,
   "id": "8d46cadd",
   "metadata": {},
   "outputs": [],
   "source": []
  },
  {
   "cell_type": "markdown",
   "id": "d6cfdba6",
   "metadata": {
    "id": "c3154f75"
   },
   "source": [
    "### Are there any notable relationships between the cast and the movie’s popularity or revenue? Can we identify any actors or actresses associated with successful movies?"
   ]
  },
  {
   "cell_type": "code",
   "execution_count": null,
   "id": "d85c19cc",
   "metadata": {},
   "outputs": [],
   "source": []
  },
  {
   "cell_type": "markdown",
   "id": "f3d9c5b3",
   "metadata": {
    "id": "c3154f75"
   },
   "source": [
    "### How does the movie’s runtime relate to its popularity or revenue? Are longer or shorter movies more popular or profitable?"
   ]
  },
  {
   "cell_type": "code",
   "execution_count": null,
   "id": "20609257",
   "metadata": {},
   "outputs": [],
   "source": []
  },
  {
   "cell_type": "markdown",
   "id": "09754c18",
   "metadata": {
    "id": "c3154f75"
   },
   "source": [
    "### What is the distribution of movie ratings (vote_average), and are there any patterns in highly-rated movies over the years?"
   ]
  },
  {
   "cell_type": "code",
   "execution_count": null,
   "id": "0e0a527a",
   "metadata": {},
   "outputs": [],
   "source": []
  },
  {
   "cell_type": "markdown",
   "id": "a8955750",
   "metadata": {
    "id": "c3154f75"
   },
   "source": [
    "### Can we identify any production companies that consistently produce high-revenue movies?"
   ]
  },
  {
   "cell_type": "code",
   "execution_count": null,
   "id": "20840710",
   "metadata": {},
   "outputs": [],
   "source": []
  },
  {
   "cell_type": "markdown",
   "id": "437efc11",
   "metadata": {
    "id": "c3154f75"
   },
   "source": [
    "### How has the inflation-adjusted budget and revenue of movies changed over time? Are movies getting more or less expensive to produce, and are they generating more revenue when adjusted for inflation?"
   ]
  },
  {
   "cell_type": "code",
   "execution_count": null,
   "id": "424e2cea",
   "metadata": {},
   "outputs": [],
   "source": []
  },
  {
   "cell_type": "markdown",
   "id": "239066e4",
   "metadata": {
    "id": "c3154f75"
   },
   "source": [
    "### Are there any patterns or correlations between different variables? For example, is there a relationship between the runtime and the budget of a movie?"
   ]
  },
  {
   "cell_type": "code",
   "execution_count": null,
   "id": "4b525a7e",
   "metadata": {},
   "outputs": [],
   "source": []
  },
  {
   "cell_type": "markdown",
   "id": "ac391176",
   "metadata": {
    "id": "c3154f75"
   },
   "source": [
    "### What are the most common keywords or themes used in movie overviews, and can we identify any trends in the type of content described in movie overviews?"
   ]
  },
  {
   "cell_type": "code",
   "execution_count": null,
   "id": "b1e69073",
   "metadata": {},
   "outputs": [],
   "source": []
  },
  {
   "cell_type": "markdown",
   "id": "31f3975f",
   "metadata": {
    "id": "c3154f75"
   },
   "source": [
    "### How does the movie’s runtime relate to its popularity or revenue? Are longer or shorter movies more popular or profitable?Are there any movies with exceptionally high or low budgets, revenues, or rat\u0002ings? What can we learn from examining these outliers?"
   ]
  },
  {
   "cell_type": "code",
   "execution_count": null,
   "id": "44a09520",
   "metadata": {},
   "outputs": [],
   "source": []
  },
  {
   "cell_type": "markdown",
   "id": "5ed47d17",
   "metadata": {
    "id": "c3154f75"
   },
   "source": [
    "### What is the overall trend in the number of movies released each year, and are there any years with a significantly higher or lower number of releases?"
   ]
  },
  {
   "cell_type": "code",
   "execution_count": null,
   "id": "8decf92a",
   "metadata": {},
   "outputs": [],
   "source": []
  },
  {
   "cell_type": "markdown",
   "id": "1fdf07c3",
   "metadata": {
    "id": "c3154f75"
   },
   "source": [
    "### Are there any trends in the cast and director combinations? Are certain actors or directors frequently paired together in movies?"
   ]
  },
  {
   "cell_type": "code",
   "execution_count": null,
   "id": "392024a2",
   "metadata": {},
   "outputs": [],
   "source": []
  },
  {
   "cell_type": "markdown",
   "id": "b3ab1992-774a-4d00-b7c9-33daed95140d",
   "metadata": {
    "id": "b3ab1992-774a-4d00-b7c9-33daed95140d"
   },
   "source": [
    "### Movies with the highest and lowest runtime."
   ]
  },
  {
   "cell_type": "code",
   "execution_count": 50,
   "id": "6a077f7f-62e5-4b19-95a6-1bcf3200d7b4",
   "metadata": {
    "colab": {
     "base_uri": "https://localhost:8080/",
     "height": 455
    },
    "id": "6a077f7f-62e5-4b19-95a6-1bcf3200d7b4",
    "outputId": "50e8c4f4-9622-4af3-c4fd-79e5f11bb2b9"
   },
   "outputs": [
    {
     "data": {
      "text/html": [
       "<div>\n",
       "<style scoped>\n",
       "    .dataframe tbody tr th:only-of-type {\n",
       "        vertical-align: middle;\n",
       "    }\n",
       "\n",
       "    .dataframe tbody tr th {\n",
       "        vertical-align: top;\n",
       "    }\n",
       "\n",
       "    .dataframe thead th {\n",
       "        text-align: right;\n",
       "    }\n",
       "</style>\n",
       "<table border=\"1\" class=\"dataframe\">\n",
       "  <thead>\n",
       "    <tr style=\"text-align: right;\">\n",
       "      <th></th>\n",
       "      <th>runtime</th>\n",
       "    </tr>\n",
       "    <tr>\n",
       "      <th>original_title</th>\n",
       "      <th></th>\n",
       "    </tr>\n",
       "  </thead>\n",
       "  <tbody>\n",
       "    <tr>\n",
       "      <th>Carlos</th>\n",
       "      <td>338</td>\n",
       "    </tr>\n",
       "    <tr>\n",
       "      <th>King Kong</th>\n",
       "      <td>321</td>\n",
       "    </tr>\n",
       "    <tr>\n",
       "      <th>The Great Gatsby</th>\n",
       "      <td>287</td>\n",
       "    </tr>\n",
       "    <tr>\n",
       "      <th>Casino Royale</th>\n",
       "      <td>275</td>\n",
       "    </tr>\n",
       "    <tr>\n",
       "      <th>The Karate Kid</th>\n",
       "      <td>266</td>\n",
       "    </tr>\n",
       "    <tr>\n",
       "      <th>...</th>\n",
       "      <td>...</td>\n",
       "    </tr>\n",
       "    <tr>\n",
       "      <th>Winnie the Pooh</th>\n",
       "      <td>63</td>\n",
       "    </tr>\n",
       "    <tr>\n",
       "      <th>Louis C.K.: Live at the Beacon Theater</th>\n",
       "      <td>62</td>\n",
       "    </tr>\n",
       "    <tr>\n",
       "      <th>Dr. Horrible's Sing-Along Blog</th>\n",
       "      <td>42</td>\n",
       "    </tr>\n",
       "    <tr>\n",
       "      <th>Mickey's Christmas Carol</th>\n",
       "      <td>26</td>\n",
       "    </tr>\n",
       "    <tr>\n",
       "      <th>Kid's Story</th>\n",
       "      <td>15</td>\n",
       "    </tr>\n",
       "  </tbody>\n",
       "</table>\n",
       "<p>3808 rows × 1 columns</p>\n",
       "</div>"
      ],
      "text/plain": [
       "                                        runtime\n",
       "original_title                                 \n",
       "Carlos                                      338\n",
       "King Kong                                   321\n",
       "The Great Gatsby                            287\n",
       "Casino Royale                               275\n",
       "The Karate Kid                              266\n",
       "...                                         ...\n",
       "Winnie the Pooh                              63\n",
       "Louis C.K.: Live at the Beacon Theater       62\n",
       "Dr. Horrible's Sing-Along Blog               42\n",
       "Mickey's Christmas Carol                     26\n",
       "Kid's Story                                  15\n",
       "\n",
       "[3808 rows x 1 columns]"
      ]
     },
     "execution_count": 50,
     "metadata": {},
     "output_type": "execute_result"
    }
   ],
   "source": [
    "df1.groupby('original_title')['runtime'].sum().sort_values(ascending=False).to_frame()"
   ]
  },
  {
   "cell_type": "code",
   "execution_count": 61,
   "id": "7044e5b2",
   "metadata": {},
   "outputs": [
    {
     "data": {
      "image/png": "[encoded data removed]",
      "text/plain": [
       "<Figure size 576x432 with 1 Axes>"
      ]
     },
     "metadata": {},
     "output_type": "display_data"
    }
   ],
   "source": [
    "# top 10 movies with the highest runtime\n",
    "plt.figure(figsize=[8, 6])\n",
    "x = df1.groupby('original_title')['runtime'].sum().sort_values(ascending=False).head(10)\n",
    "sns.barplot(x)\n",
    "plt.ylabel('Original Title')\n",
    "plt.xlabel('Runtime')\n",
    "plt.title(\"Top 10 movies with highest runtime\")\n",
    "plt.xticks(rotation=45);"
   ]
  },
  {
   "cell_type": "code",
   "execution_count": 64,
   "id": "8a20be97",
   "metadata": {},
   "outputs": [
    {
     "data": {
      "image/png": "[encoded data removed]",
      "text/plain": [
       "<Figure size 576x432 with 1 Axes>"
      ]
     },
     "metadata": {},
     "output_type": "display_data"
    }
   ],
   "source": [
    "# top 10 movies with the lowest runtime\n",
    "plt.figure(figsize=[8, 6])\n",
    "x = df1.groupby('original_title')['runtime'].sum().sort_values(ascending=False).tail(10)\n",
    "sns.barplot(x)\n",
    "plt.ylabel('Original Title')\n",
    "plt.xlabel('Runtime')\n",
    "plt.title(\"Top 10 movies with lowest runtime\")\n",
    "plt.xticks(rotation=30);"
   ]
  },
  {
   "cell_type": "markdown",
   "id": "5db9569d-1ecb-4265-8310-49155cf49749",
   "metadata": {
    "id": "5db9569d-1ecb-4265-8310-49155cf49749"
   },
   "source": [
    "### Genres with the highest and lowest runtime."
   ]
  },
  {
   "cell_type": "code",
   "execution_count": 65,
   "id": "3555d2ac-1654-49b9-a4c0-b1cb0f919bda",
   "metadata": {
    "colab": {
     "base_uri": "https://localhost:8080/"
    },
    "id": "3555d2ac-1654-49b9-a4c0-b1cb0f919bda",
    "outputId": "7d491d74-4da8-4fa8-d4d4-ac6e5818a980"
   },
   "outputs": [
    {
     "data": {
      "text/html": [
       "<div>\n",
       "<style scoped>\n",
       "    .dataframe tbody tr th:only-of-type {\n",
       "        vertical-align: middle;\n",
       "    }\n",
       "\n",
       "    .dataframe tbody tr th {\n",
       "        vertical-align: top;\n",
       "    }\n",
       "\n",
       "    .dataframe thead th {\n",
       "        text-align: right;\n",
       "    }\n",
       "</style>\n",
       "<table border=\"1\" class=\"dataframe\">\n",
       "  <thead>\n",
       "    <tr style=\"text-align: right;\">\n",
       "      <th></th>\n",
       "      <th>runtime</th>\n",
       "    </tr>\n",
       "    <tr>\n",
       "      <th>genres</th>\n",
       "      <th></th>\n",
       "    </tr>\n",
       "  </thead>\n",
       "  <tbody>\n",
       "    <tr>\n",
       "      <th>Drama</th>\n",
       "      <td>29231</td>\n",
       "    </tr>\n",
       "    <tr>\n",
       "      <th>Comedy</th>\n",
       "      <td>22982</td>\n",
       "    </tr>\n",
       "    <tr>\n",
       "      <th>Drama,Romance</th>\n",
       "      <td>12435</td>\n",
       "    </tr>\n",
       "    <tr>\n",
       "      <th>Comedy,Romance</th>\n",
       "      <td>10684</td>\n",
       "    </tr>\n",
       "    <tr>\n",
       "      <th>Comedy,Drama,Romance</th>\n",
       "      <td>9751</td>\n",
       "    </tr>\n",
       "    <tr>\n",
       "      <th>...</th>\n",
       "      <td>...</td>\n",
       "    </tr>\n",
       "    <tr>\n",
       "      <th>Music,Animation,Family,Fantasy</th>\n",
       "      <td>74</td>\n",
       "    </tr>\n",
       "    <tr>\n",
       "      <th>Action,Family</th>\n",
       "      <td>73</td>\n",
       "    </tr>\n",
       "    <tr>\n",
       "      <th>Adventure,Fantasy,Animation,Family</th>\n",
       "      <td>72</td>\n",
       "    </tr>\n",
       "    <tr>\n",
       "      <th>Adventure,Action,Comedy,Science Fiction,Music</th>\n",
       "      <td>42</td>\n",
       "    </tr>\n",
       "    <tr>\n",
       "      <th>Science Fiction,Animation</th>\n",
       "      <td>15</td>\n",
       "    </tr>\n",
       "  </tbody>\n",
       "</table>\n",
       "<p>1053 rows × 1 columns</p>\n",
       "</div>"
      ],
      "text/plain": [
       "                                               runtime\n",
       "genres                                                \n",
       "Drama                                            29231\n",
       "Comedy                                           22982\n",
       "Drama,Romance                                    12435\n",
       "Comedy,Romance                                   10684\n",
       "Comedy,Drama,Romance                              9751\n",
       "...                                                ...\n",
       "Music,Animation,Family,Fantasy                      74\n",
       "Action,Family                                       73\n",
       "Adventure,Fantasy,Animation,Family                  72\n",
       "Adventure,Action,Comedy,Science Fiction,Music       42\n",
       "Science Fiction,Animation                           15\n",
       "\n",
       "[1053 rows x 1 columns]"
      ]
     },
     "execution_count": 65,
     "metadata": {},
     "output_type": "execute_result"
    }
   ],
   "source": [
    "df1.groupby('genres')['runtime'].sum().sort_values(ascending=False).to_frame()"
   ]
  },
  {
   "cell_type": "code",
   "execution_count": 69,
   "id": "cce043c0-2ced-4af1-ac45-a9e4088b8df5",
   "metadata": {
    "colab": {
     "base_uri": "https://localhost:8080/",
     "height": 592
    },
    "id": "cce043c0-2ced-4af1-ac45-a9e4088b8df5",
    "outputId": "b7324092-a5bc-49f5-e0c3-6504285c64b3"
   },
   "outputs": [
    {
     "data": {
      "image/png": "[encoded data removed]",
      "text/plain": [
       "<Figure size 576x432 with 1 Axes>"
      ]
     },
     "metadata": {},
     "output_type": "display_data"
    }
   ],
   "source": [
    "# top 5 movies with the highest runtime\n",
    "plt.figure(figsize=[8, 6])\n",
    "x = df1.groupby('genres')['runtime'].sum().sort_values(ascending=False).head(10)\n",
    "sns.barplot(x)\n",
    "plt.xlabel('genres')\n",
    "plt.ylabel('Runtime')\n",
    "plt.xticks(rotation=45);"
   ]
  },
  {
   "cell_type": "markdown",
   "id": "fd90afd9-8456-4e51-a9ac-a0f086846654",
   "metadata": {
    "id": "fd90afd9-8456-4e51-a9ac-a0f086846654"
   },
   "source": [
    "### Most profitabale movies"
   ]
  },
  {
   "cell_type": "code",
   "execution_count": 81,
   "id": "0646e6be",
   "metadata": {
    "colab": {
     "base_uri": "https://localhost:8080/",
     "height": 546
    },
    "id": "1cd6be2a-e89e-4d4a-bb61-ecd77c1d79ab",
    "outputId": "46971830-bcc1-4940-804c-ae4ce50cac3d"
   },
   "outputs": [
    {
     "data": {
      "image/png": "[encoded data removed]",
      "text/plain": [
       "<Figure size 576x432 with 1 Axes>"
      ]
     },
     "metadata": {},
     "output_type": "display_data"
    }
   ],
   "source": [
    "df1['profit'] = df1['revenue'] - df1['budget']\n",
    "plt.figure(figsize=(8, 6))\n",
    "x = df1.groupby('original_title')['profit'].sum().sort_values(ascending=False).head(20)\n",
    "plt.scatter(x.values, x.index);"
   ]
  },
  {
   "cell_type": "markdown",
   "id": "c63f9597-d9d9-46ed-83f3-81a9a3c8e7ff",
   "metadata": {
    "id": "c63f9597-d9d9-46ed-83f3-81a9a3c8e7ff"
   },
   "source": [
    "### Hit movies!(most popular movies)"
   ]
  },
  {
   "cell_type": "code",
   "execution_count": 84,
   "id": "9afb5ff0-1870-485a-a708-9369bb84bab9",
   "metadata": {
    "colab": {
     "base_uri": "https://localhost:8080/"
    },
    "id": "9afb5ff0-1870-485a-a708-9369bb84bab9",
    "outputId": "18b67bf0-e694-49e5-f4dc-e7f6667f0bf4"
   },
   "outputs": [
    {
     "data": {
      "text/html": [
       "<div>\n",
       "<style scoped>\n",
       "    .dataframe tbody tr th:only-of-type {\n",
       "        vertical-align: middle;\n",
       "    }\n",
       "\n",
       "    .dataframe tbody tr th {\n",
       "        vertical-align: top;\n",
       "    }\n",
       "\n",
       "    .dataframe thead th {\n",
       "        text-align: right;\n",
       "    }\n",
       "</style>\n",
       "<table border=\"1\" class=\"dataframe\">\n",
       "  <thead>\n",
       "    <tr style=\"text-align: right;\">\n",
       "      <th></th>\n",
       "      <th>popularity</th>\n",
       "    </tr>\n",
       "    <tr>\n",
       "      <th>original_title</th>\n",
       "      <th></th>\n",
       "    </tr>\n",
       "  </thead>\n",
       "  <tbody>\n",
       "    <tr>\n",
       "      <th>Jurassic World</th>\n",
       "      <td>32.985763</td>\n",
       "    </tr>\n",
       "    <tr>\n",
       "      <th>Mad Max: Fury Road</th>\n",
       "      <td>28.419936</td>\n",
       "    </tr>\n",
       "    <tr>\n",
       "      <th>Interstellar</th>\n",
       "      <td>24.949134</td>\n",
       "    </tr>\n",
       "    <tr>\n",
       "      <th>Guardians of the Galaxy</th>\n",
       "      <td>14.311205</td>\n",
       "    </tr>\n",
       "    <tr>\n",
       "      <th>Insurgent</th>\n",
       "      <td>13.112507</td>\n",
       "    </tr>\n",
       "    <tr>\n",
       "      <th>...</th>\n",
       "      <td>...</td>\n",
       "    </tr>\n",
       "    <tr>\n",
       "      <th>The Bad News Bears</th>\n",
       "      <td>0.017498</td>\n",
       "    </tr>\n",
       "    <tr>\n",
       "      <th>The In Crowd</th>\n",
       "      <td>0.015997</td>\n",
       "    </tr>\n",
       "    <tr>\n",
       "      <th>Spacehunter: Adventures in the Forbidden Zone</th>\n",
       "      <td>0.015727</td>\n",
       "    </tr>\n",
       "    <tr>\n",
       "      <th>Ð¡Ñ‚Ð°Ð»Ð¸Ð½Ð³Ñ€Ð°Ð´</th>\n",
       "      <td>0.010335</td>\n",
       "    </tr>\n",
       "    <tr>\n",
       "      <th>Born into Brothels</th>\n",
       "      <td>0.001117</td>\n",
       "    </tr>\n",
       "  </tbody>\n",
       "</table>\n",
       "<p>3808 rows × 1 columns</p>\n",
       "</div>"
      ],
      "text/plain": [
       "                                               popularity\n",
       "original_title                                           \n",
       "Jurassic World                                  32.985763\n",
       "Mad Max: Fury Road                              28.419936\n",
       "Interstellar                                    24.949134\n",
       "Guardians of the Galaxy                         14.311205\n",
       "Insurgent                                       13.112507\n",
       "...                                                   ...\n",
       "The Bad News Bears                               0.017498\n",
       "The In Crowd                                     0.015997\n",
       "Spacehunter: Adventures in the Forbidden Zone    0.015727\n",
       "Ð¡Ñ‚Ð°Ð»Ð¸Ð½Ð³Ñ€Ð°Ð´                             0.010335\n",
       "Born into Brothels                               0.001117\n",
       "\n",
       "[3808 rows x 1 columns]"
      ]
     },
     "execution_count": 84,
     "metadata": {},
     "output_type": "execute_result"
    }
   ],
   "source": [
    "df1.groupby('original_title')['popularity'].mean().sort_values(ascending=False).to_frame()"
   ]
  },
  {
   "cell_type": "code",
   "execution_count": 86,
   "id": "xkudp9hKqRH4",
   "metadata": {
    "colab": {
     "base_uri": "https://localhost:8080/",
     "height": 645
    },
    "id": "xkudp9hKqRH4",
    "outputId": "6f3dd6aa-fb16-43bd-fa18-45e4c4ece172"
   },
   "outputs": [
    {
     "data": {
      "image/png": "[encoded data removed]",
      "text/plain": [
       "<Figure size 576x432 with 1 Axes>"
      ]
     },
     "metadata": {},
     "output_type": "display_data"
    }
   ],
   "source": [
    "x = df1.groupby('original_title')['popularity'].mean().sort_values(ascending=False).head(10)\n",
    "plt.figure(figsize=(8, 6))\n",
    "sns.barplot(x)\n",
    "plt.xticks(rotation=45)\n",
    "plt.show();"
   ]
  },
  {
   "cell_type": "code",
   "execution_count": 87,
   "id": "1bfb9d29-4496-4a32-ae22-dd7672dd5cbe",
   "metadata": {
    "colab": {
     "base_uri": "https://localhost:8080/"
    },
    "id": "1bfb9d29-4496-4a32-ae22-dd7672dd5cbe",
    "outputId": "3aa88ddb-c9e2-4ac9-e3d2-dc485c375df6"
   },
   "outputs": [
    {
     "name": "stdout",
     "output_type": "stream",
     "text": [
      "The most popular movie is \"Jurassic World\"\n",
      "The least popular movie is \"Born into Brothels\"\n"
     ]
    }
   ],
   "source": [
    "print('The most popular movie is \"{}\"'.format(df1.groupby('original_title')['popularity'].mean().sort_values(ascending=False).idxmax()))\n",
    "print('The least popular movie is \"{}\"'.format(df1.groupby('original_title')['popularity'].mean().sort_values(ascending=False).idxmin()))"
   ]
  },
  {
   "cell_type": "markdown",
   "id": "878d1f45-b0fd-468a-8979-7a5ed06a215c",
   "metadata": {
    "id": "878d1f45-b0fd-468a-8979-7a5ed06a215c"
   },
   "source": [
    "### Number of movie genres released over the years"
   ]
  },
  {
   "cell_type": "code",
   "execution_count": 88,
   "id": "1c18ff8d-492c-4311-adc6-31f056fa567b",
   "metadata": {
    "colab": {
     "base_uri": "https://localhost:8080/"
    },
    "id": "1c18ff8d-492c-4311-adc6-31f056fa567b",
    "outputId": "64a8f255-66af-4786-d360-76fab8a1903f",
    "scrolled": true,
    "tags": []
   },
   "outputs": [
    {
     "data": {
      "text/plain": [
       "release_year\n",
       "1960      5\n",
       "1961     10\n",
       "1962      7\n",
       "1963      6\n",
       "1964      7\n",
       "1965      5\n",
       "1966      5\n",
       "1967     13\n",
       "1968      9\n",
       "1969      4\n",
       "1970     11\n",
       "1971     13\n",
       "1972      8\n",
       "1973     12\n",
       "1974     13\n",
       "1975      9\n",
       "1976     15\n",
       "1977     19\n",
       "1978     17\n",
       "1979     16\n",
       "1980     23\n",
       "1981     30\n",
       "1982     26\n",
       "1983     31\n",
       "1984     42\n",
       "1985     41\n",
       "1986     48\n",
       "1987     46\n",
       "1988     57\n",
       "1989     51\n",
       "1990     53\n",
       "1991     50\n",
       "1992     53\n",
       "1993     72\n",
       "1994     62\n",
       "1995     81\n",
       "1996     86\n",
       "1997     90\n",
       "1998     92\n",
       "1999    116\n",
       "2000    106\n",
       "2001    121\n",
       "2002    127\n",
       "2003    121\n",
       "2004    147\n",
       "2005    163\n",
       "2006    169\n",
       "2007    165\n",
       "2008    167\n",
       "2009    174\n",
       "2010    178\n",
       "2011    199\n",
       "2012    158\n",
       "2013    180\n",
       "2014    165\n",
       "2015    160\n",
       "Name: genres, dtype: int64"
      ]
     },
     "execution_count": 88,
     "metadata": {},
     "output_type": "execute_result"
    }
   ],
   "source": [
    "# number of genres released over the years\n",
    "df1.groupby('release_year')['genres'].count()"
   ]
  },
  {
   "cell_type": "code",
   "execution_count": 115,
   "id": "d055e8d7-8fff-4691-9fd5-32720c2884e2",
   "metadata": {
    "colab": {
     "base_uri": "https://localhost:8080/",
     "height": 434
    },
    "id": "d055e8d7-8fff-4691-9fd5-32720c2884e2",
    "outputId": "38e4d104-b1bf-4089-807c-ef91372d59af"
   },
   "outputs": [
    {
     "data": {
      "image/png": "[encoded data removed]",
      "text/plain": [
       "<Figure size 640x480 with 1 Axes>"
      ]
     },
     "metadata": {},
     "output_type": "display_data"
    }
   ],
   "source": [
    "x = df1.groupby('release_year')['genres'].count()\n",
    "plt.plot(x.index, x.values)\n",
    "plt.ylabel('Number of genres')\n",
    "plt.show();"
   ]
  },
  {
   "cell_type": "markdown",
   "id": "eefd69e5-2216-46c7-811e-755eafd62c63",
   "metadata": {
    "id": "eefd69e5-2216-46c7-811e-755eafd62c63"
   },
   "source": [
    "### Most popular genres"
   ]
  },
  {
   "cell_type": "code",
   "execution_count": 98,
   "id": "0f2080f1-c852-44fe-a365-f6796d0afe65",
   "metadata": {
    "id": "0f2080f1-c852-44fe-a365-f6796d0afe65",
    "outputId": "6eebf218-7e32-4bef-a5ff-aa0655f19716"
   },
   "outputs": [
    {
     "data": {
      "text/html": [
       "<div>\n",
       "<style scoped>\n",
       "    .dataframe tbody tr th:only-of-type {\n",
       "        vertical-align: middle;\n",
       "    }\n",
       "\n",
       "    .dataframe tbody tr th {\n",
       "        vertical-align: top;\n",
       "    }\n",
       "\n",
       "    .dataframe thead th {\n",
       "        text-align: right;\n",
       "    }\n",
       "</style>\n",
       "<table border=\"1\" class=\"dataframe\">\n",
       "  <thead>\n",
       "    <tr style=\"text-align: right;\">\n",
       "      <th></th>\n",
       "      <th>popularity</th>\n",
       "    </tr>\n",
       "    <tr>\n",
       "      <th>genres</th>\n",
       "      <th></th>\n",
       "    </tr>\n",
       "  </thead>\n",
       "  <tbody>\n",
       "    <tr>\n",
       "      <th>Adventure,Drama,Science Fiction</th>\n",
       "      <td>24.949134</td>\n",
       "    </tr>\n",
       "    <tr>\n",
       "      <th>Adventure,Science Fiction,Thriller</th>\n",
       "      <td>13.112507</td>\n",
       "    </tr>\n",
       "    <tr>\n",
       "      <th>Action,Adventure,Science Fiction,Fantasy</th>\n",
       "      <td>11.173104</td>\n",
       "    </tr>\n",
       "    <tr>\n",
       "      <th>Action,Adventure,Science Fiction,Thriller</th>\n",
       "      <td>10.968489</td>\n",
       "    </tr>\n",
       "    <tr>\n",
       "      <th>Science Fiction,Adventure,Thriller</th>\n",
       "      <td>10.739009</td>\n",
       "    </tr>\n",
       "    <tr>\n",
       "      <th>...</th>\n",
       "      <td>...</td>\n",
       "    </tr>\n",
       "    <tr>\n",
       "      <th>Drama,Action,Comedy</th>\n",
       "      <td>0.092519</td>\n",
       "    </tr>\n",
       "    <tr>\n",
       "      <th>Drama,Comedy,Romance,Foreign</th>\n",
       "      <td>0.087942</td>\n",
       "    </tr>\n",
       "    <tr>\n",
       "      <th>Action,Comedy,Thriller,Crime,Mystery</th>\n",
       "      <td>0.078482</td>\n",
       "    </tr>\n",
       "    <tr>\n",
       "      <th>Comedy,Foreign,Romance</th>\n",
       "      <td>0.063177</td>\n",
       "    </tr>\n",
       "    <tr>\n",
       "      <th>Action,Adventure,Comedy,Family,Thriller</th>\n",
       "      <td>0.018196</td>\n",
       "    </tr>\n",
       "  </tbody>\n",
       "</table>\n",
       "<p>1053 rows × 1 columns</p>\n",
       "</div>"
      ],
      "text/plain": [
       "                                           popularity\n",
       "genres                                               \n",
       "Adventure,Drama,Science Fiction             24.949134\n",
       "Adventure,Science Fiction,Thriller          13.112507\n",
       "Action,Adventure,Science Fiction,Fantasy    11.173104\n",
       "Action,Adventure,Science Fiction,Thriller   10.968489\n",
       "Science Fiction,Adventure,Thriller          10.739009\n",
       "...                                               ...\n",
       "Drama,Action,Comedy                          0.092519\n",
       "Drama,Comedy,Romance,Foreign                 0.087942\n",
       "Action,Comedy,Thriller,Crime,Mystery         0.078482\n",
       "Comedy,Foreign,Romance                       0.063177\n",
       "Action,Adventure,Comedy,Family,Thriller      0.018196\n",
       "\n",
       "[1053 rows x 1 columns]"
      ]
     },
     "execution_count": 98,
     "metadata": {},
     "output_type": "execute_result"
    }
   ],
   "source": [
    "df.groupby('genres')['popularity'].mean().sort_values(ascending=False).to_frame()"
   ]
  },
  {
   "cell_type": "markdown",
   "id": "1e303c55-6c50-47e7-83d0-24022c250e0b",
   "metadata": {
    "id": "1e303c55-6c50-47e7-83d0-24022c250e0b"
   },
   "source": [
    "Action movies"
   ]
  },
  {
   "cell_type": "code",
   "execution_count": 99,
   "id": "05c3cd37-5f3c-46ac-b252-99b6e3a240bd",
   "metadata": {
    "id": "05c3cd37-5f3c-46ac-b252-99b6e3a240bd",
    "outputId": "3142ee80-a9c5-487f-f602-b0528b7672b8"
   },
   "outputs": [
    {
     "data": {
      "text/plain": [
       "25       2015\n",
       "1456     2009\n",
       "1471     2009\n",
       "1938     2010\n",
       "1975     2010\n",
       "2772     2001\n",
       "2932     2008\n",
       "3924     2002\n",
       "4484     2012\n",
       "4988     2003\n",
       "5130     2003\n",
       "5135     2003\n",
       "6229     2005\n",
       "6260     2005\n",
       "6313     2005\n",
       "6681     2006\n",
       "6763     2006\n",
       "7142     2004\n",
       "7586     2007\n",
       "9455     1988\n",
       "10364    1993\n",
       "Name: release_year, dtype: int64"
      ]
     },
     "execution_count": 99,
     "metadata": {},
     "output_type": "execute_result"
    }
   ],
   "source": [
    "df_group = df1.groupby('genres')\n",
    "df_group.get_group('Action')['release_year']"
   ]
  },
  {
   "cell_type": "code",
   "execution_count": null,
   "id": "a2589036-ac08-49c9-b09a-6a175692dee9",
   "metadata": {
    "id": "a2589036-ac08-49c9-b09a-6a175692dee9",
    "outputId": "55ce42e7-c5ca-4e7c-f5d0-d9c451364f67"
   },
   "outputs": [
    {
     "data": {
      "text/plain": [
       "Text(0.5, 1.0, 'Action movie releases over time')"
      ]
     },
     "execution_count": 93,
     "metadata": {},
     "output_type": "execute_result"
    },
    {
     "data": {
      "image/png": "[encoded data removed]",
      "text/plain": [
       "<Figure size 432x288 with 1 Axes>"
      ]
     },
     "metadata": {},
     "output_type": "display_data"
    }
   ],
   "source": [
    "x = df_group.get_group('Action')['release_year']\n",
    "sns.lineplot(x.index, x.values)\n",
    "plt.xlabel('year')\n",
    "plt.ylabel('Number of Action movies')\n",
    "plt.title('Action movie releases over time')"
   ]
  },
  {
   "cell_type": "code",
   "execution_count": 103,
   "id": "26bbd47a-3ef8-4390-a5b8-098d0f81c313",
   "metadata": {
    "id": "26bbd47a-3ef8-4390-a5b8-098d0f81c313",
    "outputId": "5ed7d90a-ad24-49ec-8848-dc091c682659"
   },
   "outputs": [
    {
     "data": {
      "text/html": [
       "<div>\n",
       "<style scoped>\n",
       "    .dataframe tbody tr th:only-of-type {\n",
       "        vertical-align: middle;\n",
       "    }\n",
       "\n",
       "    .dataframe tbody tr th {\n",
       "        vertical-align: top;\n",
       "    }\n",
       "\n",
       "    .dataframe thead th {\n",
       "        text-align: right;\n",
       "    }\n",
       "</style>\n",
       "<table border=\"1\" class=\"dataframe\">\n",
       "  <thead>\n",
       "    <tr style=\"text-align: right;\">\n",
       "      <th></th>\n",
       "      <th>revenue_adj</th>\n",
       "    </tr>\n",
       "    <tr>\n",
       "      <th>genres</th>\n",
       "      <th></th>\n",
       "    </tr>\n",
       "  </thead>\n",
       "  <tbody>\n",
       "    <tr>\n",
       "      <th>Action</th>\n",
       "      <td>1.157285e+08</td>\n",
       "    </tr>\n",
       "    <tr>\n",
       "      <th>Action,Adventure</th>\n",
       "      <td>1.391337e+08</td>\n",
       "    </tr>\n",
       "    <tr>\n",
       "      <th>Action,Adventure,Animation,Family,Fantasy</th>\n",
       "      <td>5.380038e+08</td>\n",
       "    </tr>\n",
       "    <tr>\n",
       "      <th>Action,Adventure,Animation,Family,Science Fiction</th>\n",
       "      <td>7.289654e+08</td>\n",
       "    </tr>\n",
       "    <tr>\n",
       "      <th>Action,Adventure,Animation,Science Fiction</th>\n",
       "      <td>5.298017e+06</td>\n",
       "    </tr>\n",
       "    <tr>\n",
       "      <th>...</th>\n",
       "      <td>...</td>\n",
       "    </tr>\n",
       "    <tr>\n",
       "      <th>Western,Drama</th>\n",
       "      <td>1.766125e+06</td>\n",
       "    </tr>\n",
       "    <tr>\n",
       "      <th>Western,Drama,Adventure,Thriller</th>\n",
       "      <td>4.903142e+08</td>\n",
       "    </tr>\n",
       "    <tr>\n",
       "      <th>Western,History</th>\n",
       "      <td>4.179465e+07</td>\n",
       "    </tr>\n",
       "    <tr>\n",
       "      <th>Western,History,War</th>\n",
       "      <td>2.980774e+07</td>\n",
       "    </tr>\n",
       "    <tr>\n",
       "      <th>Western,Thriller</th>\n",
       "      <td>5.753797e+03</td>\n",
       "    </tr>\n",
       "  </tbody>\n",
       "</table>\n",
       "<p>1053 rows × 1 columns</p>\n",
       "</div>"
      ],
      "text/plain": [
       "                                                    revenue_adj\n",
       "genres                                                         \n",
       "Action                                             1.157285e+08\n",
       "Action,Adventure                                   1.391337e+08\n",
       "Action,Adventure,Animation,Family,Fantasy          5.380038e+08\n",
       "Action,Adventure,Animation,Family,Science Fiction  7.289654e+08\n",
       "Action,Adventure,Animation,Science Fiction         5.298017e+06\n",
       "...                                                         ...\n",
       "Western,Drama                                      1.766125e+06\n",
       "Western,Drama,Adventure,Thriller                   4.903142e+08\n",
       "Western,History                                    4.179465e+07\n",
       "Western,History,War                                2.980774e+07\n",
       "Western,Thriller                                   5.753797e+03\n",
       "\n",
       "[1053 rows x 1 columns]"
      ]
     },
     "execution_count": 103,
     "metadata": {},
     "output_type": "execute_result"
    }
   ],
   "source": [
    "func_dict = {'revenue_adj': 'mean'}\n",
    "df1.groupby('genres').aggregate(func_dict)"
   ]
  },
  {
   "cell_type": "code",
   "execution_count": 104,
   "id": "ed88dc8e-9fe3-4bcd-b0a4-1b0754c0f36e",
   "metadata": {
    "id": "ed88dc8e-9fe3-4bcd-b0a4-1b0754c0f36e",
    "outputId": "cb0c36e0-bc72-463a-98eb-d6d57f28858d"
   },
   "outputs": [
    {
     "data": {
      "text/plain": [
       "genres\n",
       "Horror,Thriller,Adventure                         1.907006e+09\n",
       "Action,Adventure,Science Fiction,Fantasy          1.902723e+09\n",
       "Science Fiction,Adventure,Family,Fantasy          1.791694e+09\n",
       "Crime,Drama,Mystery,Thriller,Action               1.583050e+09\n",
       "Family,Animation,Drama                            1.159592e+09\n",
       "                                                      ...     \n",
       "Western,Thriller                                  5.753797e+03\n",
       "Science Fiction,Adventure,Action,Comedy,Family    1.248852e+02\n",
       "Thriller,Romance                                  8.585801e+00\n",
       "Science Fiction,Animation                         5.926763e+00\n",
       "Adventure,Action,Comedy,Science Fiction,Music     3.038360e+00\n",
       "Name: revenue_adj, Length: 1053, dtype: float64"
      ]
     },
     "execution_count": 104,
     "metadata": {},
     "output_type": "execute_result"
    }
   ],
   "source": [
    "x = df1.groupby('genres').aggregate(func_dict)\n",
    "x['revenue_adj'].sort_values(ascending=False)"
   ]
  },
  {
   "cell_type": "markdown",
   "id": "1e58a657-e7a5-4e0d-b55c-80d13999d1bd",
   "metadata": {
    "id": "1e58a657-e7a5-4e0d-b55c-80d13999d1bd"
   },
   "source": [
    "### Month with highest number of movie releases"
   ]
  },
  {
   "cell_type": "code",
   "execution_count": 106,
   "id": "90f1557e-688f-4a43-9df0-9f79422a0c85",
   "metadata": {
    "id": "90f1557e-688f-4a43-9df0-9f79422a0c85"
   },
   "outputs": [],
   "source": [
    "df1['month'] = df1['release_date'].dt.month_name()"
   ]
  },
  {
   "cell_type": "code",
   "execution_count": 107,
   "id": "3c6a789f-60a7-4923-93d9-810742dc6df5",
   "metadata": {
    "id": "3c6a789f-60a7-4923-93d9-810742dc6df5",
    "outputId": "31555858-99af-4180-9e43-188c7c26b05d"
   },
   "outputs": [
    {
     "data": {
      "text/plain": [
       "month\n",
       "September    460\n",
       "December     415\n",
       "October      363\n",
       "June         340\n",
       "August       337\n",
       "July         316\n",
       "November     304\n",
       "May          291\n",
       "March        279\n",
       "April        267\n",
       "February     257\n",
       "January      225\n",
       "Name: genres, dtype: int64"
      ]
     },
     "execution_count": 107,
     "metadata": {},
     "output_type": "execute_result"
    }
   ],
   "source": [
    "df1.groupby('month')['genres'].size().sort_values(ascending=False)"
   ]
  },
  {
   "cell_type": "code",
   "execution_count": 116,
   "id": "8d25dff8",
   "metadata": {
    "id": "7211635c-832e-45b4-ba24-90147345d646",
    "outputId": "09f5ed9c-eb44-4f4b-d299-959e4265f04b"
   },
   "outputs": [
    {
     "data": {
      "image/png": "[encoded data removed]",
      "text/plain": [
       "<Figure size 864x432 with 1 Axes>"
      ]
     },
     "metadata": {},
     "output_type": "display_data"
    }
   ],
   "source": [
    "plt.figure(figsize=(12, 6))\n",
    "x = df1.groupby('month')['genres'].size().sort_values(ascending=False)\n",
    "sns.barplot(x).set(title='Movie releases per month', xlabel='Month', ylabel='Number of movies');"
   ]
  },
  {
   "cell_type": "markdown",
   "id": "c34917b6-4837-459b-8bb9-5f8411ab4e86",
   "metadata": {
    "id": "c34917b6-4837-459b-8bb9-5f8411ab4e86"
   },
   "source": [
    "### Day with highest number of movie release"
   ]
  },
  {
   "cell_type": "code",
   "execution_count": 111,
   "id": "eecddeb1-a09d-458b-9660-e1c066e771c5",
   "metadata": {
    "id": "eecddeb1-a09d-458b-9660-e1c066e771c5",
    "outputId": "db0e060d-e655-49c7-8cb4-9fd3c35f1d5a"
   },
   "outputs": [
    {
     "data": {
      "text/plain": [
       "day\n",
       "Friday       1665\n",
       "Thursday      760\n",
       "Wednesday     656\n",
       "Tuesday       293\n",
       "Monday        180\n",
       "Saturday      160\n",
       "Sunday        140\n",
       "Name: genres, dtype: int64"
      ]
     },
     "execution_count": 111,
     "metadata": {},
     "output_type": "execute_result"
    }
   ],
   "source": [
    "df1['day'] = df1['release_date'].dt.day_name()\n",
    "df1.groupby('day')['genres'].size().sort_values(ascending=False)"
   ]
  },
  {
   "cell_type": "code",
   "execution_count": 117,
   "id": "d8110fed",
   "metadata": {
    "id": "81dd8a40-da21-48e0-9ee2-aec1cb9d3452",
    "outputId": "420d9ad4-6f29-4225-b90a-f636695196a1"
   },
   "outputs": [
    {
     "data": {
      "image/png": "[encoded data removed]",
      "text/plain": [
       "<Figure size 864x432 with 1 Axes>"
      ]
     },
     "metadata": {},
     "output_type": "display_data"
    }
   ],
   "source": [
    "plt.figure(figsize=(12, 6))\n",
    "x = df1.groupby('day')['genres'].size().sort_values(ascending=False)\n",
    "sns.barplot(x).set(title='Movie releases per day', xlabel='Day', ylabel='Number of movies');"
   ]
  },
  {
   "cell_type": "code",
   "execution_count": null,
   "id": "e2533e1f",
   "metadata": {},
   "outputs": [],
   "source": []
  }
 ],
 "metadata": {
  "colab": {
   "provenance": []
  },
  "kernelspec": {
   "display_name": "Python 3 (ipykernel)",
   "language": "python",
   "name": "python3"
  },
  "language_info": {
   "codemirror_mode": {
    "name": "ipython",
    "version": 3
   },
   "file_extension": ".py",
   "mimetype": "text/x-python",
   "name": "python",
   "nbconvert_exporter": "python",
   "pygments_lexer": "ipython3",
   "version": "3.9.12"
  }
 },
 "nbformat": 4,
 "nbformat_minor": 5
}
